{
 "cells": [
  {
   "cell_type": "markdown",
   "id": "6214d585-79f7-4db7-b84a-43ef92cf3c03",
   "metadata": {},
   "source": [
    "## First Attempt\n",
    "\n",
    "This is slightly wrong but I still don't know why the objective function can be negative"
   ]
  },
  {
   "cell_type": "code",
   "execution_count": 18,
   "id": "57c2d74b-0cfa-4f16-9c37-86e001bdbab5",
   "metadata": {},
   "outputs": [],
   "source": [
    "import gurobipy as gp\n",
    "from gurobipy import GRB\n",
    "import numpy as np"
   ]
  },
  {
   "cell_type": "code",
   "execution_count": 19,
   "id": "f66cee78-60e9-4640-8cf8-6694dcd62294",
   "metadata": {},
   "outputs": [],
   "source": [
    "stations = ['station 1', 'station 2', 'station 3', 'station 4', 'station 5']\n",
    "start_levels = {'station 1': 21, 'station 2': 3, 'station 3': 0, 'station 4': 48, 'station 5': 9}\n",
    "optimal_levels = {'station 1': 15, 'station 2': 12, 'station 3': 18, 'station 4': 12, 'station 5': 24}\n",
    "over_stations, under_stations = [], []\n",
    "\n",
    "# fill over, under stations\n",
    "for station in stations:\n",
    "    if start_levels[station] >= optimal_levels[station]:\n",
    "        over_stations.append(station)\n",
    "    elif start_levels[station] <= optimal_levels[station]:\n",
    "        under_stations.append(station)\n",
    "        \n",
    "T = 10 # number of time steps\n",
    "K = 2 # number of trucks\n",
    "L = 3 # number of bikes that can be moved in one time step"
   ]
  },
  {
   "cell_type": "code",
   "execution_count": 20,
   "id": "0a00eaa9-41a2-471b-af7e-99b91c574e5d",
   "metadata": {},
   "outputs": [],
   "source": [
    "model = gp.Model(\"bike_rebalancing\")\n",
    "# N = G.nodes()\n",
    "# What is this for??"
   ]
  },
  {
   "cell_type": "code",
   "execution_count": 21,
   "id": "b4a45f8d-5ffd-4ae5-bc73-cc4f9b1a282a",
   "metadata": {},
   "outputs": [],
   "source": [
    "'''\n",
    "decision variables: \n",
    "x: whether or not truck k is at station s at time t\n",
    "y: number of bikes available to truck k is at station s at time t\n",
    "b: number of bikes in truck k at time t\n",
    "'''\n",
    "x, y, b = {}, {}, {}\n",
    "\n",
    "for t in range(1, T+1):\n",
    "    for k in range(1, K+1):\n",
    "        for s in stations:\n",
    "            x[s,t,k] = model.addVar(name=\"x_%s,%s,%s\"%(s,t,k), vtype=GRB.BINARY)\n",
    "            y[s,t,k] = model.addVar(name=\"x_%s,%s,%s\"%(s,t,k), vtype=GRB.INTEGER)\n",
    "        b[t,k] = model.addVar(name=\"b_%s,%s\"%(t,k), vtype=GRB.INTEGER)\n",
    "\n",
    "model.update()"
   ]
  },
  {
   "cell_type": "code",
   "execution_count": 22,
   "id": "e2ff9add-f065-41bd-9847-9bf1adc86f3d",
   "metadata": {},
   "outputs": [],
   "source": [
    "# objective function\n",
    "\n",
    "objective = gp.quicksum((optimal_levels[s] - y[s, T, 1]) for s in under_stations) \\\n",
    "            + gp.quicksum((y[s,T,1] - optimal_levels[s]) for s in over_stations)\n",
    "model.setObjective(objective, sense=GRB.MINIMIZE)"
   ]
  },
  {
   "cell_type": "code",
   "execution_count": 23,
   "id": "09730042-a1b2-4b17-a908-8c1f9bf562ad",
   "metadata": {},
   "outputs": [],
   "source": [
    "# constraints\n",
    "\n",
    "# each truck must be at exactly 1 station always\n",
    "for t in range(1, T+1):\n",
    "    for k in range(1, K+1):\n",
    "        model.addConstr(sum(x[s,t,k] for s in stations) == 1)\n",
    "\n",
    "# initiate\n",
    "for s in stations:\n",
    "    model.addConstr(sum(y[s,1,k] for k in range(1, K+1)) == start_levels[s])\n",
    "\n",
    "# rebalancing can only bring a station closer to optimal level\n",
    "for t in range(1, T+1):\n",
    "    for s in over_stations:\n",
    "        model.addConstr(optimal_levels[s] <= sum(y[s,t,k] for k in range(1, K+1)))\n",
    "        model.addConstr(sum(y[s,t,k] for k in range(1, K+1)) <= start_levels[s])\n",
    "    for s in under_stations:\n",
    "        model.addConstr(start_levels[s] <= sum(y[s,t,k] for k in range(1, K+1)))\n",
    "        model.addConstr(sum(y[s,t,k] for k in range(1, K+1)) <= optimal_levels[s])\n",
    "\n",
    "# total number of bikes is constant\n",
    "for t in range(1, T+1):\n",
    "    for k in range(1, K+1):\n",
    "        model.addConstr(sum(y[s,t,k] for s in stations) + b[t,k] == sum(y[s,1,k] for s in stations) + b[1,k])\n",
    "\n",
    "# can move only when truck is at station, number of bikes moved is bounded by \n",
    "for t in range(2, T+1):\n",
    "    for k in range(1, K+1):\n",
    "        for s in stations:\n",
    "            model.addConstr(y[s,t,k] - y[s,t-1,k] <= L * x[s,t,k])\n",
    "            model.addConstr(y[s,t-1,k] - y[s,t,k] <= L * x[s,t,k])\n",
    "\n",
    "# add last constraint later..."
   ]
  },
  {
   "cell_type": "code",
   "execution_count": 24,
   "id": "56c69403-0b01-4550-91dc-de7489407251",
   "metadata": {},
   "outputs": [
    {
     "name": "stdout",
     "output_type": "stream",
     "text": [
      "Gurobi Optimizer version 11.0.2 build v11.0.2rc0 (mac64[x86] - Darwin 17.7.0 17G14042)\n",
      "\n",
      "CPU model: Intel(R) Core(TM) i5-4250U CPU @ 1.30GHz\n",
      "Thread count: 2 physical cores, 4 logical processors, using up to 4 threads\n",
      "\n",
      "Optimize a model with 325 rows, 220 columns and 1066 nonzeros\n",
      "Model fingerprint: 0x8427abed\n",
      "Variable types: 0 continuous, 220 integer (100 binary)\n",
      "Coefficient statistics:\n",
      "  Matrix range     [1e+00, 3e+00]\n",
      "  Objective range  [1e+00, 1e+00]\n",
      "  Bounds range     [1e+00, 1e+00]\n",
      "  RHS range        [1e+00, 5e+01]\n",
      "Found heuristic solution: objective 72.0000000\n",
      "Presolve removed 55 rows and 38 columns\n",
      "Presolve time: 0.01s\n",
      "Presolved: 270 rows, 182 columns, 770 nonzeros\n",
      "Variable types: 0 continuous, 182 integer (88 binary)\n",
      "\n",
      "Root relaxation: objective -1.200000e+01, 184 iterations, 0.00 seconds (0.00 work units)\n",
      "\n",
      "    Nodes    |    Current Node    |     Objective Bounds      |     Work\n",
      " Expl Unexpl |  Obj  Depth IntInf | Incumbent    BestBd   Gap | It/Node Time\n",
      "\n",
      "*    0     0               0     -12.0000000  -12.00000  0.00%     -    0s\n",
      "\n",
      "Explored 1 nodes (184 simplex iterations) in 0.06 seconds (0.00 work units)\n",
      "Thread count was 4 (of 4 available processors)\n",
      "\n",
      "Solution count 2: -12 72 \n",
      "No other solutions better than -12\n",
      "\n",
      "Optimal solution found (tolerance 1.00e-04)\n",
      "Best objective -1.200000000000e+01, best bound -1.200000000000e+01, gap 0.0000%\n"
     ]
    }
   ],
   "source": [
    "model.optimize()"
   ]
  },
  {
   "cell_type": "markdown",
   "id": "91a897c6-fc14-4dea-a724-02df7a757d38",
   "metadata": {},
   "source": [
    "## Slight Fix"
   ]
  },
  {
   "cell_type": "markdown",
   "id": "942b4794-276c-4634-98b1-dbf229800822",
   "metadata": {},
   "source": [
    "As you can see, I was getting negative values for the objective function, which is wrong. Introducing deviations seems to fix it..."
   ]
  },
  {
   "cell_type": "code",
   "execution_count": 37,
   "id": "c23765d5-0dac-4e6c-9dc8-655ad769b7f6",
   "metadata": {},
   "outputs": [
    {
     "name": "stdout",
     "output_type": "stream",
     "text": [
      "Gurobi Optimizer version 11.0.2 build v11.0.2rc0 (mac64[x86] - Darwin 17.7.0 17G14042)\n",
      "\n",
      "CPU model: Intel(R) Core(TM) i5-4250U CPU @ 1.30GHz\n",
      "Thread count: 2 physical cores, 4 logical processors, using up to 4 threads\n",
      "\n",
      "Optimize a model with 335 rows, 225 columns and 1096 nonzeros\n",
      "Model fingerprint: 0x24091999\n",
      "Variable types: 0 continuous, 225 integer (100 binary)\n",
      "Coefficient statistics:\n",
      "  Matrix range     [1e+00, 3e+00]\n",
      "  Objective range  [1e+00, 1e+00]\n",
      "  Bounds range     [1e+00, 1e+00]\n",
      "  RHS range        [1e+00, 5e+01]\n",
      "Found heuristic solution: objective 63.0000000\n",
      "Presolve removed 64 rows and 34 columns\n",
      "Presolve time: 0.00s\n",
      "Presolved: 271 rows, 191 columns, 777 nonzeros\n",
      "Variable types: 0 continuous, 191 integer (88 binary)\n",
      "\n",
      "Root relaxation: objective 3.000000e+01, 231 iterations, 0.01 seconds (0.00 work units)\n",
      "\n",
      "    Nodes    |    Current Node    |     Objective Bounds      |     Work\n",
      " Expl Unexpl |  Obj  Depth IntInf | Incumbent    BestBd   Gap | It/Node Time\n",
      "\n",
      "*    0     0               0      30.0000000   30.00000  0.00%     -    0s\n",
      "\n",
      "Explored 1 nodes (231 simplex iterations) in 0.05 seconds (0.00 work units)\n",
      "Thread count was 4 (of 4 available processors)\n",
      "\n",
      "Solution count 2: 30 63 \n",
      "\n",
      "Optimal solution found (tolerance 1.00e-04)\n",
      "Best objective 3.000000000000e+01, best bound 3.000000000000e+01, gap 0.0000%\n"
     ]
    }
   ],
   "source": [
    "import gurobipy as gp\n",
    "from gurobipy import GRB\n",
    "import numpy as np\n",
    "\n",
    "stations = ['station 1', 'station 2', 'station 3', 'station 4', 'station 5']\n",
    "start_levels = {'station 1': 21, 'station 2': 3, 'station 3': 0, 'station 4': 48, 'station 5': 9}\n",
    "optimal_levels = {'station 1': 15, 'station 2': 12, 'station 3': 18, 'station 4': 12, 'station 5': 24}\n",
    "over_stations, under_stations = [], []\n",
    "\n",
    "# Fill over and under stations\n",
    "for station in stations:\n",
    "    if start_levels[station] > optimal_levels[station]:\n",
    "        over_stations.append(station)\n",
    "    elif start_levels[station] < optimal_levels[station]:\n",
    "        under_stations.append(station)\n",
    "        \n",
    "T = 10 # Number of time steps\n",
    "K = 2 # Number of trucks\n",
    "L = 3 # Number of bikes that can be moved in one time step\n",
    "\n",
    "model = gp.Model(\"bike_rebalancing\")\n",
    "\n",
    "# Decision variables\n",
    "x, y, b = {}, {}, {}\n",
    "for t in range(1, T+1):\n",
    "    for k in range(1, K+1):\n",
    "        for s in stations:\n",
    "            x[s, t, k] = model.addVar(name=\"x_%s,%s,%s\" % (s, t, k), vtype=GRB.BINARY)\n",
    "            y[s, t, k] = model.addVar(name=\"y_%s,%s,%s\" % (s, t, k), vtype=GRB.INTEGER)\n",
    "        b[t, k] = model.addVar(name=\"b_%s,%s\" % (t, k), vtype=GRB.INTEGER)\n",
    "\n",
    "# Auxiliary variables for absolute deviation\n",
    "deviation = {}\n",
    "for s in stations:\n",
    "    deviation[s] = model.addVar(name=\"deviation_%s\" % s, vtype=GRB.INTEGER)\n",
    "\n",
    "model.update()\n",
    "\n",
    "# Objective function: minimize total absolute deviation from optimal levels\n",
    "objective = gp.quicksum(deviation[s] for s in stations)\n",
    "model.setObjective(objective, sense=GRB.MINIMIZE)\n",
    "\n",
    "# Constraints\n",
    "\n",
    "# Each truck must be at exactly 1 station always\n",
    "for t in range(1, T+1):\n",
    "    for k in range(1, K+1):\n",
    "        model.addConstr(sum(x[s, t, k] for s in stations) == 1)\n",
    "\n",
    "# Initialize bike levels at time 1\n",
    "for s in stations:\n",
    "    model.addConstr(sum(y[s, 1, k] for k in range(1, K+1)) == start_levels[s])\n",
    "\n",
    "# Rebalancing can only bring a station closer to optimal level\n",
    "for t in range(1, T+1):\n",
    "    for s in over_stations:\n",
    "        model.addConstr(optimal_levels[s] <= sum(y[s, t, k] for k in range(1, K+1)))\n",
    "        model.addConstr(sum(y[s, t, k] for k in range(1, K+1)) <= start_levels[s])\n",
    "    for s in under_stations:\n",
    "        model.addConstr(start_levels[s] <= sum(y[s, t, k] for k in range(1, K+1)))\n",
    "        model.addConstr(sum(y[s, t, k] for k in range(1, K+1)) <= optimal_levels[s])\n",
    "\n",
    "# Total number of bikes is constant\n",
    "for t in range(1, T+1):\n",
    "    for k in range(1, K+1):\n",
    "        model.addConstr(sum(y[s, t, k] for s in stations) + b[t, k] == sum(y[s, 1, k] for s in stations) + b[1, k])\n",
    "\n",
    "# Can move only when truck is at station; number of bikes moved is bounded\n",
    "for t in range(2, T+1):\n",
    "    for k in range(1, K+1):\n",
    "        for s in stations:\n",
    "            model.addConstr(y[s, t, k] - y[s, t-1, k] <= L * x[s, t, k])\n",
    "            model.addConstr(y[s, t-1, k] - y[s, t, k] <= L * x[s, t, k])\n",
    "\n",
    "# Absolute deviation constraints\n",
    "for s in stations:\n",
    "    model.addConstr(deviation[s] >= optimal_levels[s] - sum(y[s, T, k] for k in range(1, K+1)))\n",
    "    model.addConstr(deviation[s] >= sum(y[s, T, k] for k in range(1, K+1)) - optimal_levels[s])\n",
    "\n",
    "model.optimize()"
   ]
  },
  {
   "cell_type": "markdown",
   "id": "590465a5-5adc-4ef5-8461-59f780a281f4",
   "metadata": {},
   "source": [
    "Something is still not working right because it seems like "
   ]
  },
  {
   "cell_type": "code",
   "execution_count": 39,
   "id": "d484be53-ca04-49ec-a502-7869bd8ea450",
   "metadata": {},
   "outputs": [
    {
     "name": "stderr",
     "output_type": "stream",
     "text": [
      "No artists with labels found to put in legend.  Note that artists whose label start with an underscore are ignored when legend() is called with no argument.\n"
     ]
    },
    {
     "name": "stdout",
     "output_type": "stream",
     "text": [
      "Truck 1 path: [(1, 'station 1'), (2, 'station 4'), (3, 'station 4'), (4, 'station 1'), (5, 'station 4'), (6, 'station 4'), (7, 'station 4'), (8, 'station 4'), (9, 'station 4'), (10, 'station 3')]\n",
      "Truck 2 path: [(1, 'station 1'), (2, 'station 1'), (3, 'station 4'), (4, 'station 4'), (5, 'station 4'), (6, 'station 4'), (7, 'station 4'), (8, 'station 5'), (9, 'station 5'), (10, 'station 5')]\n"
     ]
    },
    {
     "data": {
      "image/png": "[encoded data removed]",
      "text/plain": [
       "<Figure size 1000x800 with 1 Axes>"
      ]
     },
     "metadata": {},
     "output_type": "display_data"
    }
   ],
   "source": [
    "import matplotlib.pyplot as plt\n",
    "import networkx as nx\n",
    "\n",
    "truck_paths = {}\n",
    "if model.status == GRB.OPTIMAL:\n",
    "    for k in range(1, K+1):\n",
    "        path = []\n",
    "        for t in range(1, T+1):\n",
    "            for s in stations:\n",
    "                if x[s, t, k].x > 0.5:  # If the truck k is at station s at time t\n",
    "                    path.append((t, s))\n",
    "                    break\n",
    "        truck_paths[k] = path\n",
    "        print(f\"Truck {k} path: {path}\")\n",
    "else:\n",
    "    print(\"No optimal solution found.\")\n",
    "\n",
    "# Visualize the truck paths\n",
    "def plot_paths(truck_paths):\n",
    "    G = nx.DiGraph()\n",
    "    pos = {station: (np.random.rand(), np.random.rand()) for station in stations}  # Random positions for stations\n",
    "    \n",
    "    # Add nodes\n",
    "    for station in stations:\n",
    "        G.add_node(station)\n",
    "    \n",
    "    # Add edges with arrows for each truck path\n",
    "    for k, path in truck_paths.items():\n",
    "        for i in range(len(path) - 1):\n",
    "            t1, s1 = path[i]\n",
    "            t2, s2 = path[i + 1]\n",
    "            G.add_edge(s1, s2, truck=k, time_step=t1)\n",
    "    \n",
    "    edge_colors = ['blue', 'red']  # Different colors for different trucks\n",
    "    # edge_styles = ['solid', 'dashed']  # Different styles for different trucks\n",
    "    \n",
    "    plt.figure(figsize=(10, 8))\n",
    "    for k, path in truck_paths.items():\n",
    "        edges = [(path[i][1], path[i + 1][1]) for i in range(len(path) - 1)]\n",
    "        nx.draw_networkx_edges(G, pos, edgelist=edges, arrowstyle='->', arrowsize=15, \n",
    "                               edge_color=edge_colors[k - 1], style='dashed', label=f'Truck {k}')\n",
    "    \n",
    "    nx.draw_networkx_nodes(G, pos, node_size=500, node_color='lightgreen')\n",
    "    nx.draw_networkx_labels(G, pos, font_size=12)\n",
    "    \n",
    "    plt.legend()\n",
    "    plt.title(\"Truck Paths\")\n",
    "    plt.show()\n",
    "\n",
    "# Plot the paths\n",
    "plot_paths(truck_paths)"
   ]
  }
 ],
 "metadata": {
  "kernelspec": {
   "display_name": "Python 3 (ipykernel)",
   "language": "python",
   "name": "python3"
  },
  "language_info": {
   "codemirror_mode": {
    "name": "ipython",
    "version": 3
   },
   "file_extension": ".py",
   "mimetype": "text/x-python",
   "name": "python",
   "nbconvert_exporter": "python",
   "pygments_lexer": "ipython3",
   "version": "3.9.19"
  }
 },
 "nbformat": 4,
 "nbformat_minor": 5
}
