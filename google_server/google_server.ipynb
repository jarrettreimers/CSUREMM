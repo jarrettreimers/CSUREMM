{
 "cells": [
  {
   "metadata": {
    "ExecuteTime": {
     "end_time": "2024-07-02T15:02:31.230720Z",
     "start_time": "2024-07-02T15:01:31.053147Z"
    }
   },
   "cell_type": "code",
   "source": [
    "import os\n",
    "\n",
    "from flask import Flask\n",
    "\n",
    "app = Flask(__name__)\n",
    "\n",
    "\n",
    "@app.route(\"/\")\n",
    "def hello_world():\n",
    "    \"\"\"Example Hello World route.\"\"\"\n",
    "    name = os.environ.get(\"NAME\", \"World\")\n",
    "    return f\"Hello {name}!\"\n",
    "\n",
    "\n",
    "if __name__ == \"__main__\":\n",
    "    app.run(debug=True, host=\"0.0.0.0\", port=int(os.environ.get(\"PORT\", 8080)))"
   ],
   "id": "ad753bf3341ca39b",
   "outputs": [
    {
     "data": {
      "text/plain": [
       "'Hello World, it is 2024-07-02 11:02:31.221710, information: test!'"
      ]
     },
     "execution_count": 1,
     "metadata": {},
     "output_type": "execute_result"
    }
   ],
   "execution_count": 1
  },
  {
   "metadata": {},
   "cell_type": "code",
   "source": "",
   "id": "fd21cf17674e4296",
   "outputs": [],
   "execution_count": null
  }
 ],
 "metadata": {
  "kernelspec": {
   "display_name": "Python 3",
   "language": "python",
   "name": "python3"
  },
  "language_info": {
   "codemirror_mode": {
    "name": "ipython",
    "version": 2
   },
   "file_extension": ".py",
   "mimetype": "text/x-python",
   "name": "python",
   "nbconvert_exporter": "python",
   "pygments_lexer": "ipython2",
   "version": "2.7.6"
  }
 },
 "nbformat": 4,
 "nbformat_minor": 5
}
