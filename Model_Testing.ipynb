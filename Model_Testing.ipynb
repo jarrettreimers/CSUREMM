{
 "cells": [
  {
   "cell_type": "code",
   "id": "initial_id",
   "metadata": {
    "collapsed": true,
    "ExecuteTime": {
     "end_time": "2024-06-13T19:53:36.788154Z",
     "start_time": "2024-06-13T19:53:36.783967Z"
    }
   },
   "source": [
    "import parameter\n",
    "import query\n",
    "import time\n",
    "from model import Model\n",
    "from station import Station\n",
    "import numpy as np"
   ],
   "outputs": [],
   "execution_count": 7
  },
  {
   "metadata": {
    "ExecuteTime": {
     "end_time": "2024-06-13T19:53:48.277913Z",
     "start_time": "2024-06-13T19:53:37.116921Z"
    }
   },
   "cell_type": "code",
   "source": [
    "now = time.time()\n",
    "start_date = query.get_datetime(2023, 5, 1, 0, 0, 0)\n",
    "end_date = query.get_datetime(2023, 6, 30, 0, 0, 0)\n",
    "station = parameter.fast_station(station='E 7 St & Ave B', start_date=start_date, end_date=end_date)\n",
    "print(time.time() - now)\n"
   ],
   "id": "1305d14d6aee29de",
   "outputs": [
    {
     "name": "stdout",
     "output_type": "stream",
     "text": [
      "11.156305074691772\n"
     ]
    }
   ],
   "execution_count": 8
  },
  {
   "metadata": {
    "ExecuteTime": {
     "end_time": "2024-06-13T19:55:25.589035Z",
     "start_time": "2024-06-13T19:55:25.579533Z"
    }
   },
   "cell_type": "code",
   "source": [
    "for i in range(24):\n",
    "    print(np.random.choice(station.neighbors_names, 5, p=station.transition[i]))"
   ],
   "id": "c2a3f228bddcf01b",
   "outputs": [
    {
     "name": "stdout",
     "output_type": "stream",
     "text": [
      "['Pioneer St & Van Brunt St' 'E 7 St & Ave B' 'E 7 St & Ave B'\n",
      " '9 Ave & W 18 St' 'St. Johns Pl & Kingston Ave']\n",
      "['Broadway & E 14 St' 'E 7 St & Ave B' 'E 7 St & Avenue A'\n",
      " 'FDR Drive & E 35 St' 'Broadway & E 14 St']\n",
      "['E 7 St & Ave B' 'McKibbin St & Manhattan Ave' 'E 6 St & 2 Ave'\n",
      " 'McKibbin St & Manhattan Ave' 'McKibbin St & Manhattan Ave']\n",
      "['Centre St & Worth St' 'E 6 St & Avenue D' 'Avenue D & E 10 St'\n",
      " 'Lincoln Ave & E 134 St' 'Lincoln Ave & E 134 St']\n",
      "['Canal St & Rutgers St' 'E 6 St & Avenue D' 'Clinton St & Grand St'\n",
      " 'E 10 St & Avenue A' 'E 10 St & Avenue A']\n",
      "['E 2 St & Avenue A' 'Cooper Square & Astor Pl' 'E 6 St & Avenue D'\n",
      " 'Bleecker St & Crosby St' 'Cooper Square & Astor Pl']\n",
      "['E 7 St & Ave B' 'Stanton St & Norfolk St' 'Cleveland Pl & Spring St'\n",
      " 'Cooper Square & Astor Pl' 'W 13 St & 5 Ave']\n",
      "['E 47 St & Park Ave' 'Ave A & E 14 St' 'MacDougal St & Prince St'\n",
      " 'Cooper Square & Astor Pl' 'Canal St & Rutgers St']\n",
      "['Ave A & E 14 St' 'E 51 St & Lexington Ave' 'Ave A & E 14 St'\n",
      " 'Cooper Square & Astor Pl' 'Gramercy Park N & Gramercy Park E']\n",
      "['E 40 St & Park Ave' 'E 16 St & 5 Ave' 'Grand St & Greene St'\n",
      " 'E 13 St & Avenue A' 'E 10 St & Avenue A']\n",
      "['Vesey Pl & River Terrace' 'Allen St & Stanton St'\n",
      " 'Cooper Square & Astor Pl' 'Ave A & E 14 St' 'Canal St & Rutgers St']\n",
      "['5 Ave & E 29 St' 'Avenue D & E 10 St' 'Norfolk St & Broome St'\n",
      " 'Cooper Square & Astor Pl' 'W 13 St & 5 Ave']\n",
      "['E 6 St & 2 Ave' 'Tompkins Ave & Hopkins St' 'E 13 St & Avenue A'\n",
      " 'Suffolk St & Stanton St' '4 Ave & E 12 St']\n",
      "['E 11 St & Avenue B' 'Greenwich Ave & Charles St'\n",
      " 'Bialystoker Pl & Delancey St' 'Mott St & Prince St' 'Broadway & E 14 St']\n",
      "['W 21 St & 6 Ave' 'Broadway & E 21 St' 'Madison St & Montgomery St'\n",
      " 'Stanton St & Norfolk St' 'Bialystoker Pl & Delancey St']\n",
      "['Ave D & E 8 St' 'Ave A & E 14 St' 'Ave A & E 14 St' 'W 13 St & 5 Ave'\n",
      " 'Cooper Square & Astor Pl']\n",
      "['Cherry St' 'Cooper Square & Astor Pl' 'E 13 St & Avenue A'\n",
      " 'E 14 St & 1 Ave' 'Cooper Square & Astor Pl']\n",
      "['W 55 St & 6 Ave' 'Allen St & Stanton St' 'E 51 St & 1 Ave'\n",
      " 'E 7 St & Ave B' 'W 22 St & 10 Ave']\n",
      "['1 Ave & E 16 St' 'Great Jones St' 'E 13 St & Avenue A'\n",
      " 'E 6 St & Avenue B' 'Cooper Square & Astor Pl']\n",
      "['University Pl & E 14 St' 'E 11 St & 3 Ave' 'MacDougal St & Prince St'\n",
      " 'Lispenard St & Broadway' 'Cooper Square & Astor Pl']\n",
      "['Eagle St & Manhattan Ave' 'Broadway & E 14 St' 'Ave A & E 14 St'\n",
      " 'Mercer St & Bleecker St' 'E 25 St & 1 Ave']\n",
      "['E 2 St & Avenue C' 'Greene St & Prince St' 'E 13 St & 2 Ave'\n",
      " 'Jay St & York St' 'Ave A & E 14 St']\n",
      "['W 17 St & 8 Ave' 'E 2 St & Avenue C' 'E 13 St & Avenue A'\n",
      " 'E 2 St & Avenue B' 'E 30 St & Park Ave S']\n",
      "['E 20 St & FDR Dr' 'Spring St & Hudson St' 'Stanton St & Norfolk St'\n",
      " 'E 4 St & Ave B' 'E 7 St & Avenue A']\n"
     ]
    }
   ],
   "execution_count": 12
  },
  {
   "metadata": {
    "ExecuteTime": {
     "end_time": "2024-06-13T18:51:56.073510Z",
     "start_time": "2024-06-13T18:51:15.982477Z"
    }
   },
   "cell_type": "code",
   "source": [
    "start_date = query.get_datetime(2023, 5, 1, 0, 0, 0)\n",
    "end_date = query.get_datetime(2023, 6, 30, 0, 0, 0)\n",
    "tph = 1\n",
    "\n",
    "whitelist_stations = ['E 7 St & Ave B',\n",
    "                      'Cooper Square & Astor Pl',\n",
    "                      'E 7 St & Ave C',\n",
    "                      'Ave A & E 14 St',\n",
    "                      'W 21 St & 6 Ave']\n",
    "\n",
    "station_list = {}\n",
    "for station in whitelist_stations:\n",
    "    rate = parameter.get_rate(station=station, \n",
    "                              start_date=start_date, \n",
    "                              end_date=end_date, \n",
    "                              tph=tph)\n",
    "    transition_data = parameter.get_transition(station=station, \n",
    "                                               start_date=start_date, \n",
    "                                               end_date=end_date, \n",
    "                                               tph=tph)\n",
    "    transition_stations = transition_data[0]\n",
    "    neighbors_dist = {}\n",
    "    for dest_station in transition_stations:\n",
    "        neighbors_dist[dest_station] = parameter.avg_travel_time(orig_station=station, \n",
    "                                                            dest_station=dest_station)\n",
    "    transition = transition_data[1]\n",
    "    max_docks = 30\n",
    "    curr_bikes = 15\n",
    "    station_list[station] = Station(name=station, \n",
    "                                    id = 0,\n",
    "                                    neighbors_dist=neighbors_dist,\n",
    "                                    neighbors_names=transition_stations,\n",
    "                                    rate=rate,\n",
    "                                    transition=transition, \n",
    "                                    max_docks=max_docks, \n",
    "                                    curr_bikes=curr_bikes,)"
   ],
   "id": "dc229b8950bd574",
   "outputs": [],
   "execution_count": 2
  },
  {
   "metadata": {
    "ExecuteTime": {
     "end_time": "2024-06-13T18:51:56.078589Z",
     "start_time": "2024-06-13T18:51:56.075471Z"
    }
   },
   "cell_type": "code",
   "source": "model = Model(station_names=whitelist_stations, stations_dict=station_list, in_transit=[], tph=tph)",
   "id": "ebf7703668d4d83",
   "outputs": [],
   "execution_count": 3
  },
  {
   "metadata": {
    "ExecuteTime": {
     "end_time": "2024-06-13T18:49:02.676126Z",
     "start_time": "2024-06-13T18:49:02.669975Z"
    }
   },
   "cell_type": "code",
   "source": [
    "for station in model.stations_dict.values():\n",
    "    print(station.name, 'has', station.curr_bikes, 'bikes')\n",
    "print(len(model.in_transit), 'bikes in transit')\n",
    "print()\n",
    "for trip in model.in_transit:\n",
    "    print(trip.start_station, 'to', trip.end_station)\n",
    "    print(trip.start_time, 'to', trip.end_time, 'currently', trip.curr_time)"
   ],
   "id": "e7f80627a8c7f44b",
   "outputs": [
    {
     "name": "stdout",
     "output_type": "stream",
     "text": [
      "E 7 St & Ave B has 12 bikes\n",
      "Cooper Square & Astor Pl has 13 bikes\n",
      "E 7 St & Ave C has 15 bikes\n",
      "Ave A & E 14 St has 11 bikes\n",
      "W 21 St & 6 Ave has 14 bikes\n",
      "10 bikes in transit\n",
      "\n",
      "E 7 St & Ave B to E 7 St & Ave B\n",
      "5:00:00 to 0 days 05:08:00.751168224 currently 5:00:00\n",
      "E 7 St & Ave B to E 7 St & Ave B\n",
      "5:00:00 to 0 days 05:08:00.751168224 currently 5:00:00\n",
      "Cooper Square & Astor Pl to Cooper Square & Astor Pl\n",
      "5:00:00 to 0 days 05:05:33.699511094 currently 5:00:00\n",
      "Cooper Square & Astor Pl to Cooper Square & Astor Pl\n",
      "5:00:00 to 0 days 05:05:33.699511094 currently 5:00:00\n",
      "Cooper Square & Astor Pl to Cooper Square & Astor Pl\n",
      "5:00:00 to 0 days 05:05:33.699511094 currently 5:00:00\n",
      "E 7 St & Ave C to E 7 St & Ave C\n",
      "5:00:00 to 0 days 05:05:42.451834862 currently 5:00:00\n",
      "Ave A & E 14 St to Ave A & E 14 St\n",
      "5:00:00 to 0 days 05:06:33.995951417 currently 5:00:00\n",
      "Ave A & E 14 St to Ave A & E 14 St\n",
      "5:00:00 to 0 days 05:06:33.995951417 currently 5:00:00\n",
      "Ave A & E 14 St to Ave A & E 14 St\n",
      "5:00:00 to 0 days 05:06:33.995951417 currently 5:00:00\n",
      "W 21 St & 6 Ave to W 21 St & 6 Ave\n",
      "5:00:00 to 0 days 05:05:41.673940305 currently 5:00:00\n"
     ]
    }
   ],
   "execution_count": 13
  },
  {
   "metadata": {
    "ExecuteTime": {
     "end_time": "2024-06-13T19:19:59.962429Z",
     "start_time": "2024-06-13T19:19:59.948903Z"
    }
   },
   "cell_type": "code",
   "source": [
    "unique_stations = ['test', 'test2', 'test3', 'test4', 'test5', 'test6', 'test7', 'test8']\n",
    "\n",
    "test = [{station: 0 for station in unique_stations} for i in range(24)]\n",
    "test[0]['test'] += 3\n",
    "test\n"
   ],
   "id": "ac366946c085ac24",
   "outputs": [
    {
     "data": {
      "text/plain": [
       "[{'test': 3,\n",
       "  'test2': 0,\n",
       "  'test3': 0,\n",
       "  'test4': 0,\n",
       "  'test5': 0,\n",
       "  'test6': 0,\n",
       "  'test7': 0,\n",
       "  'test8': 0},\n",
       " {'test': 0,\n",
       "  'test2': 0,\n",
       "  'test3': 0,\n",
       "  'test4': 0,\n",
       "  'test5': 0,\n",
       "  'test6': 0,\n",
       "  'test7': 0,\n",
       "  'test8': 0},\n",
       " {'test': 0,\n",
       "  'test2': 0,\n",
       "  'test3': 0,\n",
       "  'test4': 0,\n",
       "  'test5': 0,\n",
       "  'test6': 0,\n",
       "  'test7': 0,\n",
       "  'test8': 0},\n",
       " {'test': 0,\n",
       "  'test2': 0,\n",
       "  'test3': 0,\n",
       "  'test4': 0,\n",
       "  'test5': 0,\n",
       "  'test6': 0,\n",
       "  'test7': 0,\n",
       "  'test8': 0},\n",
       " {'test': 0,\n",
       "  'test2': 0,\n",
       "  'test3': 0,\n",
       "  'test4': 0,\n",
       "  'test5': 0,\n",
       "  'test6': 0,\n",
       "  'test7': 0,\n",
       "  'test8': 0},\n",
       " {'test': 0,\n",
       "  'test2': 0,\n",
       "  'test3': 0,\n",
       "  'test4': 0,\n",
       "  'test5': 0,\n",
       "  'test6': 0,\n",
       "  'test7': 0,\n",
       "  'test8': 0},\n",
       " {'test': 0,\n",
       "  'test2': 0,\n",
       "  'test3': 0,\n",
       "  'test4': 0,\n",
       "  'test5': 0,\n",
       "  'test6': 0,\n",
       "  'test7': 0,\n",
       "  'test8': 0},\n",
       " {'test': 0,\n",
       "  'test2': 0,\n",
       "  'test3': 0,\n",
       "  'test4': 0,\n",
       "  'test5': 0,\n",
       "  'test6': 0,\n",
       "  'test7': 0,\n",
       "  'test8': 0},\n",
       " {'test': 0,\n",
       "  'test2': 0,\n",
       "  'test3': 0,\n",
       "  'test4': 0,\n",
       "  'test5': 0,\n",
       "  'test6': 0,\n",
       "  'test7': 0,\n",
       "  'test8': 0},\n",
       " {'test': 0,\n",
       "  'test2': 0,\n",
       "  'test3': 0,\n",
       "  'test4': 0,\n",
       "  'test5': 0,\n",
       "  'test6': 0,\n",
       "  'test7': 0,\n",
       "  'test8': 0},\n",
       " {'test': 0,\n",
       "  'test2': 0,\n",
       "  'test3': 0,\n",
       "  'test4': 0,\n",
       "  'test5': 0,\n",
       "  'test6': 0,\n",
       "  'test7': 0,\n",
       "  'test8': 0},\n",
       " {'test': 0,\n",
       "  'test2': 0,\n",
       "  'test3': 0,\n",
       "  'test4': 0,\n",
       "  'test5': 0,\n",
       "  'test6': 0,\n",
       "  'test7': 0,\n",
       "  'test8': 0},\n",
       " {'test': 0,\n",
       "  'test2': 0,\n",
       "  'test3': 0,\n",
       "  'test4': 0,\n",
       "  'test5': 0,\n",
       "  'test6': 0,\n",
       "  'test7': 0,\n",
       "  'test8': 0},\n",
       " {'test': 0,\n",
       "  'test2': 0,\n",
       "  'test3': 0,\n",
       "  'test4': 0,\n",
       "  'test5': 0,\n",
       "  'test6': 0,\n",
       "  'test7': 0,\n",
       "  'test8': 0},\n",
       " {'test': 0,\n",
       "  'test2': 0,\n",
       "  'test3': 0,\n",
       "  'test4': 0,\n",
       "  'test5': 0,\n",
       "  'test6': 0,\n",
       "  'test7': 0,\n",
       "  'test8': 0},\n",
       " {'test': 0,\n",
       "  'test2': 0,\n",
       "  'test3': 0,\n",
       "  'test4': 0,\n",
       "  'test5': 0,\n",
       "  'test6': 0,\n",
       "  'test7': 0,\n",
       "  'test8': 0},\n",
       " {'test': 0,\n",
       "  'test2': 0,\n",
       "  'test3': 0,\n",
       "  'test4': 0,\n",
       "  'test5': 0,\n",
       "  'test6': 0,\n",
       "  'test7': 0,\n",
       "  'test8': 0},\n",
       " {'test': 0,\n",
       "  'test2': 0,\n",
       "  'test3': 0,\n",
       "  'test4': 0,\n",
       "  'test5': 0,\n",
       "  'test6': 0,\n",
       "  'test7': 0,\n",
       "  'test8': 0},\n",
       " {'test': 0,\n",
       "  'test2': 0,\n",
       "  'test3': 0,\n",
       "  'test4': 0,\n",
       "  'test5': 0,\n",
       "  'test6': 0,\n",
       "  'test7': 0,\n",
       "  'test8': 0},\n",
       " {'test': 0,\n",
       "  'test2': 0,\n",
       "  'test3': 0,\n",
       "  'test4': 0,\n",
       "  'test5': 0,\n",
       "  'test6': 0,\n",
       "  'test7': 0,\n",
       "  'test8': 0},\n",
       " {'test': 0,\n",
       "  'test2': 0,\n",
       "  'test3': 0,\n",
       "  'test4': 0,\n",
       "  'test5': 0,\n",
       "  'test6': 0,\n",
       "  'test7': 0,\n",
       "  'test8': 0},\n",
       " {'test': 0,\n",
       "  'test2': 0,\n",
       "  'test3': 0,\n",
       "  'test4': 0,\n",
       "  'test5': 0,\n",
       "  'test6': 0,\n",
       "  'test7': 0,\n",
       "  'test8': 0},\n",
       " {'test': 0,\n",
       "  'test2': 0,\n",
       "  'test3': 0,\n",
       "  'test4': 0,\n",
       "  'test5': 0,\n",
       "  'test6': 0,\n",
       "  'test7': 0,\n",
       "  'test8': 0},\n",
       " {'test': 0,\n",
       "  'test2': 0,\n",
       "  'test3': 0,\n",
       "  'test4': 0,\n",
       "  'test5': 0,\n",
       "  'test6': 0,\n",
       "  'test7': 0,\n",
       "  'test8': 0}]"
      ]
     },
     "execution_count": 14,
     "metadata": {},
     "output_type": "execute_result"
    }
   ],
   "execution_count": 14
  },
  {
   "metadata": {
    "ExecuteTime": {
     "end_time": "2024-06-13T16:36:25.251288Z",
     "start_time": "2024-06-13T16:36:25.244752Z"
    }
   },
   "cell_type": "code",
   "source": "[0]*5",
   "id": "33cf6b52faa0b6fe",
   "outputs": [
    {
     "data": {
      "text/plain": [
       "[0, 0, 0, 0, 0]"
      ]
     },
     "execution_count": 7,
     "metadata": {},
     "output_type": "execute_result"
    }
   ],
   "execution_count": 7
  },
  {
   "metadata": {
    "ExecuteTime": {
     "end_time": "2024-06-10T19:50:22.941713Z",
     "start_time": "2024-06-10T19:50:22.929334Z"
    }
   },
   "cell_type": "code",
   "source": [
    "station_1 = Station(\n",
    "    name='Station 1', \n",
    "    id=1, \n",
    "    neighbors_dist={'Station 1': 0, 'Station 2': 1, 'Station 3': 3, 'Station 4': 2, 'Station 5': 7}, \n",
    "    nearest_neighbors=[], \n",
    "    max_docks=30, \n",
    "    curr_bikes=15, \n",
    "    full=False,\n",
    "    empty=False,\n",
    "    rate = [abs(np.sin(np.pi*i+1)*1.5) for i in range(24)],\n",
    "    transition=[0, 0.15, 0.1, 0.25, 0.5])\n",
    "\n",
    "station_2 = Station(\n",
    "    name='Station 2', \n",
    "    id=2, \n",
    "    neighbors_dist={'Station 1': 1, 'Station 2': 0, 'Station 3': 4, 'Station 4': 1, 'Station 5': 8}, \n",
    "    nearest_neighbors=[], \n",
    "    max_docks=30, \n",
    "    curr_bikes=10, \n",
    "    full=False,\n",
    "    empty=False,\n",
    "    rate = [abs(np.sin(np.pi*i+2)*2) for i in range(24)],\n",
    "    transition=[0.4, 0, 0.1, 0.25, 0.25])\n",
    "\n",
    "station_3 = Station(\n",
    "    name='Station 3', \n",
    "    id=3, \n",
    "    neighbors_dist={'Station 1': 3, 'Station 2': 4, 'Station 3': 0, 'Station 4': 1, 'Station 5': 4}, \n",
    "    nearest_neighbors=[], \n",
    "    max_docks=45, \n",
    "    curr_bikes=25, \n",
    "    full=False,\n",
    "    empty=False,\n",
    "    rate = [abs(np.sin(np.pi*i+3)) for i in range(24)],\n",
    "    transition=[0.5, 0.2, 0, 0.25, 0.05])\n",
    "\n",
    "station_4 = Station(\n",
    "    name='Station 4', \n",
    "    id=1, \n",
    "    neighbors_dist={'Station 1': 2, 'Station 2': 1, 'Station 3': 1, 'Station 4': 0, 'Station 5': 5}, \n",
    "    nearest_neighbors=[], \n",
    "    max_docks=30, \n",
    "    curr_bikes=15, \n",
    "    full=False,\n",
    "    empty=False,\n",
    "    rate = [abs(np.sin(np.pi*i/12)*2) for i in range(24)],\n",
    "    transition=[0.25, 0.05, 0.2, 0, 0.5])\n",
    "\n",
    "station_5 = Station(\n",
    "    name='Station 5', \n",
    "    id=1, \n",
    "    neighbors_dist={'Station 1': 7, 'Station 2': 8, 'Station 3': 4, 'Station 4': 5, 'Station 5': 0}, \n",
    "    nearest_neighbors=[], \n",
    "    max_docks=30, \n",
    "    curr_bikes=22, \n",
    "    full=False,\n",
    "    empty=False,\n",
    "    rate = [abs(np.sin(np.pi*i+1)*2) for i in range(24)],\n",
    "    transition=[0.6, 0.05, 0.1, 0.25, 0])\n",
    "\n",
    "\n",
    "station_list = ['Station 1', 'Station 2', 'Station 3', 'Station 4', 'Station 5']\n",
    "stations = {'Station 1': station_1, 'Station 2': station_2, 'Station 3': station_3, 'Station 4': station_4, 'Station 5': station_5}\n",
    "in_transit = []\n",
    "\n",
    "model = Model(station_list, stations, in_transit)"
   ],
   "id": "472d855a38dd3766",
   "outputs": [],
   "execution_count": 2
  },
  {
   "metadata": {
    "ExecuteTime": {
     "end_time": "2024-06-10T19:51:16.435231Z",
     "start_time": "2024-06-10T19:51:16.429851Z"
    }
   },
   "cell_type": "code",
   "source": [
    "model.sim(1)\n",
    "\n",
    "for station_name in model.stations:\n",
    "    station = model.stations[station_name]\n",
    "    print(station.name, 'rate', round(station.rate[model.curr_time], 3))\n",
    "    print(station.curr_bikes, 'bikes in stock')\n",
    "    print()\n",
    "    \n",
    "print(len(model.in_transit), 'in transit')"
   ],
   "id": "e276f0c721cfd54a",
   "outputs": [
    {
     "name": "stdout",
     "output_type": "stream",
     "text": [
      "Failure to depart\n",
      "Station 2 to Station 1 in 1 with 0 completed\n",
      "Failure to depart\n",
      "Station 2 to Station 5 in 8 with 0 completed\n",
      "Station 1 rate 1.262\n",
      "11 bikes in stock\n",
      "\n",
      "Station 2 rate 1.819\n",
      "0 bikes in stock\n",
      "\n",
      "Station 3 rate 0.141\n",
      "27 bikes in stock\n",
      "\n",
      "Station 4 rate 1.932\n",
      "1 bikes in stock\n",
      "\n",
      "Station 5 rate 1.683\n",
      "13 bikes in stock\n",
      "\n",
      "35 in transit\n"
     ]
    }
   ],
   "execution_count": 9
  },
  {
   "metadata": {},
   "cell_type": "code",
   "outputs": [],
   "execution_count": null,
   "source": "",
   "id": "e9e5d1ba1d8b4712"
  }
 ],
 "metadata": {
  "kernelspec": {
   "display_name": "Python 3",
   "language": "python",
   "name": "python3"
  },
  "language_info": {
   "codemirror_mode": {
    "name": "ipython",
    "version": 2
   },
   "file_extension": ".py",
   "mimetype": "text/x-python",
   "name": "python",
   "nbconvert_exporter": "python",
   "pygments_lexer": "ipython2",
   "version": "2.7.6"
  }
 },
 "nbformat": 4,
 "nbformat_minor": 5
}
