{
 "cells": [
  {
   "cell_type": "code",
   "id": "initial_id",
   "metadata": {
    "collapsed": true,
    "ExecuteTime": {
     "end_time": "2024-06-17T19:43:53.464719Z",
     "start_time": "2024-06-17T19:43:53.459604Z"
    }
   },
   "source": [
    "import os.path\n",
    "\n",
    "import parameter\n",
    "import query\n",
    "import time\n",
    "import copy\n",
    "from model import Model\n",
    "from station import Station\n",
    "import numpy as np\n",
    "import pandas as pd\n",
    "from datetime import datetime , timedelta\n",
    "import matplotlib.pyplot as plt"
   ],
   "outputs": [],
   "execution_count": 64
  },
  {
   "metadata": {
    "ExecuteTime": {
     "end_time": "2024-06-17T19:43:55.024628Z",
     "start_time": "2024-06-17T19:43:55.021186Z"
    }
   },
   "cell_type": "code",
   "source": "# parameter.get_station_information(True)",
   "id": "be5b7dce40d11cd7",
   "outputs": [],
   "execution_count": 65
  },
  {
   "metadata": {
    "ExecuteTime": {
     "end_time": "2024-06-17T19:43:55.326597Z",
     "start_time": "2024-06-17T19:43:55.309626Z"
    }
   },
   "cell_type": "code",
   "source": [
    "stations = pd.read_csv('data/stations.csv', index_col=0)\n",
    "tph = 4\n",
    "path = f'data/station_data/test_whitelist/v1/tph_{tph}/'\n",
    "if not os.path.exists(path):\n",
    "    os.makedirs(path)    \n",
    "station_information = pd.read_csv('data/station_data/status_at_time/2024_6_17_13:8.csv', index_col=0)\n",
    "\n",
    "whitelist = ['Allen St & Rivington St', 'Allen St & Stanton St', '1 Ave & E 16 St', 'Mercer St & Spring St', 'Mercer St & Bleecker St', '9 Ave & W 18 St', 'E 103 St & Lexington Ave', '1 Ave & E 6 St', 'Norfolk St & Broome St', 'E 1 St & 1 Ave', 'S 4 St & Wythe Ave', 'Lafayette St & Jersey St', 'Broadway & Berry St', 'S 5 Pl & S 5 St', 'E 5 St & Cooper Sq', 'Howard St & Lafayette St', 'E 32 St & Park Ave', 'Greenwich St & Hubert St', 'W 27 St & 7 Ave', 'Vesey Pl & River Terrace']\n",
    "\n",
    "now = time.time()\n",
    "station_list = {}\n",
    "start_date = query.get_datetime(2023, 5, 1, 0, 0, 0)\n",
    "end_date = query.get_datetime(2023, 6, 30, 0, 0, 0)\n",
    "# for station in whitelist:\n",
    "#     station_list[station] = parameter.get_station(station, station_information = station_information,\n",
    "#                                                   start_date=start_date, end_date=end_date, whitelist=whitelist, tph=1)\n",
    "#     print(station, 'done')\n",
    "#     parameter.pickle_station(station_list[station], path)"
   ],
   "id": "40af840158c2884f",
   "outputs": [],
   "execution_count": 66
  },
  {
   "metadata": {
    "ExecuteTime": {
     "end_time": "2024-06-17T19:43:57.471236Z",
     "start_time": "2024-06-17T19:43:57.325762Z"
    }
   },
   "cell_type": "code",
   "source": [
    "station_list1 = {}\n",
    "path1 = f'data/station_data/test_whitelist/v1/'\n",
    "tph = 12\n",
    "for station in whitelist:\n",
    "    station_list1[station] = parameter.get_pickle_station(station, path1)\n",
    "    station_list1[station].refine_by_3()\n",
    "station_list0 = copy.deepcopy(station_list1)\n",
    "station_list2 = copy.deepcopy(station_list1)\n",
    "model_0 = Model(station_names=whitelist, stations_dict=station_list0, in_transit=[], tph=tph)\n",
    "model_0.init_state(path='data/station_data/status_at_time/2024_6_17_14:6.csv', time=timedelta(hours=14))\n",
    "model_1 = Model(station_names=whitelist, stations_dict=station_list1, in_transit=[], tph=tph)\n",
    "model_1.init_state(path='data/station_data/status_at_time/2024_6_17_14:6.csv', time=timedelta(hours=14))\n",
    "model_2 = Model(station_names=whitelist, stations_dict=station_list2, in_transit=[], tph=tph)\n",
    "model_2.init_state(path='data/station_data/status_at_time/2024_6_17_15:5.csv', time=timedelta(hours=15))\n"
   ],
   "id": "8bca00f586f5611b",
   "outputs": [],
   "execution_count": 67
  },
  {
   "metadata": {
    "ExecuteTime": {
     "end_time": "2024-06-17T19:45:12.593910Z",
     "start_time": "2024-06-17T19:45:12.581578Z"
    }
   },
   "cell_type": "code",
   "source": [
    "model_1.sim()\n",
    "station_bikes = 0\n",
    "for station in model_1.stations_dict.values():\n",
    "    print(station.name, 'has', station.curr_bikes, 'bikes')\n",
    "    station_bikes += station.curr_bikes\n",
    "print(len(model_1.in_transit), 'bikes in transit')\n",
    "print(station_bikes, 'station bikes')\n",
    "print(len(model_1.in_transit)+station_bikes, 'total bikes')\n",
    "print('time:', model_1.curr_time, 'total_trips:', model_1.total_trips, 'failures:', model_1.failures)\n",
    "print(model_1.mean_sq_error(model_2.stations_dict))\n",
    "print(model_0.mean_sq_error(model_2.stations_dict))"
   ],
   "id": "e7f80627a8c7f44b",
   "outputs": [
    {
     "name": "stdout",
     "output_type": "stream",
     "text": [
      "Allen St & Rivington St has 38 bikes\n",
      "Allen St & Stanton St has 28 bikes\n",
      "1 Ave & E 16 St has 8 bikes\n",
      "Mercer St & Spring St has 0 bikes\n",
      "Mercer St & Bleecker St has 32 bikes\n",
      "9 Ave & W 18 St has 8 bikes\n",
      "E 103 St & Lexington Ave has 20 bikes\n",
      "1 Ave & E 6 St has 83 bikes\n",
      "Norfolk St & Broome St has 0 bikes\n",
      "E 1 St & 1 Ave has 16 bikes\n",
      "S 4 St & Wythe Ave has 0 bikes\n",
      "Lafayette St & Jersey St has 11 bikes\n",
      "Broadway & Berry St has 0 bikes\n",
      "S 5 Pl & S 5 St has 36 bikes\n",
      "E 5 St & Cooper Sq has 12 bikes\n",
      "Howard St & Lafayette St has 0 bikes\n",
      "E 32 St & Park Ave has 5 bikes\n",
      "Greenwich St & Hubert St has 0 bikes\n",
      "W 27 St & 7 Ave has 6 bikes\n",
      "Vesey Pl & River Terrace has 0 bikes\n",
      "257 bikes in transit\n",
      "303 station bikes\n",
      "560 total bikes\n",
      "time: 18:00:00 total_trips: 3333 failures: 993\n",
      "1004.0\n",
      "9.95\n"
     ]
    }
   ],
   "execution_count": 118
  },
  {
   "metadata": {
    "ExecuteTime": {
     "end_time": "2024-06-17T19:45:24.379201Z",
     "start_time": "2024-06-17T19:45:24.373979Z"
    }
   },
   "cell_type": "code",
   "source": [
    "for station in whitelist:\n",
    "    print('init', model_0.stations_dict[station].curr_bikes, 'pred', model_1.stations_dict[station].curr_bikes, 'res', model_2.stations_dict[station].curr_bikes, model_0.stations_dict[station].rate[model_1.curr_tick])\n",
    "print(model_1.mean_sq_error(model_2.stations_dict))\n",
    "print(model_0.mean_sq_error(model_2.stations_dict))\n"
   ],
   "id": "be707b4a71d1fde8",
   "outputs": [
    {
     "name": "stdout",
     "output_type": "stream",
     "text": [
      "init 14 pred 38 res 11 4.4222222222222225\n",
      "init 9 pred 28 res 12 4.511111111111111\n",
      "init 1 pred 8 res 0 4.177777777777778\n",
      "init 61 pred 0 res 53 5.5777777777777775\n",
      "init 65 pred 32 res 59 5.066666666666666\n",
      "init 75 pred 8 res 76 6.666666666666667\n",
      "init 20 pred 20 res 21 1.0888888888888888\n",
      "init 14 pred 83 res 20 3.3555555555555556\n",
      "init 32 pred 0 res 33 6.088888888888889\n",
      "init 34 pred 16 res 33 4.955555555555556\n",
      "init 5 pred 0 res 7 3.8444444444444446\n",
      "init 57 pred 11 res 55 7.022222222222222\n",
      "init 5 pred 0 res 6 2.8444444444444446\n",
      "init 35 pred 36 res 34 2.1777777777777776\n",
      "init 35 pred 12 res 33 2.3777777777777778\n",
      "init 34 pred 0 res 33 3.9555555555555557\n",
      "init 8 pred 5 res 4 5.0\n",
      "init 5 pred 0 res 5 17.533333333333335\n",
      "init 4 pred 6 res 4 7.066666666666666\n",
      "init 47 pred 0 res 44 10.844444444444445\n",
      "1004.0\n",
      "9.95\n"
     ]
    }
   ],
   "execution_count": 120
  },
  {
   "metadata": {
    "ExecuteTime": {
     "end_time": "2024-06-17T18:45:49.240344Z",
     "start_time": "2024-06-17T18:45:49.236488Z"
    }
   },
   "cell_type": "code",
   "source": [
    "# now = time.time()\n",
    "# stations = pd.read_csv('data/stations.csv', index_col=0)\n",
    "# station_list = {}\n",
    "# for station in stations['station_name']:\n",
    "#     station_list[station] = parameter.get_pickle_station(station)\n",
    "# remove = {}\n",
    "# for station in station_list.values():\n",
    "#     for i in range(len(station.transition)):\n",
    "#         if sum(station.transition[i]) == 0:\n",
    "#             station.transition[i][0] = 1\n",
    "# print(time.time() - now)"
   ],
   "id": "e276f0c721cfd54a",
   "outputs": [],
   "execution_count": 20
  },
  {
   "metadata": {},
   "cell_type": "code",
   "outputs": [],
   "execution_count": null,
   "source": "",
   "id": "e9e5d1ba1d8b4712"
  }
 ],
 "metadata": {
  "kernelspec": {
   "display_name": "Python 3",
   "language": "python",
   "name": "python3"
  },
  "language_info": {
   "codemirror_mode": {
    "name": "ipython",
    "version": 2
   },
   "file_extension": ".py",
   "mimetype": "text/x-python",
   "name": "python",
   "nbconvert_exporter": "python",
   "pygments_lexer": "ipython2",
   "version": "2.7.6"
  }
 },
 "nbformat": 4,
 "nbformat_minor": 5
}
