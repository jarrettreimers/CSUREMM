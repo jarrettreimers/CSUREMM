{
 "cells": [
  {
   "cell_type": "code",
   "id": "initial_id",
   "metadata": {
    "collapsed": true,
    "ExecuteTime": {
     "end_time": "2024-06-10T19:50:22.690534Z",
     "start_time": "2024-06-10T19:50:22.591156Z"
    }
   },
   "source": [
    "from model import Model\n",
    "from station import Station\n",
    "import numpy as np"
   ],
   "outputs": [],
   "execution_count": 1
  },
  {
   "metadata": {
    "ExecuteTime": {
     "end_time": "2024-06-10T19:50:22.941713Z",
     "start_time": "2024-06-10T19:50:22.929334Z"
    }
   },
   "cell_type": "code",
   "source": [
    "station_1 = Station(\n",
    "    name='Station 1', \n",
    "    id=1, \n",
    "    neighbors_dist={'Station 1': 0, 'Station 2': 1, 'Station 3': 3, 'Station 4': 2, 'Station 5': 7}, \n",
    "    nearest_neighbors=[], \n",
    "    max_docks=30, \n",
    "    curr_bikes=15, \n",
    "    full=False,\n",
    "    empty=False,\n",
    "    rate = [abs(np.sin(np.pi*i+1)*1.5) for i in range(24)],\n",
    "    transition=[0, 0.15, 0.1, 0.25, 0.5])\n",
    "\n",
    "station_2 = Station(\n",
    "    name='Station 2', \n",
    "    id=2, \n",
    "    neighbors_dist={'Station 1': 1, 'Station 2': 0, 'Station 3': 4, 'Station 4': 1, 'Station 5': 8}, \n",
    "    nearest_neighbors=[], \n",
    "    max_docks=30, \n",
    "    curr_bikes=10, \n",
    "    full=False,\n",
    "    empty=False,\n",
    "    rate = [abs(np.sin(np.pi*i+2)*2) for i in range(24)],\n",
    "    transition=[0.4, 0, 0.1, 0.25, 0.25])\n",
    "\n",
    "station_3 = Station(\n",
    "    name='Station 3', \n",
    "    id=3, \n",
    "    neighbors_dist={'Station 1': 3, 'Station 2': 4, 'Station 3': 0, 'Station 4': 1, 'Station 5': 4}, \n",
    "    nearest_neighbors=[], \n",
    "    max_docks=45, \n",
    "    curr_bikes=25, \n",
    "    full=False,\n",
    "    empty=False,\n",
    "    rate = [abs(np.sin(np.pi*i+3)) for i in range(24)],\n",
    "    transition=[0.5, 0.2, 0, 0.25, 0.05])\n",
    "\n",
    "station_4 = Station(\n",
    "    name='Station 4', \n",
    "    id=1, \n",
    "    neighbors_dist={'Station 1': 2, 'Station 2': 1, 'Station 3': 1, 'Station 4': 0, 'Station 5': 5}, \n",
    "    nearest_neighbors=[], \n",
    "    max_docks=30, \n",
    "    curr_bikes=15, \n",
    "    full=False,\n",
    "    empty=False,\n",
    "    rate = [abs(np.sin(np.pi*i/12)*2) for i in range(24)],\n",
    "    transition=[0.25, 0.05, 0.2, 0, 0.5])\n",
    "\n",
    "station_5 = Station(\n",
    "    name='Station 5', \n",
    "    id=1, \n",
    "    neighbors_dist={'Station 1': 7, 'Station 2': 8, 'Station 3': 4, 'Station 4': 5, 'Station 5': 0}, \n",
    "    nearest_neighbors=[], \n",
    "    max_docks=30, \n",
    "    curr_bikes=22, \n",
    "    full=False,\n",
    "    empty=False,\n",
    "    rate = [abs(np.sin(np.pi*i+1)*2) for i in range(24)],\n",
    "    transition=[0.6, 0.05, 0.1, 0.25, 0])\n",
    "\n",
    "\n",
    "station_list = ['Station 1', 'Station 2', 'Station 3', 'Station 4', 'Station 5']\n",
    "stations = {'Station 1': station_1, 'Station 2': station_2, 'Station 3': station_3, 'Station 4': station_4, 'Station 5': station_5}\n",
    "in_transit = []\n",
    "\n",
    "model = Model(station_list, stations, in_transit)"
   ],
   "id": "472d855a38dd3766",
   "outputs": [],
   "execution_count": 2
  },
  {
   "metadata": {
    "ExecuteTime": {
     "end_time": "2024-06-10T19:51:16.435231Z",
     "start_time": "2024-06-10T19:51:16.429851Z"
    }
   },
   "cell_type": "code",
   "source": [
    "model.sim(1)\n",
    "\n",
    "for station_name in model.stations:\n",
    "    station = model.stations[station_name]\n",
    "    print(station.name, 'rate', round(station.rate[model.curr_time], 3))\n",
    "    print(station.curr_bikes, 'bikes in stock')\n",
    "    print()\n",
    "    \n",
    "print(len(model.in_transit), 'in transit')"
   ],
   "id": "e276f0c721cfd54a",
   "outputs": [
    {
     "name": "stdout",
     "output_type": "stream",
     "text": [
      "Failure to depart\n",
      "Station 2 to Station 1 in 1 with 0 completed\n",
      "Failure to depart\n",
      "Station 2 to Station 5 in 8 with 0 completed\n",
      "Station 1 rate 1.262\n",
      "11 bikes in stock\n",
      "\n",
      "Station 2 rate 1.819\n",
      "0 bikes in stock\n",
      "\n",
      "Station 3 rate 0.141\n",
      "27 bikes in stock\n",
      "\n",
      "Station 4 rate 1.932\n",
      "1 bikes in stock\n",
      "\n",
      "Station 5 rate 1.683\n",
      "13 bikes in stock\n",
      "\n",
      "35 in transit\n"
     ]
    }
   ],
   "execution_count": 9
  },
  {
   "metadata": {},
   "cell_type": "code",
   "outputs": [],
   "execution_count": null,
   "source": "",
   "id": "e9e5d1ba1d8b4712"
  }
 ],
 "metadata": {
  "kernelspec": {
   "display_name": "Python 3",
   "language": "python",
   "name": "python3"
  },
  "language_info": {
   "codemirror_mode": {
    "name": "ipython",
    "version": 2
   },
   "file_extension": ".py",
   "mimetype": "text/x-python",
   "name": "python",
   "nbconvert_exporter": "python",
   "pygments_lexer": "ipython2",
   "version": "2.7.6"
  }
 },
 "nbformat": 4,
 "nbformat_minor": 5
}
