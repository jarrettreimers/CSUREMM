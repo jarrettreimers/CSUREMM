{
 "cells": [
  {
   "cell_type": "code",
   "id": "initial_id",
   "metadata": {
    "collapsed": true,
    "ExecuteTime": {
     "end_time": "2024-07-29T14:33:28.032764Z",
     "start_time": "2024-07-29T14:33:26.752530Z"
    }
   },
   "source": [
    "import os, simplejson, pickle, time, parameter, importlib, greedy_path, random\n",
    "\n",
    "from cluster_model import ClusterModel\n",
    "from state_optimization import StateOptimization\n",
    "from datetime import datetime, timedelta\n",
    "from gurobipy import GRB\n",
    "from shapely.geometry import shape, Point, Polygon, MultiPolygon\n",
    "from shapely.ops import nearest_points\n",
    "from matplotlib.lines import Line2D\n",
    "from geojson import load\n",
    "\n",
    "import gurobipy as gp\n",
    "import matplotlib.pyplot as plt\n",
    "import numpy as np\n",
    "import pandas as pd\n",
    "import seaborn as sns\n",
    "import integer_programming as ip\n",
    "import networkx as nx\n"
   ],
   "outputs": [],
   "execution_count": 1
  },
  {
   "metadata": {
    "ExecuteTime": {
     "end_time": "2024-07-29T14:33:31.190374Z",
     "start_time": "2024-07-29T14:33:28.034993Z"
    }
   },
   "cell_type": "code",
   "source": [
    "with open('../data/station_data/2024 model/v2/tph_4/data.pickle', 'rb') as f:\n",
    "    station_data = pickle.load(f)\n",
    "    \n",
    "with open('../station_information.json', 'r') as f:\n",
    "    station_information = simplejson.load(f)['data']['stations']\n",
    "    \n",
    "with open('../data/ideal_states/bounds.pickle', 'rb') as f:\n",
    "    bounds = pickle.load(f)\n",
    "\n",
    "tph = 4\n",
    "square_size = 0.005"
   ],
   "id": "9b2e8384384388af",
   "outputs": [],
   "execution_count": 2
  },
  {
   "metadata": {
    "ExecuteTime": {
     "end_time": "2024-07-20T20:39:50.117308Z",
     "start_time": "2024-07-20T20:39:45.341703Z"
    }
   },
   "cell_type": "code",
   "source": [
    "model = ClusterModel(station_data=station_data)\n",
    "\n",
    "start_df = parameter.get_state_df(station_information, f'rebalancing/data/9/2024-07-09-10-00.pickle')\n",
    "model.init_df_state(start_df, time=timedelta(hours=6))\n",
    "\n",
    "original_state = {i: model.cluster_dict[i].curr_bikes for i in model.cluster_dict}\n",
    "original_clusters = {cluster.name: cluster for cluster in model.cluster_dict.values()}\n",
    "\n",
    "state_optimization = StateOptimization(model)\n",
    "\n",
    "for cluster in model.cluster_dict.values():\n",
    "    cluster.rate = [rate*1.75 for rate in cluster.rate]"
   ],
   "id": "3b8d7085ef118462",
   "outputs": [
    {
     "name": "stdout",
     "output_type": "stream",
     "text": [
      "36 horizontal squares and 51 vertical squares. Total squares: 1836\n"
     ]
    }
   ],
   "execution_count": 321
  },
  {
   "metadata": {
    "ExecuteTime": {
     "end_time": "2024-07-20T20:44:36.838825Z",
     "start_time": "2024-07-20T20:43:49.307747Z"
    }
   },
   "cell_type": "code",
   "source": "opt_state = state_optimization.optimize(length=timedelta(hours=16), steps=12, min=1.6)",
   "id": "857e1e713c25a557",
   "outputs": [
    {
     "name": "stdout",
     "output_type": "stream",
     "text": [
      "Step 1 of 12 completed 4078 failures\n",
      "Step 2 of 12 completed 3248 failures\n",
      "Step 3 of 12 completed 2720 failures\n",
      "Step 4 of 12 completed 1825 failures\n",
      "Step 5 of 12 completed 2769 failures\n",
      "Step 6 of 12 completed 2339 failures\n",
      "Step 7 of 12 completed 1528 failures\n",
      "Step 8 of 12 completed 2319 failures\n",
      "Step 9 of 12 completed 2171 failures\n",
      "Step 10 of 12 completed 2327 failures\n",
      "Step 11 of 12 completed 2088 failures\n",
      "Step 12 of 12 completed 1999 failures\n"
     ]
    }
   ],
   "execution_count": 324
  },
  {
   "metadata": {
    "ExecuteTime": {
     "end_time": "2024-07-18T15:13:06.881378Z",
     "start_time": "2024-07-18T15:11:50.205989Z"
    }
   },
   "cell_type": "code",
   "source": [
    "with open(\"../new-york-city-boroughs.geojson\") as f:\n",
    "    boroughs_geojson = simplejson.load(f)\n",
    "    \n",
    "def classify_borough(lat, lon, boroughs_geojson):\n",
    "    point = Point(lon, lat)\n",
    "    min_distance = float('inf')\n",
    "    nearest_borough = 'Unknown'\n",
    "    \n",
    "    for feature in boroughs_geojson['features']:\n",
    "        polygon = shape(feature['geometry'])\n",
    "        if polygon.contains(point):\n",
    "            return feature['properties']['name']  # or appropriate property name\n",
    "        # Calculate the distance to the nearest point on the polygon\n",
    "        nearest_point = nearest_points(point, polygon)[1]\n",
    "        distance = point.distance(nearest_point)\n",
    "        if distance < min_distance:\n",
    "            min_distance = distance\n",
    "            nearest_borough = feature['properties']['name']\n",
    "    \n",
    "    return nearest_borough\n",
    "\n",
    "boro_dict = {}\n",
    "for cluster in model.cluster_dict.values():\n",
    "    boro_dict[cluster.name] = classify_borough(cluster.lat, cluster.lon, boroughs_geojson)\n",
    "    \n",
    "clusters = []\n",
    "for cluster in boro_dict:\n",
    "    if boro_dict[cluster] == 'Brooklyn':\n",
    "        clusters.append(cluster)"
   ],
   "id": "78221ad2591ad50c",
   "outputs": [],
   "execution_count": 9
  },
  {
   "metadata": {
    "ExecuteTime": {
     "end_time": "2024-07-18T15:13:06.886589Z",
     "start_time": "2024-07-18T15:13:06.882975Z"
    }
   },
   "cell_type": "code",
   "source": "",
   "id": "b978bef40fd50938",
   "outputs": [],
   "execution_count": 10
  },
  {
   "metadata": {
    "ExecuteTime": {
     "end_time": "2024-07-17T19:53:01.523619Z",
     "start_time": "2024-07-17T19:53:01.498004Z"
    }
   },
   "cell_type": "code",
   "source": [
    "start_levels = {cluster.name: cluster.curr_bikes for cluster in model.cluster_dict.values() if cluster.name in clusters}\n",
    "optimal_levels = {cluster: opt_state[cluster] for cluster in clusters}\n",
    "\n",
    "difference = {}\n",
    "for cluster in clusters:\n",
    "    difference[cluster] = optimal_levels[cluster] - start_levels[cluster]\n",
    "sorted_difference = dict(sorted(difference.items(), key=lambda item: item[1]))\n",
    "sorted_clusters = [cluster for cluster in sorted_difference.keys()]\n",
    "limit = 15 # take this many worst clusters on each end\n",
    "worst_clusters = sorted_clusters[:limit] + sorted_clusters[-limit:]\n",
    "\n",
    "for cluster in clusters:\n",
    "    if cluster not in worst_clusters:\n",
    "        start_levels[cluster] = 0\n",
    "        optimal_levels[cluster] = 0\n",
    "        \n",
    "positions = {cluster.name: (cluster.lon, cluster.lat) for cluster in model.cluster_dict.values() if cluster.name in clusters}\n",
    "adjacency = model.get_adjacent_clusters()\n",
    "adjacency = {cluster: adjacency[cluster] for cluster in adjacency if cluster in clusters}\n",
    "for cluster in adjacency:\n",
    "    remove = []\n",
    "    for adj_cluster in adjacency[cluster]:\n",
    "        if adj_cluster not in clusters:\n",
    "            remove.append(adj_cluster)\n",
    "    for rm in remove:\n",
    "        adjacency[cluster].remove(rm)"
   ],
   "id": "523cc6be2060c1e5",
   "outputs": [],
   "execution_count": 513
  },
  {
   "metadata": {
    "ExecuteTime": {
     "end_time": "2024-07-17T14:47:07.879678Z",
     "start_time": "2024-07-17T14:47:07.852418Z"
    }
   },
   "cell_type": "code",
   "source": [
    "model.reset_state(original_state, [], timedelta(hours=6))\n",
    "\"\"\"For adding iterative additional trucks\"\"\"\n",
    "for cluster in increase_dict:\n",
    "    model.cluster_dict[cluster].curr_bikes += increase_dict[cluster]\n",
    "for cluster in decrease_dict:\n",
    "    model.cluster_dict[cluster].curr_bikes -= decrease_dict[cluster]\n",
    "original_state = {cluster.name: cluster.curr_bikes for cluster in model.cluster_dict.values()}\n",
    "    \n",
    "start_levels = {cluster.name: cluster.curr_bikes for cluster in model.cluster_dict.values() if cluster.name in clusters}\n",
    "optimal_levels = {cluster: opt_state[cluster] for cluster in clusters}\n",
    "positions = {cluster.name: (cluster.lon, cluster.lat) for cluster in model.cluster_dict.values() if cluster.name in clusters}\n",
    "adjacency = model.get_adjacent_clusters()\n",
    "adjacency = {cluster: adjacency[cluster] for cluster in adjacency if cluster in clusters}\n",
    "for cluster in adjacency:\n",
    "    remove = []\n",
    "    for adj_cluster in adjacency[cluster]:\n",
    "        if adj_cluster not in clusters:\n",
    "            remove.append(adj_cluster)\n",
    "    for rm in remove:\n",
    "        adjacency[cluster].remove(rm)\n"
   ],
   "id": "b40ff533a72a85ac",
   "outputs": [],
   "execution_count": 472
  },
  {
   "metadata": {
    "ExecuteTime": {
     "end_time": "2024-07-17T19:59:50.248478Z",
     "start_time": "2024-07-17T19:53:07.412448Z"
    }
   },
   "cell_type": "code",
   "source": [
    "T = 40\n",
    "K = 1\n",
    "L = 30\n",
    "\n",
    "ip_model, x, y, b = ip.create_model(T=T, K=K, L=L, \n",
    "                start_levels=start_levels,\n",
    "                stations=clusters, \n",
    "                optimal_levels=optimal_levels, \n",
    "                positions=positions,  \n",
    "                neighbors=adjacency)\n",
    "\n",
    "truck_paths = ip.graph_model(x, b, K, T, clusters, positions)"
   ],
   "id": "be44e85fe0596f51",
   "outputs": [
    {
     "name": "stdout",
     "output_type": "stream",
     "text": [
      "Gurobi Optimizer version 11.0.2 build v11.0.2rc0 (mac64[x86] - Darwin 22.5.0 22F66)\n",
      "\n",
      "CPU model: Intel(R) Core(TM) i9-9980HK CPU @ 2.40GHz\n",
      "Thread count: 8 physical cores, 16 logical processors, using up to 16 threads\n",
      "\n",
      "Optimize a model with 46782 rows, 22477 columns and 178378 nonzeros\n",
      "Model fingerprint: 0x17554641\n",
      "Variable types: 0 continuous, 22477 integer (11080 binary)\n",
      "Coefficient statistics:\n",
      "  Matrix range     [1e+00, 3e+01]\n",
      "  Objective range  [1e+00, 1e+00]\n",
      "  Bounds range     [1e+00, 1e+00]\n",
      "  RHS range        [1e+00, 2e+02]\n",
      "Presolve removed 32388 rows and 10186 columns\n",
      "Presolve time: 0.22s\n",
      "Presolved: 14394 rows, 12291 columns, 82765 nonzeros\n",
      "Variable types: 0 continuous, 12291 integer (11069 binary)\n",
      "Found heuristic solution: objective 1089.0000000\n",
      "Found heuristic solution: objective 1051.0000000\n",
      "\n",
      "Root relaxation: objective 2.890000e+02, 6147 iterations, 1.18 seconds (1.39 work units)\n",
      "\n",
      "Interrupt request received\n",
      "\n",
      "    Nodes    |    Current Node    |     Objective Bounds      |     Work\n",
      " Expl Unexpl |  Obj  Depth IntInf | Incumbent    BestBd   Gap | It/Node Time\n",
      "\n",
      "     0     0  289.00000    0  772 1051.00000  289.00000  72.5%     -    5s\n",
      "     0     0  289.00000    0  767 1051.00000  289.00000  72.5%     -    5s\n",
      "H    0     0                    1029.0000000  289.00000  71.9%     -    5s\n",
      "H    0     0                     987.0000000  289.00000  70.7%     -    7s\n",
      "     0     0  289.00000    0  914  987.00000  289.00000  70.7%     -    8s\n",
      "     0     0  289.00000    0  783  987.00000  289.00000  70.7%     -    9s\n",
      "     0     0  289.00000    0  884  987.00000  289.00000  70.7%     -   15s\n",
      "     0     0  289.00000    0  880  987.00000  289.00000  70.7%     -   15s\n",
      "H    0     0                     927.0000000  289.00000  68.8%     -   16s\n",
      "H    0     0                     879.0000000  289.00000  67.1%     -   16s\n",
      "     0     0  289.00000    0  894  879.00000  289.00000  67.1%     -   16s\n",
      "H    0     0                     867.0000000  289.00000  66.7%     -   19s\n",
      "     0     0  289.00000    0  847  867.00000  289.00000  66.7%     -   21s\n",
      "     0     0  289.00000    0  912  867.00000  289.00000  66.7%     -   21s\n",
      "     0     0  289.00000    0  898  867.00000  289.00000  66.7%     -   24s\n",
      "     0     0  289.00000    0  898  867.00000  289.00000  66.7%     -   25s\n",
      "H    0     0                     847.0000000  289.00000  65.9%     -   26s\n",
      "     0     2  289.00000    0  875  847.00000  289.00000  65.9%     -   30s\n",
      "    23    32  289.00000    5  799  847.00000  289.00000  65.9%  2429   35s\n",
      "    47    62  289.00000    7  800  847.00000  289.00000  65.9%  1755   40s\n",
      "    93   163  289.00000    9  945  847.00000  289.00000  65.9%  1449   47s\n",
      "   172   378  289.00000   10  879  847.00000  289.00000  65.9%  1322   53s\n",
      "   421   632  289.00000   31  656  847.00000  289.00000  65.9%   892   69s\n",
      "H  560   632                     811.0000000  289.00000  64.4%   823   69s\n",
      "H  699  1139                     807.0000000  289.00000  64.2%   810   87s\n",
      "  1347  1617  690.00050  140  566  807.00000  289.00000  64.2%   641  105s\n",
      "H 1837  1587                     789.0000000  289.00000  63.4%   562  105s\n",
      "  1958  1588  545.79618  206  898  789.00000  289.00000  63.4%   563  117s\n",
      "  1960  1589  315.97642   90  926  789.00000  289.00000  63.4%   563  127s\n",
      "  1961  1590  492.78860   18  965  789.00000  289.00000  63.4%   562  137s\n",
      "  1963  1591  319.38223   38  882  789.00000  289.00000  63.4%   562  149s\n",
      "  1964  1592  289.00000    7  887  789.00000  289.00000  63.4%   561  151s\n",
      "  1965  1593  724.24509   42  913  789.00000  289.00000  63.4%   561  159s\n",
      "  1966  1593  408.00391   79 1019  789.00000  289.00000  63.4%   561  161s\n",
      "  1967  1594  383.08181   70 1018  789.00000  289.00000  63.4%   561  165s\n",
      "  1969  1595  409.90716  105  931  789.00000  289.00000  63.4%   560  174s\n",
      "  1970  1596  353.12509   76 1018  789.00000  289.00000  63.4%   560  176s\n",
      "  1971  1597  289.00000   18  912  789.00000  289.00000  63.4%   559  184s\n",
      "  1972  1597  289.00000   11 1067  789.00000  289.00000  63.4%   559  185s\n",
      "  1973  1598  416.52871   50  954  789.00000  289.00000  63.4%   559  196s\n",
      "  1975  1599  631.02211  108 1048  789.00000  289.00000  63.4%   558  207s\n",
      "  1977  1601  289.00000   48 1070  789.00000  289.00000  63.4%   558  214s\n",
      "  1978  1601  669.47638   36 1094  789.00000  289.00000  63.4%   557  216s\n",
      "  1979  1602  435.02561   85  937  789.00000  289.00000  63.4%   557  222s\n",
      "  1980  1603  590.18387  241  912  789.00000  289.00000  63.4%   557  228s\n",
      "  1981  1603  289.00000   45  912  789.00000  289.00000  63.4%   557  232s\n",
      "  1982  1607  289.00000   10  885  789.00000  289.00000  63.4%   709  240s\n",
      "  1988  1617  289.00000   12  997  789.00000  289.00000  63.4%   718  256s\n",
      "  2004  1627  289.00000   13  822  789.00000  289.00000  63.4%   738  267s\n",
      "  2012  1632  289.00000   14  910  789.00000  289.00000  63.4%   758  274s\n",
      "  2020  1637  289.00000   14  869  789.00000  289.00000  63.4%   763  276s\n",
      "  2053  1657  289.00000   16  977  789.00000  289.00000  63.4%   782  292s\n",
      "  2078  1682  289.00000   17  954  789.00000  289.00000  63.4%   789  295s\n",
      "  2098  1682  306.00434   18 1129  789.00000  289.00000  63.4%   794  308s\n",
      "  2107  1692  289.81140   18 1162  789.00000  289.00000  63.4%   807  316s\n",
      "  2123  1751  437.08768   19  755  789.00000  289.00000  63.4%   820  327s\n",
      "  2193  1741  327.00000   22  666  789.00000  289.00000  63.4%   837  335s\n",
      "  2219  1789  383.41971   22 1008  789.00000  289.00000  63.4%   848  343s\n",
      "  2291  1775  327.00000   23  572  789.00000  289.00000  63.4%   853  356s\n",
      "  2310  1844  327.00000   24  588  789.00000  289.00000  63.4%   871  368s\n",
      "  2386  1833  327.00000   25  653  789.00000  289.00000  63.4%   872  374s\n",
      "  2404  1897  327.00000   26  647  789.00000  289.00000  63.4%   885  382s\n",
      "  2476  1887  327.00000   28  531  789.00000  289.00000  63.4%   886  386s\n",
      "  2490  1978  327.00000   29  637  789.00000  289.00000  63.4%   893  390s\n",
      "  2595  1998  327.00000   32 1000  789.00000  289.00000  63.4%   898  397s\n",
      "  2662  1988  351.92551   64  783  789.00000  289.00000  63.4%   900  401s\n",
      "\n",
      "Cutting planes:\n",
      "  Implied bound: 18\n",
      "  MIR: 89\n",
      "  StrongCG: 106\n",
      "  Flow cover: 215\n",
      "  Zero half: 9\n",
      "  RLT: 42\n",
      "  Relax-and-lift: 16\n",
      "\n",
      "Explored 2675 nodes (2529056 simplex iterations) in 401.21 seconds (505.35 work units)\n",
      "Thread count was 16 (of 16 available processors)\n",
      "\n",
      "Solution count 10: 789 807 811 ... 1051\n",
      "\n",
      "Solve interrupted\n",
      "Best objective 7.890000000000e+02, best bound 2.890000000000e+02, gap 63.3714%\n"
     ]
    },
    {
     "data": {
      "text/plain": [
       "<Figure size 1000x800 with 1 Axes>"
      ],
      "image/png": "[encoded data removed]"
     },
     "metadata": {},
     "output_type": "display_data"
    }
   ],
   "execution_count": 514
  },
  {
   "metadata": {
    "ExecuteTime": {
     "end_time": "2024-07-17T19:59:54.502122Z",
     "start_time": "2024-07-17T19:59:54.488434Z"
    }
   },
   "cell_type": "code",
   "source": [
    "print('TRUCK REPORTS:')\n",
    "for k in range(1, K+1):\n",
    "    print('\\n\\nTRUCK {}\\n'.format(k))\n",
    "    truck_data = truck_paths[k]\n",
    "    increase_dict = {}\n",
    "    decrease_dict = {}\n",
    "    for i in range(0, len(truck_data)-1):\n",
    "        if truck_data[i][1] != truck_data[i+1][1]:\n",
    "            print('time {}: traveled from {} to {}'.format(truck_data[i][0],truck_data[i][1], truck_data[i+1][1]))\n",
    "        if int(truck_data[i][2][0:2]) > int(truck_data[i+1][2][0:2]):\n",
    "            print('time {}: dropped off {} bikes at {}'.format(truck_data[i][0],\n",
    "                                                           int(truck_data[i][2][0:2]) - int(truck_data[i+1][2][0:2]), truck_data[i][1]))\n",
    "            if truck_data[i][1] in increase_dict.keys():\n",
    "                increase_dict[truck_data[i][1]] += int(truck_data[i][2][0:2]) - int(truck_data[i+1][2][0:2])\n",
    "            else:\n",
    "                increase_dict[truck_data[i][1]] = int(truck_data[i][2][0:2]) - int(truck_data[i+1][2][0:2])\n",
    "        if int(truck_data[i][2][0:2]) < int(truck_data[i+1][2][0:2]):\n",
    "            print('time {}: picked up {} bikes at {}'.format(truck_data[i][0],\n",
    "                                                           int(truck_data[i+1][2][0:2]) - int(truck_data[i][2][0:2]), truck_data[i][1]))\n",
    "            if truck_data[i][1] in decrease_dict.keys():\n",
    "                    decrease_dict[truck_data[i][1]] += int(truck_data[i+1][2][0:2]) - int(truck_data[i][2][0:2])\n",
    "            else:\n",
    "                decrease_dict[truck_data[i][1]] = int(truck_data[i+1][2][0:2]) - int(truck_data[i][2][0:2])\n",
    "                \n",
    "    print('\\nOVERALL IMPACT\\n')\n",
    "    for cluster in increase_dict:\n",
    "        print('increased {} by {} bikes'.format(cluster, increase_dict[cluster]))\n",
    "    \n",
    "    for cluster in decrease_dict:\n",
    "        print('decreased {} by {} bikes'.format(cluster, decrease_dict[cluster]))"
   ],
   "id": "36b8a45413cf470a",
   "outputs": [
    {
     "name": "stdout",
     "output_type": "stream",
     "text": [
      "TRUCK REPORTS:\n",
      "\n",
      "\n",
      "TRUCK 1\n",
      "\n",
      "time 1: picked up 30 bikes at 1410\n",
      "time 2: traveled from 1410 to 1446\n",
      "time 3: traveled from 1446 to 1482\n",
      "time 4: traveled from 1482 to 1481\n",
      "time 5: dropped off 30 bikes at 1481\n",
      "time 6: traveled from 1481 to 1482\n",
      "time 7: traveled from 1482 to 1483\n",
      "time 8: traveled from 1483 to 1447\n",
      "time 10: picked up 30 bikes at 1447\n",
      "time 11: traveled from 1447 to 1483\n",
      "time 12: traveled from 1483 to 1482\n",
      "time 13: dropped off 11 bikes at 1482\n",
      "time 14: traveled from 1482 to 1483\n",
      "time 15: traveled from 1483 to 1519\n",
      "time 16: traveled from 1519 to 1555\n",
      "time 16: picked up 11 bikes at 1519\n",
      "time 17: dropped off 30 bikes at 1555\n",
      "time 18: traveled from 1555 to 1556\n",
      "time 19: picked up 17 bikes at 1556\n",
      "time 20: traveled from 1556 to 1520\n",
      "time 21: picked up 13 bikes at 1520\n",
      "time 22: traveled from 1520 to 1484\n",
      "time 23: dropped off 30 bikes at 1484\n",
      "time 24: traveled from 1484 to 1520\n",
      "time 25: picked up 30 bikes at 1520\n",
      "time 26: traveled from 1520 to 1484\n",
      "time 27: dropped off 2 bikes at 1484\n",
      "time 28: traveled from 1484 to 1483\n",
      "time 29: traveled from 1483 to 1482\n",
      "time 30: dropped off 28 bikes at 1482\n",
      "time 31: traveled from 1482 to 1446\n",
      "time 32: traveled from 1446 to 1447\n",
      "time 33: picked up 4 bikes at 1447\n",
      "time 34: traveled from 1447 to 1411\n",
      "time 35: picked up 26 bikes at 1411\n",
      "time 36: traveled from 1411 to 1375\n",
      "time 37: traveled from 1375 to 1339\n",
      "time 38: traveled from 1339 to 1338\n",
      "time 39: dropped off 30 bikes at 1338\n",
      "\n",
      "OVERALL IMPACT\n",
      "\n",
      "increased 1481 by 30 bikes\n",
      "increased 1482 by 39 bikes\n",
      "increased 1555 by 30 bikes\n",
      "increased 1484 by 32 bikes\n",
      "increased 1338 by 30 bikes\n",
      "decreased 1410 by 30 bikes\n",
      "decreased 1447 by 34 bikes\n",
      "decreased 1519 by 11 bikes\n",
      "decreased 1556 by 17 bikes\n",
      "decreased 1520 by 43 bikes\n",
      "decreased 1411 by 26 bikes\n"
     ]
    }
   ],
   "execution_count": 515
  },
  {
   "metadata": {
    "ExecuteTime": {
     "end_time": "2024-07-16T23:30:01.411624Z",
     "start_time": "2024-07-16T23:30:01.378173Z"
    }
   },
   "cell_type": "code",
   "source": [
    "res = {}\n",
    "for cluster in clusters[:100]:\n",
    "    curr_bikes = 0\n",
    "    max_bikes = 40\n",
    "    res[cluster] = greedy_path.find_route(start=cluster, weight=weight, vertical_squares=model.vertical_squares, horizontal_squares=model.horizontal_squares, curr_bikes=curr_bikes, max_bikes=max_bikes, adjacency=adjacency, max_time=10, drop=False)\n",
    "res"
   ],
   "id": "ed80b79219cd4dc9",
   "outputs": [
    {
     "data": {
      "text/plain": [
       "{1058: (1058, 1, -12),\n",
       " 1093: (1093, 1, -19),\n",
       " 1094: (1093, 2, -19),\n",
       " 1129: (1129, 1, -26),\n",
       " 1130: (1129, 2, -26),\n",
       " 1131: (1131, 1, -17),\n",
       " 1132: (1131, 2, -17),\n",
       " 1165: (1201, 2, -27),\n",
       " 1166: (1166, 1, -23),\n",
       " 1167: (1166, 2, -23),\n",
       " 1168: (1202, 4, -32),\n",
       " 1169: (1238, 6, -40),\n",
       " 1200: (1200, 1, -12),\n",
       " 1201: (1201, 1, -27),\n",
       " 1202: (1202, 1, -32),\n",
       " 1203: (1203, 1, -21),\n",
       " 1204: (1240, 2, -22),\n",
       " 1205: (1202, 4, -32),\n",
       " 1236: (1272, 2, -24),\n",
       " 1237: (1237, 1, -20),\n",
       " 1238: (1238, 1, -40),\n",
       " 1239: (1238, 2, -40),\n",
       " 1240: (1240, 1, -22),\n",
       " 1241: (1240, 2, -22),\n",
       " 1242: (1278, 2, -18),\n",
       " 1243: (1238, 6, -40),\n",
       " 1271: (1271, 1, -17),\n",
       " 1272: (1272, 1, -24),\n",
       " 1273: (1272, 2, -24),\n",
       " 1274: (1238, 2, -40),\n",
       " 1275: (1238, 3, -40),\n",
       " 1276: (1240, 2, -22),\n",
       " 1277: (1238, 5, -40),\n",
       " 1278: (1278, 1, -18),\n",
       " 1279: (1278, 2, -18),\n",
       " 1280: (1316, 2, -22),\n",
       " 1303: (1303, 1, -21),\n",
       " 1307: (1378, 4, -40),\n",
       " 1308: (1272, 2, -24),\n",
       " 1309: (1272, 3, -24),\n",
       " 1310: (1238, 3, -40),\n",
       " 1311: (1238, 4, -40),\n",
       " 1312: (1238, 5, -40),\n",
       " 1313: (1349, 2, -15),\n",
       " 1314: (1278, 2, -18),\n",
       " 1315: (1278, 3, -18),\n",
       " 1316: (1316, 1, -22),\n",
       " 1317: (1317, 1, -15),\n",
       " 1318: (1317, 2, -15),\n",
       " 1338: (1446, 4, -28),\n",
       " 1339: (1339, 1, -40),\n",
       " 1340: (1340, 1, -40),\n",
       " 1341: (1340, 2, -40),\n",
       " 1342: (1378, 2, -40),\n",
       " 1343: (1378, 3, -40),\n",
       " 1345: (1378, 5, -40),\n",
       " 1346: (1238, 4, -40),\n",
       " 1347: (1238, 5, -40),\n",
       " 1348: (1238, 6, -40),\n",
       " 1349: (1349, 1, -15),\n",
       " 1350: (1349, 2, -15),\n",
       " 1351: (1349, 3, -15),\n",
       " 1352: (1316, 2, -22),\n",
       " 1353: (1317, 2, -15),\n",
       " 1354: (1316, 4, -22),\n",
       " 1374: (1410, 2, -19),\n",
       " 1375: (1339, 2, -40),\n",
       " 1376: (1340, 2, -40),\n",
       " 1377: (1340, 3, -40),\n",
       " 1378: (1378, 1, -40),\n",
       " 1379: (1379, 1, -21),\n",
       " 1380: (1378, 3, -40),\n",
       " 1381: (1378, 4, -40),\n",
       " 1382: (1238, 5, -40),\n",
       " 1383: (1238, 6, -40),\n",
       " 1384: (1238, 7, -40),\n",
       " 1385: (1385, 1, -9),\n",
       " 1386: (1349, 3, -15),\n",
       " 1387: (1238, 10, -40),\n",
       " 1388: (1316, 3, -22),\n",
       " 1389: (1316, 4, -22),\n",
       " 1390: (1316, 5, -22),\n",
       " 1391: (1316, 6, -22),\n",
       " 1409: (1445, 2, -26),\n",
       " 1410: (1410, 1, -19),\n",
       " 1411: (1411, 1, -29),\n",
       " 1412: (1412, 1, -38),\n",
       " 1413: (1412, 2, -38),\n",
       " 1414: (1378, 2, -40),\n",
       " 1415: (1378, 3, -40),\n",
       " 1416: (1378, 4, -40),\n",
       " 1417: (1417, 1, -18),\n",
       " 1418: (1417, 2, -18),\n",
       " 1419: (1417, 3, -18),\n",
       " 1420: (1238, 8, -40),\n",
       " 1421: (1349, 3, -15),\n",
       " 1422: (1238, 10, -40),\n",
       " 1423: (1278, 6, -18),\n",
       " 1424: (1316, 4, -22),\n",
       " 1425: (1316, 5, -22)}"
      ]
     },
     "execution_count": 216,
     "metadata": {},
     "output_type": "execute_result"
    }
   ],
   "execution_count": 216
  },
  {
   "metadata": {
    "ExecuteTime": {
     "end_time": "2024-07-17T00:46:44.192156Z",
     "start_time": "2024-07-17T00:46:44.174548Z"
    }
   },
   "cell_type": "code",
   "source": [
    "importlib.reload(greedy_path)\n",
    "weight = {}\n",
    "all_dif = {}\n",
    "for cluster in clusters:\n",
    "    weight[cluster] = opt_state[cluster] - original_state[cluster]\n",
    "    \n",
    "for cluster in [random.choice([i for i in clusters]) for j in range(1)]:\n",
    "    route_dif, route_log = greedy_path.get_path(start=cluster, weight=weight, vertical_squares=model.vertical_squares, \n",
    "                                                horizontal_squares=model.horizontal_squares, curr_bikes=0, max_bikes=30, adjacency=adjacency, max_time=40)\n",
    "    for cluster in route_dif:\n",
    "        # weight[cluster] -= route_dif[cluster]\n",
    "        if cluster not in all_dif:\n",
    "            all_dif[cluster] = route_dif[cluster]\n",
    "        else:\n",
    "            all_dif[cluster] += route_dif[cluster]\n",
    "print(all_dif)"
   ],
   "id": "ca463620c87dc1e9",
   "outputs": [
    {
     "name": "stdout",
     "output_type": "stream",
     "text": [
      "Curr_bikes: 0 Time: 0 at 1316 pickup at 1316 for -22 weight -22\n",
      "Curr_bikes: 22 Time: 1 at 1316 drop at 1460 for 22 weight 27\n",
      "Curr_bikes: 0 Time: 6 at 1460 pickup at 1238 for -30 weight -47\n",
      "Curr_bikes: 30 Time: 19 at 1238 drop at 1490 for 30 weight 31\n",
      "Curr_bikes: 0 Time: 27 at 1490 pickup at 1417 for -18 weight -18\n",
      "Activated drop only at time: 31\n",
      "Curr_bikes: 18 Time: 31 at 1417 drop at 1380 for 18 weight 18\n",
      "Curr_bikes: 0 Time: 34 at 0 drop for 0 drop True\n",
      "{1316: -22, 1460: 22, 1238: -30, 1490: 30, 1417: -18, 1380: 18}\n"
     ]
    }
   ],
   "execution_count": 372
  },
  {
   "metadata": {
    "ExecuteTime": {
     "end_time": "2024-07-17T19:36:15.587346Z",
     "start_time": "2024-07-17T19:36:15.035459Z"
    }
   },
   "cell_type": "code",
   "source": [
    "for cluster in clusters:\n",
    "    weight[cluster] = opt_state[cluster] - original_state[cluster]\n",
    "test = np.array([weight[i] if i in weight else 0 for i in range(model.horizontal_squares*model.vertical_squares)])\n",
    "test_3 = np.array([all_dif[i] if i in all_dif else 0 for i in range(len(model.clusters))])\n",
    "test = test.reshape(model.vertical_squares, model.horizontal_squares)\n",
    "test_3 = test_3.reshape(model.vertical_squares, model.horizontal_squares)\n",
    "test_2 = test - test_3\n",
    "test_4 = np.array([increase_dict[i] if i in increase_dict else 0 for i in range(len(model.clusters))])\n",
    "for val in decrease_dict:\n",
    "    test_4[val] -= decrease_dict[val]\n",
    "test_4 = test_4.reshape(model.vertical_squares, model.horizontal_squares)\n",
    "# sns.heatmap(test, vmin=-75, vmax=75)\\\n",
    "sns.heatmap(test_4)"
   ],
   "id": "9d7947978581f6a4",
   "outputs": [
    {
     "data": {
      "text/plain": [
       "<Axes: >"
      ]
     },
     "execution_count": 507,
     "metadata": {},
     "output_type": "execute_result"
    },
    {
     "data": {
      "text/plain": [
       "<Figure size 640x480 with 2 Axes>"
      ],
      "image/png": "[encoded data removed]"
     },
     "metadata": {},
     "output_type": "display_data"
    }
   ],
   "execution_count": 507
  },
  {
   "metadata": {
    "ExecuteTime": {
     "end_time": "2024-07-17T19:09:45.159840Z",
     "start_time": "2024-07-17T19:09:44.651672Z"
    }
   },
   "cell_type": "code",
   "source": "sns.heatmap(test)",
   "id": "e121a8fa2ca6dd6a",
   "outputs": [
    {
     "data": {
      "text/plain": [
       "<Axes: >"
      ]
     },
     "execution_count": 501,
     "metadata": {},
     "output_type": "execute_result"
    },
    {
     "data": {
      "text/plain": [
       "<Figure size 640x480 with 2 Axes>"
      ],
      "image/png": "[encoded data removed]"
     },
     "metadata": {},
     "output_type": "display_data"
    }
   ],
   "execution_count": 501
  },
  {
   "metadata": {
    "ExecuteTime": {
     "end_time": "2024-07-17T14:04:06.196691Z",
     "start_time": "2024-07-17T14:04:05.335279Z"
    }
   },
   "cell_type": "code",
   "source": "sns.heatmap(test_2, vmin=-75, vmax=75)",
   "id": "f24c9c2ee039aa31",
   "outputs": [
    {
     "data": {
      "text/plain": [
       "<Axes: >"
      ]
     },
     "execution_count": 454,
     "metadata": {},
     "output_type": "execute_result"
    },
    {
     "data": {
      "text/plain": [
       "<Figure size 640x480 with 2 Axes>"
      ],
      "image/png": "[encoded data removed]"
     },
     "metadata": {},
     "output_type": "display_data"
    }
   ],
   "execution_count": 454
  },
  {
   "metadata": {
    "ExecuteTime": {
     "end_time": "2024-07-17T14:04:07.150677Z",
     "start_time": "2024-07-17T14:04:06.200042Z"
    }
   },
   "cell_type": "code",
   "source": "sns.heatmap(test_3)",
   "id": "36243a2a046f23c5",
   "outputs": [
    {
     "data": {
      "text/plain": [
       "<Axes: >"
      ]
     },
     "execution_count": 455,
     "metadata": {},
     "output_type": "execute_result"
    },
    {
     "data": {
      "text/plain": [
       "<Figure size 640x480 with 2 Axes>"
      ],
      "image/png": "[encoded data removed]"
     },
     "metadata": {},
     "output_type": "display_data"
    }
   ],
   "execution_count": 455
  },
  {
   "metadata": {
    "ExecuteTime": {
     "end_time": "2024-07-20T20:54:31.945088Z",
     "start_time": "2024-07-20T20:51:36.178283Z"
    }
   },
   "cell_type": "code",
   "source": [
    "prior_avg_failures = 0\n",
    "prior_avg_brook_failures = 0\n",
    "prior_avg_trips = 0\n",
    "for i in range(30):\n",
    "    model.reset_state(bike_state=original_state,in_transit=[], time=timedelta(hours=6))\n",
    "    for j in range(16*4):\n",
    "        model.sim()\n",
    "    prior_avg_failures += model.failures\n",
    "    prior_avg_trips += model.total_trips\n",
    "    for cluster in clusters:\n",
    "        prior_avg_brook_failures += len(model.cluster_dict[cluster].bad_arrivals) + len(model.cluster_dict[cluster].bad_departures)\n",
    "print('Average total trips before rebalance', prior_avg_trips/30)\n",
    "print('Average failures before rebalance', prior_avg_failures/30)\n",
    "print('Average failures in brooklyn before rebalance', prior_avg_brook_failures/30)"
   ],
   "id": "cb6f958168f7789",
   "outputs": [
    {
     "name": "stdout",
     "output_type": "stream",
     "text": [
      "Average total trips before rebalance 170040.63333333333\n",
      "Average failures before rebalance 10161.266666666666\n",
      "Average failures in brooklyn before rebalance 3198.866666666667\n"
     ]
    }
   ],
   "execution_count": 327
  },
  {
   "metadata": {
    "ExecuteTime": {
     "end_time": "2024-07-20T20:54:31.957073Z",
     "start_time": "2024-07-20T20:54:31.948232Z"
    }
   },
   "cell_type": "code",
   "source": [
    "def time_scale(time):\n",
    "    return time ** 0.85\n",
    "\n",
    "def distance(start: int, end: int, h_sq: int):\n",
    "    x_dist = abs((start - end) % h_sq)\n",
    "    y_dist = abs((start // h_sq) - (end // h_sq))\n",
    "    return x_dist + y_dist + 1\n",
    "\n",
    "def find_max_route(start: int, weight: dict[int: int], h_sq:int, curr_bikes: int, max_time: int, max_bikes: int, drop: bool):\n",
    "    maximum = 0\n",
    "    dest = 0\n",
    "    time = 1\n",
    "    for cluster in weight:\n",
    "        dist = distance(start=start, end=cluster, h_sq=h_sq)\n",
    "        if dist > max_time and not drop:\n",
    "            continue\n",
    "        value = weight[cluster]\n",
    "        if value < curr_bikes - max_bikes:\n",
    "            value = curr_bikes - max_bikes\n",
    "        if value > curr_bikes:\n",
    "            value = curr_bikes\n",
    "        if value < 0 and drop:\n",
    "            continue\n",
    "        if abs(value / time_scale(dist)) > abs(maximum / time_scale(time)):\n",
    "            maximum = value\n",
    "            dest = cluster\n",
    "            time = dist\n",
    "    return dest, time, maximum\n",
    "\n",
    "def best_routes(start: int, weight: dict[int: int], h_sq:int, curr_bikes: int, max_time: int, max_bikes: int, drop: bool):\n",
    "    data = {}\n",
    "    for cluster in weight:\n",
    "        dist = distance(start=start, end=cluster, h_sq=h_sq)\n",
    "        if dist > max_time and not drop:\n",
    "            continue\n",
    "        value = weight[cluster]\n",
    "        if value < curr_bikes - max_bikes:\n",
    "            value = curr_bikes - max_bikes\n",
    "        if value > curr_bikes:\n",
    "            value = curr_bikes\n",
    "        if value < 0 and drop:\n",
    "            continue\n",
    "        data[cluster] = abs(value/dist)\n",
    "    return [i[0] for i in sorted(data.items(), key=lambda item: item[1])]\n"
   ],
   "id": "a966945872dca5cc",
   "outputs": [],
   "execution_count": 328
  },
  {
   "metadata": {
    "ExecuteTime": {
     "end_time": "2024-07-20T20:54:31.976534Z",
     "start_time": "2024-07-20T20:54:31.958651Z"
    }
   },
   "cell_type": "code",
   "source": [
    "import copy\n",
    "\n",
    "class Path:\n",
    "    \n",
    "    def __init__(self, value: float, weight: dict[int: int], curr_loc: int,\n",
    "               horizontal_squares: int, curr_path: list, curr_bikes: int, max_bikes: int, curr_time: int, max_time: int):\n",
    "        self.curr_path = curr_path\n",
    "        self.curr_bikes = curr_bikes\n",
    "        self.max_bikes = max_bikes\n",
    "        self.curr_time = curr_time\n",
    "        self.max_time = max_time\n",
    "        self.value = value\n",
    "        self.weight = weight\n",
    "        self.h_sq = horizontal_squares\n",
    "        self.curr_loc = curr_loc\n",
    "        self.data = {len(curr_path): [curr_loc, value, curr_time]}\n",
    "        self.drop = max_time*0.8 - curr_time <= 0\n",
    "        \n",
    "    def find_max_route(self):\n",
    "        maximum = 0\n",
    "        dest = 0\n",
    "        time = 1\n",
    "        for cluster in self.weight:\n",
    "            dist = distance(start=self.curr_loc, end=cluster, h_sq=self.h_sq)\n",
    "            if dist > self.max_time-self.curr_time and not self.drop:\n",
    "                continue\n",
    "            value = self.weight[cluster]\n",
    "            if value > 0 and self.drop:\n",
    "                continue\n",
    "            if value > self.max_bikes - self.curr_bikes:\n",
    "                value = self.max_bikes - self.curr_bikes\n",
    "            if value < -self.curr_bikes:\n",
    "                value = -self.curr_bikes\n",
    "                \n",
    "            if abs(value / time_scale(dist)) > abs(maximum / time_scale(time)):\n",
    "                maximum = value\n",
    "                dest = cluster\n",
    "                time = dist\n",
    "        return dest\n",
    "    \n",
    "    def best_routes(self):\n",
    "        data = {}\n",
    "        for cluster in self.weight:\n",
    "            dist = distance(start=self.curr_loc, end=cluster, h_sq=self.h_sq)\n",
    "            if dist > self.max_time-self.curr_time and not self.drop:\n",
    "                continue\n",
    "            value = self.weight[cluster]\n",
    "            if value > 0 and self.drop:\n",
    "                continue\n",
    "            if value > self.max_bikes - self.curr_bikes:\n",
    "                value = self.max_bikes - self.curr_bikes\n",
    "            if value < -self.curr_bikes:\n",
    "                value = -self.curr_bikes\n",
    "            data[cluster] = abs(value/dist)\n",
    "        return [i[0] for i in sorted(data.items(), key=lambda item: item[1], reverse=True)]\n",
    "    \n",
    "    def take_route(self, dest: int):\n",
    "        dist = distance(start=self.curr_loc, end=dest, h_sq=self.h_sq) \n",
    "        value = self.weight[dest]\n",
    "        if value > self.max_bikes - self.curr_bikes:\n",
    "            value = self.max_bikes - self.curr_bikes\n",
    "        if value < -self.curr_bikes:\n",
    "            value = -self.curr_bikes\n",
    "                \n",
    "        self.weight[dest] -= value\n",
    "        self.curr_path.append(dest)\n",
    "        self.curr_time += dist\n",
    "        self.data[len(self.curr_path)] = [dest, value, self.curr_time]\n",
    "        self.curr_bikes += value\n",
    "        self.value += abs(value)\n",
    "        self.curr_loc = dest\n",
    "        self.drop = self.max_time*0.8 - self.curr_time <= 0\n",
    "    \n",
    "    \n",
    "class GreedyPathNew:\n",
    "\n",
    "    def __init__(self, start: int, weight: dict[int: int], width: int, horizontal_squares: int, max_bikes: int, max_time: int):\n",
    "        self.weight = weight\n",
    "        self.width = width\n",
    "        self.h_sq = horizontal_squares\n",
    "        self.max_bikes = max_bikes\n",
    "        self.max_time = max_time\n",
    "        self.start = start\n",
    "\n",
    "    def DFS(self, depth: int, path: Path):\n",
    "        if path.max_time <= path.curr_time:\n",
    "            return path\n",
    "        if depth <= 1:\n",
    "            dest = path.find_max_route()\n",
    "            if dest != 0:\n",
    "                path.take_route(dest)\n",
    "            return path\n",
    "        if depth > 1:\n",
    "            best_path = copy.deepcopy(path)\n",
    "            for dest in path.best_routes()[:self.width]:\n",
    "                if dest == 0:\n",
    "                    continue\n",
    "                branch_path = copy.deepcopy(path)\n",
    "                branch_path.take_route(dest)\n",
    "                branch_path = self.DFS(depth-1, branch_path)\n",
    "                if branch_path.value > best_path.value:\n",
    "                    best_path = branch_path\n",
    "        return best_path\n",
    "            \n",
    "    def Get_Route(self, depth: int) -> Path:\n",
    "        path = Path(value = 0, weight=self.weight, horizontal_squares=self.h_sq, curr_path=[self.start], curr_bikes=0, max_bikes=self.max_bikes, curr_time=0, max_time=self.max_time, curr_loc=self.start)\n",
    "        return self.DFS(depth, path)\n",
    "                "
   ],
   "id": "7e313702bcce5685",
   "outputs": [],
   "execution_count": 329
  },
  {
   "metadata": {
    "ExecuteTime": {
     "end_time": "2024-07-21T02:43:56.004319Z",
     "start_time": "2024-07-21T01:20:16.895092Z"
    }
   },
   "cell_type": "code",
   "source": [
    "v_sq = model.vertical_squares \n",
    "h_sq = model.horizontal_squares\n",
    "\n",
    "weight = {}\n",
    "for cluster in clusters:\n",
    "    weight[cluster] = original_state[cluster] - opt_state[cluster]\n",
    "    \n",
    "res = {}\n",
    "for cluster in clusters:\n",
    "    dest, time, maximum = find_max_route(start=cluster, weight=weight, h_sq=h_sq, curr_bikes=0, max_bikes=30, max_time=10, drop=False)\n",
    "    res[cluster] = maximum/time\n",
    "best_start_clusters = [i[0] for i in sorted(res.items(), key=lambda item: item[1])]\n",
    "random_clusters = [random.choice(clusters) for i in range(20)]\n",
    "\n",
    "for cluster in random_clusters[:20]:\n",
    "    greedy_path = GreedyPathNew(start=cluster, width=3, weight=weight, horizontal_squares=h_sq, max_bikes=30, max_time=40)\n",
    "    best_path = greedy_path.Get_Route(14)\n",
    "    print(cluster, best_path.value, best_path.curr_bikes, best_path.curr_time)\n",
    "    reb = {drop[0]: drop[1] for drop in best_path.data.values()}\n",
    "\n",
    "    avg_failures = 0\n",
    "    avg_brook_failures = 0\n",
    "    avg_trips = 0\n",
    "    for i in range(30):\n",
    "        model.reset_state(bike_state=original_state,in_transit=[], time=timedelta(hours=6))\n",
    "        \n",
    "        for cluster in reb:\n",
    "            model.cluster_dict[cluster].curr_bikes -= reb[cluster]\n",
    "        \n",
    "        for j in range(16*4):\n",
    "            model.sim()\n",
    "        avg_failures += model.failures\n",
    "        avg_trips += model.total_trips\n",
    "        for cluster in clusters:\n",
    "            avg_brook_failures += len(model.cluster_dict[cluster].bad_arrivals) + len(model.cluster_dict[cluster].bad_departures)\n",
    "            \n",
    "    print('Average total trips', avg_trips/30)\n",
    "    print('Average failures after rebalance', avg_failures/30)\n",
    "    print('Average failures in brooklyn after rebalance', avg_brook_failures/30)\n",
    "    print('Overall improvement', 1-avg_failures/prior_avg_failures)\n",
    "    print('Brooklyn improvement', 1-avg_brook_failures/prior_avg_brook_failures)\n",
    "    print('------------')\n"
   ],
   "id": "bada11667f630664",
   "outputs": [
    {
     "name": "stdout",
     "output_type": "stream",
     "text": [
      "1693 104 4 44\n",
      "Average total trips 169986.76666666666\n",
      "Average failures after rebalance 9586.933333333332\n",
      "Average failures in brooklyn after rebalance 2876.4333333333334\n",
      "Overall improvement 0.056521824706893486\n",
      "Brooklyn improvement 0.10079611529083221\n",
      "------------\n",
      "1485 113 3 69\n",
      "Average total trips 170041.06666666668\n",
      "Average failures after rebalance 9758.8\n",
      "Average failures in brooklyn after rebalance 2898.9333333333334\n",
      "Overall improvement 0.039607922896751746\n",
      "Brooklyn improvement 0.09376237417418665\n",
      "------------\n",
      "1529 262 0 43\n",
      "Average total trips 170000.63333333333\n",
      "Average failures after rebalance 9749.933333333332\n",
      "Average failures in brooklyn after rebalance 2886.1666666666665\n",
      "Overall improvement 0.04048051752078152\n",
      "Brooklyn improvement 0.09775337098555736\n",
      "------------\n",
      "1378 173 1 65\n",
      "Average total trips 169912.5\n",
      "Average failures after rebalance 9438.433333333332\n",
      "Average failures in brooklyn after rebalance 2687.3\n",
      "Overall improvement 0.07113614444393412\n",
      "Brooklyn improvement 0.15992122209949355\n",
      "------------\n",
      "1738 174 0 68\n",
      "Average total trips 170179.43333333332\n",
      "Average failures after rebalance 9685.033333333333\n",
      "Average failures in brooklyn after rebalance 2784.366666666667\n",
      "Overall improvement 0.04686751651696963\n",
      "Brooklyn improvement 0.1295771419044245\n",
      "------------\n",
      "1390 270 0 43\n",
      "Average total trips 169890.9\n",
      "Average failures after rebalance 9769.6\n",
      "Average failures in brooklyn after rebalance 2898.733333333333\n",
      "Overall improvement 0.03854506327951235\n",
      "Brooklyn improvement 0.09382489631744573\n",
      "------------\n",
      "1565 254 0 44\n",
      "Average total trips 170075.16666666666\n",
      "Average failures after rebalance 9654.1\n",
      "Average failures in brooklyn after rebalance 2834.0666666666666\n",
      "Overall improvement 0.049911756408321795\n",
      "Brooklyn improvement 0.11404038930454541\n",
      "------------\n",
      "1314 284 0 45\n",
      "Average total trips 169984.53333333333\n",
      "Average failures after rebalance 9710.866666666667\n",
      "Average failures in brooklyn after rebalance 2898.266666666667\n",
      "Overall improvement 0.0443251825559805\n",
      "Brooklyn improvement 0.09397078131838354\n",
      "------------\n",
      "1497 270 0 43\n",
      "Average total trips 170063.43333333332\n",
      "Average failures after rebalance 9759.4\n",
      "Average failures in brooklyn after rebalance 3023.8\n",
      "Overall improvement 0.039548875140238415\n",
      "Brooklyn improvement 0.05472771606610671\n",
      "------------\n",
      "1666 173 1 65\n",
      "Average total trips 170016.9\n",
      "Average failures after rebalance 9511.833333333334\n",
      "Average failures in brooklyn after rebalance 2785.6666666666665\n",
      "Overall improvement 0.06391263556380766\n",
      "Brooklyn improvement 0.12917074797324057\n",
      "------------\n",
      "1310 244 0 44\n",
      "Average total trips 170052.96666666667\n",
      "Average failures after rebalance 9434.166666666666\n",
      "Average failures in brooklyn after rebalance 2744.5\n",
      "Overall improvement 0.07155603960136203\n",
      "Brooklyn improvement 0.1420398891273993\n",
      "------------\n",
      "1307 212 0 67\n",
      "Average total trips 170066.9\n",
      "Average failures after rebalance 9502.6\n",
      "Average failures in brooklyn after rebalance 2812.0333333333333\n",
      "Overall improvement 0.06482131492792897\n",
      "Brooklyn improvement 0.12092824542025304\n",
      "------------\n",
      "1353 270 0 43\n",
      "Average total trips 170219.7\n",
      "Average failures after rebalance 9659.633333333333\n",
      "Average failures in brooklyn after rebalance 2853.2\n",
      "Overall improvement 0.04936720487603252\n",
      "Brooklyn improvement 0.10805910426609422\n",
      "------------\n",
      "1747 240 0 40\n",
      "Average total trips 170073.66666666666\n",
      "Average failures after rebalance 9867.833333333334\n",
      "Average failures in brooklyn after rebalance 2911.6666666666665\n",
      "Overall improvement 0.028877633365918975\n",
      "Brooklyn improvement 0.08978179772002581\n",
      "------------\n",
      "1710 242 0 43\n",
      "Average total trips 170051.93333333332\n",
      "Average failures after rebalance 9723.9\n",
      "Average failures in brooklyn after rebalance 2901.0\n",
      "Overall improvement 0.043042534067275096\n",
      "Brooklyn improvement 0.0931163120271763\n",
      "------------\n",
      "1696 93 3 44\n",
      "Average total trips 169944.5\n",
      "Average failures after rebalance 9689.1\n",
      "Average failures in brooklyn after rebalance 2858.233333333333\n",
      "Overall improvement 0.04646730394504617\n",
      "Brooklyn improvement 0.10648563032740765\n",
      "------------\n",
      "1733 86 0 42\n",
      "Average total trips 170127.5\n",
      "Average failures after rebalance 9610.7\n",
      "Average failures in brooklyn after rebalance 2801.0\n",
      "Overall improvement 0.054182877462783496\n",
      "Brooklyn improvement 0.1243773836567118\n",
      "------------\n",
      "1632 202 0 67\n",
      "Average total trips 170004.03333333333\n",
      "Average failures after rebalance 9663.0\n",
      "Average failures in brooklyn after rebalance 2735.0\n",
      "Overall improvement 0.049035881353374555\n",
      "Brooklyn improvement 0.14500969093220517\n",
      "------------\n",
      "1520 109 3 44\n",
      "Average total trips 169892.33333333334\n",
      "Average failures after rebalance 9763.166666666666\n",
      "Average failures in brooklyn after rebalance 2798.3333333333335\n",
      "Overall improvement 0.03917818644657167\n",
      "Brooklyn improvement 0.1252110122334994\n",
      "------------\n",
      "1129 254 0 67\n",
      "Average total trips 170001.13333333333\n",
      "Average failures after rebalance 9636.1\n",
      "Average failures in brooklyn after rebalance 2799.733333333333\n",
      "Overall improvement 0.05168318910372072\n",
      "Brooklyn improvement 0.12477335723068583\n",
      "------------\n"
     ]
    }
   ],
   "execution_count": 342
  },
  {
   "metadata": {
    "ExecuteTime": {
     "end_time": "2024-07-22T14:31:17.296390Z",
     "start_time": "2024-07-22T14:18:46.938271Z"
    }
   },
   "cell_type": "code",
   "source": [
    "cluster = 1378\n",
    "greedy_path = GreedyPathNew(start=cluster, width=3, weight=weight, horizontal_squares=h_sq, max_bikes=30, max_time=40)\n",
    "best_path = greedy_path.Get_Route(16)\n",
    "print(cluster, best_path.value, best_path.curr_bikes, best_path.curr_time)\n",
    "reb = {drop[0]: drop[1] for drop in best_path.data.values()}\n",
    "\n",
    "avg_failures = 0\n",
    "avg_brook_failures = 0\n",
    "avg_trips = 0\n",
    "for i in range(90):\n",
    "    model.reset_state(bike_state=original_state,in_transit=[], time=timedelta(hours=6))\n",
    "    \n",
    "    for cluster in reb:\n",
    "        model.cluster_dict[cluster].curr_bikes -= reb[cluster]\n",
    "    \n",
    "    for j in range(16*4):\n",
    "        model.sim()\n",
    "    avg_failures += model.failures\n",
    "    avg_trips += model.total_trips\n",
    "    for cluster in clusters:\n",
    "        avg_brook_failures += len(model.cluster_dict[cluster].bad_arrivals) + len(model.cluster_dict[cluster].bad_departures)\n",
    "    \n",
    "print(4, 'trucks')\n",
    "print('Average total trips', avg_trips/90)\n",
    "print('Average failures after rebalance', avg_failures/90)\n",
    "print('Average failures in brooklyn after rebalance', avg_brook_failures/90)\n",
    "print('Overall improvement', 1-avg_failures/prior_avg_failures/3)\n",
    "print('Brooklyn improvement', 1-avg_brook_failures/prior_avg_brook_failures/3)"
   ],
   "id": "6445109e23eb97dc",
   "outputs": [
    {
     "name": "stdout",
     "output_type": "stream",
     "text": [
      "1378 173 1 65\n",
      "4 trucks\n",
      "Average total trips 170003.77777777778\n",
      "Average failures after rebalance 9650.944444444445\n",
      "Average failures in brooklyn after rebalance 2764.1111111111113\n",
      "Overall improvement 0.050222303868502904\n",
      "Brooklyn improvement 0.13590924563560713\n"
     ]
    }
   ],
   "execution_count": 343
  },
  {
   "metadata": {
    "ExecuteTime": {
     "end_time": "2024-07-21T01:20:03.752684Z",
     "start_time": "2024-07-21T01:20:03.749158Z"
    }
   },
   "cell_type": "code",
   "source": [
    "for cluster in reb:\n",
    "    original_state[cluster] -= reb[cluster]"
   ],
   "id": "ac18f689f40f00c4",
   "outputs": [],
   "execution_count": 341
  },
  {
   "metadata": {},
   "cell_type": "code",
   "outputs": [],
   "execution_count": 271,
   "source": [
    "greedy_path = GreedyPathNew(start=1417, width=3, weight=weight, horizontal_squares=h_sq, max_bikes=30, max_time=40)\n",
    "new = greedy_path.Get_Route(16)"
   ],
   "id": "fb5dadce057a2fe2"
  },
  {
   "metadata": {},
   "cell_type": "code",
   "outputs": [],
   "execution_count": null,
   "source": [
    "# 1410 164 0\n",
    "# 1 trucks\n",
    "# Average total trips 169941.8\n",
    "# Average failures after rebalance 9837.2\n",
    "# Average failures in brooklyn after rebalance 3104.1\n",
    "# Overall improvement   0.05618\n",
    "# Brooklyn improvement  0.05463\n",
    "\n",
    "# 1634 260 0\n",
    "# 1 trucks\n",
    "# Average total trips 170123.9\n",
    "# Average failures after rebalance 9629.0\n",
    "# Average failures in brooklyn after rebalance 3034.4\n",
    "# Overall improvement   0.07615\n",
    "# Brooklyn improvement  0.07586\n",
    "\n",
    "# 1448 182 0\n",
    "# 1 trucks\n",
    "# Average total trips 169892.4\n",
    "# Average failures after rebalance 9942.2\n",
    "# Average failures in brooklyn after rebalance 3100.5\n",
    "# Overall improvement     0.04611\n",
    "# Brooklyn improvement    0.05573\n",
    "\n",
    "# 1740 260 0\n",
    "# 1 trucks\n",
    "# Average total trips 169945.2\n",
    "# Average failures after rebalance 9983.0\n",
    "# Average failures in brooklyn after rebalance 3013.3\n",
    "# Overall improvement   0.042195\n",
    "# Brooklyn improvement  0.082290\n",
    "\n",
    "# 1311 320 0\n",
    "# 1 trucks\n",
    "# Average total trips 170018.2\n",
    "# Average failures after rebalance 9898.3\n",
    "# Average failures in brooklyn after rebalance 3059.7\n",
    "# Overall improvement   0.05032\n",
    "# Brooklyn improvement  0.06815"
   ],
   "id": "9cb99817dfb47b24"
  },
  {
   "metadata": {},
   "cell_type": "code",
   "outputs": [],
   "execution_count": null,
   "source": [
    "# 100 shots\n",
    "# 1 trucks\n",
    "# Average total trips 170063.52\n",
    "# Average failures after rebalance 9964.48\n",
    "# Average failures in brooklyn after rebalance 3092.12\n",
    "# Overall improvement 0.043972828798403585\n",
    "# Brooklyn improvement 0.05828536622506475"
   ],
   "id": "b5d528286f604a83"
  }
 ],
 "metadata": {
  "kernelspec": {
   "display_name": "Python 3",
   "language": "python",
   "name": "python3"
  },
  "language_info": {
   "codemirror_mode": {
    "name": "ipython",
    "version": 2
   },
   "file_extension": ".py",
   "mimetype": "text/x-python",
   "name": "python",
   "nbconvert_exporter": "python",
   "pygments_lexer": "ipython2",
   "version": "2.7.6"
  }
 },
 "nbformat": 4,
 "nbformat_minor": 5
}
