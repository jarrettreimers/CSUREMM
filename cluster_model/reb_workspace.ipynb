{
 "cells": [
  {
   "cell_type": "code",
   "id": "initial_id",
   "metadata": {
    "collapsed": true,
    "ExecuteTime": {
     "end_time": "2024-07-11T15:18:19.989016Z",
     "start_time": "2024-07-11T15:18:19.984692Z"
    }
   },
   "source": [
    "import os\n",
    "\n",
    "import matplotlib.pyplot as plt\n",
    "\n",
    "import parameter\n",
    "import pandas as pd\n",
    "import simplejson\n",
    "import pickle\n",
    "from cluster_model import ClusterModel\n",
    "from datetime import timedelta"
   ],
   "outputs": [],
   "execution_count": 120
  },
  {
   "metadata": {
    "ExecuteTime": {
     "end_time": "2024-07-10T18:57:26.039050Z",
     "start_time": "2024-07-10T18:57:17.960944Z"
    }
   },
   "cell_type": "code",
   "source": [
    "with open('../data/station_data/2024 model/v2/tph_4/data.pickle', 'rb') as f:\n",
    "    station_data = pickle.load(f)\n",
    "\n",
    "with open('../station_information.json', 'r') as f:\n",
    "    station_information = simplejson.load(f)['data']['stations']\n",
    "    \n",
    "model = ClusterModel(station_data=station_data, in_transit=[], tph=4)\n",
    "model_2 = ClusterModel(station_data=station_data, in_transit=[], tph=4)\n",
    "\n",
    "square_length = 0.005\n",
    "model.init_clusters(square_length)\n",
    "model_2.init_clusters(square_length)"
   ],
   "id": "815c53731f908216",
   "outputs": [
    {
     "name": "stdout",
     "output_type": "stream",
     "text": [
      "36 horizontal squares and 51 vertical squares. Total squares: 1836\n",
      "36 horizontal squares and 51 vertical squares. Total squares: 1836\n"
     ]
    }
   ],
   "execution_count": 3
  },
  {
   "metadata": {
    "ExecuteTime": {
     "end_time": "2024-07-10T19:54:44.666092Z",
     "start_time": "2024-07-10T19:54:44.659678Z"
    }
   },
   "cell_type": "code",
   "source": [
    "def detect_rebalance(df_1, df_2, time_1, time_2):\n",
    "    rebalance = []\n",
    "    for station in df_1.index:\n",
    "        change = df_2.iloc[station]['num_bikes_available'] - df_1.iloc[station]['num_bikes_available']\n",
    "        if abs(change) > 7:\n",
    "            print(time_1, '-', time_2)\n",
    "            print(df_1.iloc[station]['name'], change)\n",
    "            rebalance.append([df_1.iloc[station]['name'], change, time_1])\n",
    "    return rebalance\n",
    "        "
   ],
   "id": "5a3bd522f37a6faa",
   "outputs": [],
   "execution_count": 69
  },
  {
   "metadata": {
    "ExecuteTime": {
     "end_time": "2024-07-11T15:36:04.445466Z",
     "start_time": "2024-07-11T15:35:29.719042Z"
    }
   },
   "cell_type": "code",
   "source": [
    "day = 10\n",
    "files = os.listdir(f'rebalancing/data/{day}')\n",
    "files.sort()\n",
    "\n",
    "df = parameter.get_state_df(station_information, f'rebalancing/data/{day}/2024-07-10-04-00.pickle')\n",
    "time_1 = '24:00'\n",
    "\n",
    "rebalancing = {}\n",
    "\n",
    "for i, file in enumerate(files[48:120]):\n",
    "    new_df = parameter.get_state_df(station_information, f'rebalancing/data/{day}/' + file,)\n",
    "    split = file[:-7].split('-')\n",
    "    hours = (int(split[3])+20) % 24\n",
    "    minutes = split[4]\n",
    "    time_2 = str(hours) + ':' + minutes\n",
    "    for reb in detect_rebalance(df, new_df, time_1, time_2):\n",
    "        if reb[0] in rebalancing:\n",
    "            rebalancing[reb[0]].append(reb[1:])\n",
    "        else:\n",
    "            rebalancing[reb[0]] = [reb[1:]]\n",
    "    df = new_df\n",
    "    time_1 = time_2\n",
    "    \n"
   ],
   "id": "d1eb5eff8596b26a",
   "outputs": [
    {
     "name": "stdout",
     "output_type": "stream",
     "text": [
      "0:00 - 0:05\n",
      "E 5 St & Ave C 11\n",
      "0:35 - 0:40\n",
      "Spruce St & Nassau St 11\n",
      "0:40 - 0:45\n",
      "Gold St & Frankfort St 8\n",
      "0:40 - 0:45\n",
      "100 St & Humphreys St -14\n",
      "0:45 - 0:50\n",
      "48 Ave & 5 St 76\n",
      "0:45 - 0:50\n",
      "100 St & Humphreys St 14\n",
      "0:45 - 0:50\n",
      "E 2 St & Ave B 8\n",
      "0:55 - 1:00\n",
      "Bailey Ave & W 229 St -15\n",
      "0:55 - 1:00\n",
      "Central Park West & W 85 St -24\n",
      "0:55 - 1:00\n",
      "W 40 St & 7 Ave 10\n",
      "0:55 - 1:00\n",
      "W 146 St & Broadway 8\n",
      "1:00 - 1:05\n",
      "Bailey Ave & W 229 St 15\n",
      "1:00 - 1:05\n",
      "Division Ave & Marcy Ave -17\n",
      "1:00 - 1:05\n",
      "Central Park West & W 85 St 26\n",
      "1:00 - 1:05\n",
      "6 Ave & W 33 St 10\n",
      "1:05 - 1:10\n",
      "Division Ave & Marcy Ave 17\n",
      "1:05 - 1:10\n",
      "E 63 St & 3 Ave 10\n",
      "1:15 - 1:20\n",
      "University Ave & W Burnside Ave 9\n",
      "1:45 - 1:50\n",
      "Bridge St & Water St -27\n",
      "1:45 - 1:50\n",
      "53 St & 4 Ave -15\n",
      "1:45 - 1:50\n",
      "E 43 St & 2 Ave 10\n",
      "1:50 - 1:55\n",
      "Bridge St & Water St 27\n",
      "1:50 - 1:55\n",
      "53 St & 4 Ave 15\n",
      "1:55 - 2:00\n",
      "3 Ave & E 169 St 10\n",
      "1:55 - 2:00\n",
      "Mercer St & Bleecker St -10\n",
      "2:10 - 2:15\n",
      "6 Ave & W 33 St 10\n",
      "2:20 - 2:25\n",
      "Mercer St & Spring St -10\n",
      "2:20 - 2:25\n",
      "Grand Concourse & E 167 St 15\n",
      "2:20 - 2:25\n",
      "53 St & 4 Ave -18\n",
      "2:20 - 2:25\n",
      "W Mosholu Pkwy S & Sedgwick Ave 10\n",
      "2:25 - 2:30\n",
      "53 St & 4 Ave 18\n",
      "2:25 - 2:30\n",
      "W Mosholu Pkwy S & Sedgwick Ave 10\n",
      "2:30 - 2:35\n",
      "6 Ave & W 33 St 9\n",
      "2:30 - 2:35\n",
      "53 St & 4 Ave -17\n",
      "2:35 - 2:40\n",
      "53 St & 4 Ave 17\n",
      "2:40 - 2:45\n",
      "W 44 St & 11 Ave -8\n",
      "2:45 - 2:50\n",
      "Greene St & Prince St -10\n",
      "3:00 - 3:05\n",
      "Greenwich St & Rector St -15\n",
      "3:05 - 3:10\n",
      "Greenwich St & Rector St 16\n",
      "3:10 - 3:15\n",
      "S 4 St & Roebling St -31\n",
      "3:10 - 3:15\n",
      "53 St & 4 Ave -23\n",
      "3:15 - 3:20\n",
      "S 4 St & Roebling St 30\n",
      "3:35 - 3:40\n",
      "Willoughby Ave & Wyckoff Ave -13\n",
      "3:35 - 3:40\n",
      "53 St & 4 Ave 22\n",
      "3:40 - 3:45\n",
      "Greenwich St & Rector St -23\n",
      "3:40 - 3:45\n",
      "E 39 St & Lexington Ave 8\n",
      "3:45 - 3:50\n",
      "Willoughby Ave & Wyckoff Ave 13\n",
      "3:45 - 3:50\n",
      "Greenwich St & Rector St -14\n",
      "3:45 - 3:50\n",
      "Clark St & Henry St -8\n",
      "3:45 - 3:50\n",
      "West St & Chambers St -48\n",
      "3:55 - 4:00\n",
      "Bridge St & Water St -10\n",
      "4:10 - 4:15\n",
      "Henry St & Degraw St -22\n",
      "4:15 - 4:20\n",
      "Washington Ave & Park Pl 9\n",
      "4:15 - 4:20\n",
      "Henry St & Degraw St 22\n",
      "4:15 - 4:20\n",
      "Greenwich St & Rector St 42\n",
      "4:15 - 4:20\n",
      "Court St & Nelson St -9\n",
      "4:20 - 4:25\n",
      "Wythe Ave & N 13 St -39\n",
      "4:20 - 4:25\n",
      "Court St & Nelson St -8\n",
      "4:25 - 4:30\n",
      "Wythe Ave & N 13 St 39\n",
      "4:25 - 4:30\n",
      "Nassau St & Navy St -9\n",
      "4:30 - 4:35\n",
      "41 St & 3 Ave -14\n",
      "4:35 - 4:40\n",
      "41 St & 3 Ave 14\n",
      "4:35 - 4:40\n",
      "6 Ave & Canal St -11\n",
      "4:35 - 4:40\n",
      "Greenwich St & Rector St -34\n",
      "4:35 - 4:40\n",
      "1 Ave & E 39 St -23\n",
      "4:40 - 4:45\n",
      "6 Ave & Canal St 8\n",
      "4:40 - 4:45\n",
      "1 Ave & E 39 St 23\n",
      "4:50 - 4:55\n",
      "E 16 St & Cortelyou Rd -10\n",
      "4:55 - 5:00\n",
      "Bailey Ave & W 193 St 11\n",
      "5:00 - 5:05\n",
      "University Ave & W 168 St 9\n",
      "5:10 - 5:15\n",
      "President St & Nostrand Ave 9\n",
      "5:15 - 5:20\n",
      "Frederick Douglass Blvd & W 139 St -14\n",
      "5:20 - 5:25\n",
      "Cortelyou Rd & E 19 St -10\n",
      "5:25 - 5:30\n",
      "Frederick Douglass Blvd & W 139 St 14\n",
      "5:25 - 5:30\n",
      "Greenwich St & Rector St 40\n",
      "5:25 - 5:30\n",
      "53 St & 4 Ave -17\n",
      "5:25 - 5:30\n",
      "E 26 St & 3 Ave -16\n",
      "5:30 - 5:35\n",
      "E 26 St & 3 Ave 8\n",
      "5:35 - 5:40\n",
      "E 170 St & Sheridan Ave 12\n",
      "5:35 - 5:40\n",
      "W 41 St & 8 Ave -12\n",
      "5:35 - 5:40\n",
      "Kingston Ave & Carroll St 9\n",
      "5:35 - 5:40\n",
      "E 26 St & 3 Ave 8\n",
      "5:40 - 5:45\n",
      "53 St & 4 Ave 23\n"
     ]
    }
   ],
   "execution_count": 146
  },
  {
   "metadata": {
    "ExecuteTime": {
     "end_time": "2024-07-11T15:36:04.454236Z",
     "start_time": "2024-07-11T15:36:04.447360Z"
    }
   },
   "cell_type": "code",
   "source": [
    "print(len(rebalancing), 'Detected stations')\n",
    "total = 0\n",
    "remove = []\n",
    "for station in rebalancing:\n",
    "    total += len(rebalancing[station])\n",
    "    print(station)\n",
    "    summation = sum([info[0] for info in rebalancing[station]])\n",
    "    print('Reb:', len(rebalancing[station]), 'Total:', summation)\n",
    "    if abs(summation) < 10:\n",
    "        remove.append(station)\n",
    "\n",
    "for rm in remove:\n",
    "    rebalancing.pop(rm)"
   ],
   "id": "f25141614aedf14",
   "outputs": [
    {
     "name": "stdout",
     "output_type": "stream",
     "text": [
      "48 Detected stations\n",
      "E 5 St & Ave C\n",
      "Reb: 1 Total: 11\n",
      "Spruce St & Nassau St\n",
      "Reb: 1 Total: 11\n",
      "Gold St & Frankfort St\n",
      "Reb: 1 Total: 8\n",
      "100 St & Humphreys St\n",
      "Reb: 2 Total: 0\n",
      "48 Ave & 5 St\n",
      "Reb: 1 Total: 76\n",
      "E 2 St & Ave B\n",
      "Reb: 1 Total: 8\n",
      "Bailey Ave & W 229 St\n",
      "Reb: 2 Total: 0\n",
      "Central Park West & W 85 St\n",
      "Reb: 2 Total: 2\n",
      "W 40 St & 7 Ave\n",
      "Reb: 1 Total: 10\n",
      "W 146 St & Broadway\n",
      "Reb: 1 Total: 8\n",
      "Division Ave & Marcy Ave\n",
      "Reb: 2 Total: 0\n",
      "6 Ave & W 33 St\n",
      "Reb: 3 Total: 29\n",
      "E 63 St & 3 Ave\n",
      "Reb: 1 Total: 10\n",
      "University Ave & W Burnside Ave\n",
      "Reb: 1 Total: 9\n",
      "Bridge St & Water St\n",
      "Reb: 3 Total: -10\n",
      "53 St & 4 Ave\n",
      "Reb: 10 Total: 5\n",
      "E 43 St & 2 Ave\n",
      "Reb: 1 Total: 10\n",
      "3 Ave & E 169 St\n",
      "Reb: 1 Total: 10\n",
      "Mercer St & Bleecker St\n",
      "Reb: 1 Total: -10\n",
      "Mercer St & Spring St\n",
      "Reb: 1 Total: -10\n",
      "Grand Concourse & E 167 St\n",
      "Reb: 1 Total: 15\n",
      "W Mosholu Pkwy S & Sedgwick Ave\n",
      "Reb: 2 Total: 20\n",
      "W 44 St & 11 Ave\n",
      "Reb: 1 Total: -8\n",
      "Greene St & Prince St\n",
      "Reb: 1 Total: -10\n",
      "Greenwich St & Rector St\n",
      "Reb: 7 Total: 12\n",
      "S 4 St & Roebling St\n",
      "Reb: 2 Total: -1\n",
      "Willoughby Ave & Wyckoff Ave\n",
      "Reb: 2 Total: 0\n",
      "E 39 St & Lexington Ave\n",
      "Reb: 1 Total: 8\n",
      "Clark St & Henry St\n",
      "Reb: 1 Total: -8\n",
      "West St & Chambers St\n",
      "Reb: 1 Total: -48\n",
      "Henry St & Degraw St\n",
      "Reb: 2 Total: 0\n",
      "Washington Ave & Park Pl\n",
      "Reb: 1 Total: 9\n",
      "Court St & Nelson St\n",
      "Reb: 2 Total: -17\n",
      "Wythe Ave & N 13 St\n",
      "Reb: 2 Total: 0\n",
      "Nassau St & Navy St\n",
      "Reb: 1 Total: -9\n",
      "41 St & 3 Ave\n",
      "Reb: 2 Total: 0\n",
      "6 Ave & Canal St\n",
      "Reb: 2 Total: -3\n",
      "1 Ave & E 39 St\n",
      "Reb: 2 Total: 0\n",
      "E 16 St & Cortelyou Rd\n",
      "Reb: 1 Total: -10\n",
      "Bailey Ave & W 193 St\n",
      "Reb: 1 Total: 11\n",
      "University Ave & W 168 St\n",
      "Reb: 1 Total: 9\n",
      "President St & Nostrand Ave\n",
      "Reb: 1 Total: 9\n",
      "Frederick Douglass Blvd & W 139 St\n",
      "Reb: 2 Total: 0\n",
      "Cortelyou Rd & E 19 St\n",
      "Reb: 1 Total: -10\n",
      "E 26 St & 3 Ave\n",
      "Reb: 3 Total: 0\n",
      "E 170 St & Sheridan Ave\n",
      "Reb: 1 Total: 12\n",
      "W 41 St & 8 Ave\n",
      "Reb: 1 Total: -12\n",
      "Kingston Ave & Carroll St\n",
      "Reb: 1 Total: 9\n"
     ]
    }
   ],
   "execution_count": 147
  },
  {
   "metadata": {
    "ExecuteTime": {
     "end_time": "2024-07-11T15:36:04.462139Z",
     "start_time": "2024-07-11T15:36:04.455818Z"
    }
   },
   "cell_type": "code",
   "source": "rebalancing",
   "id": "b749491d2d3ebb99",
   "outputs": [
    {
     "data": {
      "text/plain": [
       "{'E 5 St & Ave C': [[11, '0:00']],\n",
       " 'Spruce St & Nassau St': [[11, '0:35']],\n",
       " '48 Ave & 5 St': [[76, '0:45']],\n",
       " 'W 40 St & 7 Ave': [[10, '0:55']],\n",
       " '6 Ave & W 33 St': [[10, '1:00'], [10, '2:10'], [9, '2:30']],\n",
       " 'E 63 St & 3 Ave': [[10, '1:05']],\n",
       " 'Bridge St & Water St': [[-27, '1:45'], [27, '1:50'], [-10, '3:55']],\n",
       " 'E 43 St & 2 Ave': [[10, '1:45']],\n",
       " '3 Ave & E 169 St': [[10, '1:55']],\n",
       " 'Mercer St & Bleecker St': [[-10, '1:55']],\n",
       " 'Mercer St & Spring St': [[-10, '2:20']],\n",
       " 'Grand Concourse & E 167 St': [[15, '2:20']],\n",
       " 'W Mosholu Pkwy S & Sedgwick Ave': [[10, '2:20'], [10, '2:25']],\n",
       " 'Greene St & Prince St': [[-10, '2:45']],\n",
       " 'Greenwich St & Rector St': [[-15, '3:00'],\n",
       "  [16, '3:05'],\n",
       "  [-23, '3:40'],\n",
       "  [-14, '3:45'],\n",
       "  [42, '4:15'],\n",
       "  [-34, '4:35'],\n",
       "  [40, '5:25']],\n",
       " 'West St & Chambers St': [[-48, '3:45']],\n",
       " 'Court St & Nelson St': [[-9, '4:15'], [-8, '4:20']],\n",
       " 'E 16 St & Cortelyou Rd': [[-10, '4:50']],\n",
       " 'Bailey Ave & W 193 St': [[11, '4:55']],\n",
       " 'Cortelyou Rd & E 19 St': [[-10, '5:20']],\n",
       " 'E 170 St & Sheridan Ave': [[12, '5:35']],\n",
       " 'W 41 St & 8 Ave': [[-12, '5:35']]}"
      ]
     },
     "execution_count": 148,
     "metadata": {},
     "output_type": "execute_result"
    }
   ],
   "execution_count": 148
  },
  {
   "metadata": {
    "ExecuteTime": {
     "end_time": "2024-07-11T15:36:04.953020Z",
     "start_time": "2024-07-11T15:36:04.464899Z"
    }
   },
   "cell_type": "code",
   "source": [
    "import seaborn as sns\n",
    "for cluster in model.cluster_dict.values():\n",
    "    cluster.curr_bikes = 0\n",
    "for station in rebalancing:\n",
    "    model.cluster_dict[model.station_clusters[station]].curr_bikes += sum([bikes[0] for bikes in rebalancing[station]])\n",
    "    print(model.station_clusters[station], sum([bikes[0] for bikes in rebalancing[station]]))\n",
    "sns.heatmap(model.get_num_bikes_in_clusters(), vmin=-60, vmax=60)"
   ],
   "id": "506d9e4067def0c6",
   "outputs": [
    {
     "name": "stdout",
     "output_type": "stream",
     "text": [
      "1197 11\n",
      "1264 11\n",
      "1022 76\n",
      "943 10\n",
      "979 29\n",
      "876 10\n",
      "1340 -10\n",
      "983 10\n",
      "420 10\n",
      "1158 -10\n",
      "1157 -10\n",
      "381 15\n",
      "63 20\n",
      "1157 -10\n",
      "1262 12\n",
      "1226 -48\n",
      "1047 -17\n",
      "1776 -10\n",
      "131 11\n",
      "1777 -10\n",
      "382 12\n",
      "943 -12\n"
     ]
    },
    {
     "data": {
      "text/plain": [
       "<Axes: >"
      ]
     },
     "execution_count": 149,
     "metadata": {},
     "output_type": "execute_result"
    },
    {
     "data": {
      "text/plain": [
       "<Figure size 640x480 with 2 Axes>"
      ],
      "image/png": "[encoded data removed]"
     },
     "metadata": {},
     "output_type": "display_data"
    }
   ],
   "execution_count": 149
  },
  {
   "metadata": {
    "ExecuteTime": {
     "end_time": "2024-07-11T15:36:05.601628Z",
     "start_time": "2024-07-11T15:36:04.954671Z"
    }
   },
   "cell_type": "code",
   "source": [
    "for cluster in model.cluster_dict.values():\n",
    "    cluster.curr_bikes = 0\n",
    "for station in rebalancing:\n",
    "    model.cluster_dict[model.station_clusters[station]].curr_bikes += rebalancing[station][0][0]\n",
    "reb = model.get_num_bikes_in_clusters()\n",
    "max_docks = model.get_max_docks_in_clusters()\n",
    "# temp_docks = max_docks.copy()\n",
    "# temp_docks[temp_docks == 0] = 1\n",
    "# reb = reb.astype(float) / temp_docks\n",
    "mask_specific_color = max_docks != 0\n",
    "max_docks[max_docks != 0] = 1\n",
    "sns.heatmap(reb, cmap='coolwarm', cbar=True, vmin=-25, vmax=25)\n",
    "sns.heatmap(max_docks,mask=mask_specific_color, cmap='Reds', cbar=False, vmax=8)\n",
    "plt.title(\"Detected overnight rebalancing (nominal)\")\n",
    "\n",
    "\n"
   ],
   "id": "e3eafde632d5157a",
   "outputs": [
    {
     "data": {
      "text/plain": [
       "Text(0.5, 1.0, 'Detected overnight rebalancing (nominal)')"
      ]
     },
     "execution_count": 150,
     "metadata": {},
     "output_type": "execute_result"
    },
    {
     "data": {
      "text/plain": [
       "<Figure size 640x480 with 2 Axes>"
      ],
      "image/png": "[encoded data removed]"
     },
     "metadata": {},
     "output_type": "display_data"
    }
   ],
   "execution_count": 150
  },
  {
   "metadata": {},
   "cell_type": "code",
   "outputs": [],
   "execution_count": null,
   "source": "",
   "id": "32bc6ef6d141a7a7"
  },
  {
   "metadata": {
    "ExecuteTime": {
     "end_time": "2024-07-11T15:27:23.307241Z",
     "start_time": "2024-07-11T15:27:23.301892Z"
    }
   },
   "cell_type": "code",
   "source": "max_docks",
   "id": "6308f37b8f42a84d",
   "outputs": [
    {
     "data": {
      "text/plain": [
       "array([[0, 0, 0, ..., 0, 0, 0],\n",
       "       [0, 0, 0, ..., 0, 0, 0],\n",
       "       [0, 0, 0, ..., 0, 0, 0],\n",
       "       ...,\n",
       "       [1, 1, 1, ..., 0, 0, 0],\n",
       "       [1, 1, 1, ..., 0, 0, 0],\n",
       "       [1, 1, 1, ..., 0, 0, 0]])"
      ]
     },
     "execution_count": 131,
     "metadata": {},
     "output_type": "execute_result"
    }
   ],
   "execution_count": 131
  },
  {
   "metadata": {},
   "cell_type": "code",
   "outputs": [],
   "execution_count": null,
   "source": "",
   "id": "f823c03e9c1b5134"
  }
 ],
 "metadata": {
  "kernelspec": {
   "display_name": "Python 3",
   "language": "python",
   "name": "python3"
  },
  "language_info": {
   "codemirror_mode": {
    "name": "ipython",
    "version": 2
   },
   "file_extension": ".py",
   "mimetype": "text/x-python",
   "name": "python",
   "nbconvert_exporter": "python",
   "pygments_lexer": "ipython2",
   "version": "2.7.6"
  }
 },
 "nbformat": 4,
 "nbformat_minor": 5
}
