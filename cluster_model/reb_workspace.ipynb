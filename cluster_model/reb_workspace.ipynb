{
 "cells": [
  {
   "cell_type": "code",
   "id": "initial_id",
   "metadata": {
    "collapsed": true,
    "ExecuteTime": {
     "end_time": "2024-07-10T18:32:56.558777Z",
     "start_time": "2024-07-10T18:32:56.547481Z"
    }
   },
   "source": [
    "import os\n",
    "import parameter\n",
    "import pandas as pd\n",
    "import simplejson\n",
    "import pickle\n",
    "from cluster_model import ClusterModel\n",
    "from datetime import timedelta"
   ],
   "outputs": [],
   "execution_count": 1
  },
  {
   "metadata": {
    "ExecuteTime": {
     "end_time": "2024-07-10T18:33:02.456492Z",
     "start_time": "2024-07-10T18:32:56.776997Z"
    }
   },
   "cell_type": "code",
   "source": [
    "with open('../data/station_data/2024 model/v2/tph_4/data.pickle', 'rb') as f:\n",
    "    station_data = pickle.load(f)\n",
    "\n",
    "with open('../station_information.json', 'r') as f:\n",
    "    station_information = simplejson.load(f)['data']['stations']\n",
    "    \n",
    "model = ClusterModel(station_data=station_data, in_transit=[], tph=4)\n",
    "model_2 = ClusterModel(station_data=station_data, in_transit=[], tph=4)\n",
    "model.init_clusters(0.005)"
   ],
   "id": "815c53731f908216",
   "outputs": [
    {
     "name": "stdout",
     "output_type": "stream",
     "text": [
      "36 horizontal squares and 51 vertical squares. Total squares: 1836\n"
     ]
    }
   ],
   "execution_count": 2
  },
  {
   "metadata": {
    "ExecuteTime": {
     "start_time": "2024-07-10T18:33:02.459225Z"
    }
   },
   "cell_type": "code",
   "source": [
    "day = 8\n",
    "files = os.listdir(f'rebalancing/data/{day}')\n",
    "files.sort()\n",
    "for i, file in enumerate(files):\n",
    "    df = parameter.get_state_df(station_information, f'rebalancing/data/{day}/' + file,)\n",
    "    split_file = file[:-7].split('-')\n",
    "    hour = int(split_file[3])-4\n",
    "    minute = int(split_file[4])\n",
    "    model.init_df_state(df, time=timedelta(hours=(hour+minute/60)))\n",
    "    \n"
   ],
   "id": "d1eb5eff8596b26a",
   "outputs": [],
   "execution_count": null
  },
  {
   "metadata": {},
   "cell_type": "code",
   "outputs": [],
   "execution_count": null,
   "source": [
    "def detect_rebalance(model):\n",
    "    for cluster in model.cluster_dict.values():\n",
    "        "
   ],
   "id": "5a3bd522f37a6faa"
  }
 ],
 "metadata": {
  "kernelspec": {
   "display_name": "Python 3",
   "language": "python",
   "name": "python3"
  },
  "language_info": {
   "codemirror_mode": {
    "name": "ipython",
    "version": 2
   },
   "file_extension": ".py",
   "mimetype": "text/x-python",
   "name": "python",
   "nbconvert_exporter": "python",
   "pygments_lexer": "ipython2",
   "version": "2.7.6"
  }
 },
 "nbformat": 4,
 "nbformat_minor": 5
}
