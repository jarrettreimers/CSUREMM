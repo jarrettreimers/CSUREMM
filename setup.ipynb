{
 "cells": [
  {
   "cell_type": "code",
   "metadata": {
    "ExecuteTime": {
     "end_time": "2024-06-03T15:08:06.217029Z",
     "start_time": "2024-06-03T15:08:06.213471Z"
    }
   },
   "source": [
    "#########################################\n",
    "# Run once - setup functions            #\n",
    "# Download .zip files to data folder    #\n",
    "#########################################\n",
    "import os\n",
    "import datetime\n",
    "import pandas as pd\n"
   ],
   "outputs": [],
   "execution_count": 1
  },
  {
   "cell_type": "code",
   "metadata": {
    "ExecuteTime": {
     "end_time": "2024-06-03T15:08:13.352963Z",
     "start_time": "2024-06-03T15:08:13.342523Z"
    }
   },
   "source": [
    "years = [str(year) for year  in range(2014, 2025)]\n",
    "months = [str(month) for month in range(1, 13)]\n",
    "months_name = [\"January\", \"February\", \"March\", \"April\", \"May\", \"June\", \"July\", \"August\", \"September\", \"October\", \"November\", \"December\"]\n",
    "\n",
    "if not os.path.exists(\"data/\"):\n",
    "  os.makedirs(\"data/\")\n",
    "  \n",
    "for year in years:\n",
    "  path = \"data/\" + year + \"-citibike-tripdata\"\n",
    "  if os.path.exists(path):\n",
    "    os.rename(path, \"data/\" + year + \"/\")\n",
    "    print(f\"Renaming {year}-citibike-tripdata\")\n",
    "  for month in months:\n",
    "    path = \"data/\" + year + \"/\" + month + \"_\" + months_name[int(month)-1] + \"/\"\n",
    "    if os.path.exists(path):\n",
    "      new_path = \"data/\" + year + \"/\" + month + \"/\"\n",
    "      os.rename(path, new_path)\n",
    "      for n in range(1, len(os.listdir(new_path))+1):\n",
    "        path = new_path + str(int(year)*100+int(month)) + \"-citibike-tripdata_\" + str(n) + \".csv\"\n",
    "        if os.path.exists(path):\n",
    "          new_path = new_path + str(n) + \".csv\"\n",
    "          os.rename(path, new_path)\n",
    "          "
   ],
   "outputs": [],
   "execution_count": 3
  }
 ],
 "metadata": {
  "kernelspec": {
   "display_name": "Python 3",
   "language": "python",
   "name": "python3"
  },
  "language_info": {
   "codemirror_mode": {
    "name": "ipython",
    "version": 3
   },
   "file_extension": ".py",
   "mimetype": "text/x-python",
   "name": "python",
   "nbconvert_exporter": "python",
   "pygments_lexer": "ipython3",
   "version": "3.11.4"
  },
  "orig_nbformat": 4
 },
 "nbformat": 4,
 "nbformat_minor": 2
}
