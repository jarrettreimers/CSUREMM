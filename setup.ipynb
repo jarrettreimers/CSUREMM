{
 "cells": [
  {
   "cell_type": "code",
   "execution_count": 39,
   "metadata": {},
   "outputs": [],
   "source": [
    "#########################################\n",
    "# Run once - setup functions            #\n",
    "# Download .zip files to data folder    #\n",
    "#########################################\n",
    "import os\n",
    "import pandas as pd"
   ]
  },
  {
   "cell_type": "code",
   "execution_count": 36,
   "metadata": {},
   "outputs": [],
   "source": [
    "years = [str(year) for year  in range(2014, 2025)]\n",
    "months = [str(month) for month in range(1, 13)]\n",
    "months_name = [\"January\", \"February\", \"March\", \"April\", \"May\", \"June\", \"July\", \"August\", \"September\", \"October\", \"November\", \"December\"]\n",
    "\n",
    "if not os.path.exists(\"data/\"):\n",
    "  os.makedirs(\"data/\")\n",
    "  \n",
    "for year in years:\n",
    "  if os.path.exists(\"data/\" + year + \"-citibike-tripdata\"):\n",
    "    os.rename(\"data/\" + year + \"-citibike-tripdata/\", \"data/\" + year + \"/\")\n",
    "  for month in months:\n",
    "    if os.path.exists(\"data/\" + year + \"/\" + month + \"_\" + months_name[int(month)-1] + \"/\"):\n",
    "      os.rename(\"data/\" + year + \"/\" + month + \"_\" + months_name[int(month)-1] + \"/\", \"data/\" + year + \"/\" + month + \"/\")\n",
    "      for n in range(1, len(os.listdir(\"data/\" + year + \"/\" + month + \"/\"))+1):\n",
    "        if os.path.exists(\"data/\" + year + \"/\" + month + \"/\" + str(int(year)*100+int(month)) + \"-citibike-tripdata_\" + str(n) + \".csv\"):\n",
    "          os.rename(\"data/\" + year + \"/\" + month + \"/\" + str(int(year)*100+int(month)) + \"-citibike-tripdata_\" + str(n) + \".csv\", \n",
    "                  \"data/\" + year + \"/\" + month + \"/\" + str(n) + \".csv\")"
   ]
  },
  {
   "cell_type": "code",
   "execution_count": 41,
   "metadata": {},
   "outputs": [
    {
     "name": "stdout",
     "output_type": "stream",
     "text": [
      "   tripduration          starttime           stoptime  start station id  \\\n",
      "0          1470  6/1/2016 00:00:18  6/1/2016 00:24:48               380   \n",
      "1           229  6/1/2016 00:00:20  6/1/2016 00:04:09              3092   \n",
      "2           344  6/1/2016 00:00:21  6/1/2016 00:06:06               449   \n",
      "3          1120  6/1/2016 00:00:28  6/1/2016 00:19:09               522   \n",
      "4           229  6/1/2016 00:00:53  6/1/2016 00:04:42               335   \n",
      "\n",
      "         start station name  start station latitude  start station longitude  \\\n",
      "0          W 4 St & 7 Ave S               40.734011               -74.002939   \n",
      "1         Berry St & N 8 St               40.719009               -73.958525   \n",
      "2           W 52 St & 9 Ave               40.764618               -73.987895   \n",
      "3   E 51 St & Lexington Ave               40.757148               -73.972078   \n",
      "4  Washington Pl & Broadway               40.729039               -73.994046   \n",
      "\n",
      "   end station id         end station name  end station latitude  \\\n",
      "0            3236       W 42 St & Dyer Ave             40.758985   \n",
      "1            3103      N 11 St & Wythe Ave             40.721533   \n",
      "2             469       Broadway & W 53 St             40.763441   \n",
      "3             401  Allen St & Rivington St             40.720196   \n",
      "4             285       Broadway & E 14 St             40.734546   \n",
      "\n",
      "   end station longitude  bikeid    usertype  birth year  gender  \n",
      "0             -73.993800   19859  Subscriber      1972.0       1  \n",
      "1             -73.957824   16233  Subscriber      1967.0       1  \n",
      "2             -73.982681   22397  Subscriber      1989.0       1  \n",
      "3             -73.989978   16231  Subscriber      1991.0       1  \n",
      "4             -73.990741   15400  Subscriber      1989.0       1  \n",
      "   tripduration           starttime            stoptime  start station id  \\\n",
      "0           882  6/21/2016 20:43:38  6/21/2016 20:58:20               401   \n",
      "1           168  6/21/2016 20:43:40  6/21/2016 20:46:29               466   \n",
      "2           451  6/21/2016 20:43:40  6/21/2016 20:51:12               439   \n",
      "3           539  6/21/2016 20:43:40  6/21/2016 20:52:39              3002   \n",
      "4           260  6/21/2016 20:43:41  6/21/2016 20:48:01               317   \n",
      "\n",
      "           start station name  start station latitude  \\\n",
      "0     Allen St & Rivington St               40.720196   \n",
      "1             W 25 St & 6 Ave               40.743954   \n",
      "2              E 4 St & 2 Ave               40.726281   \n",
      "3  South End Ave & Liberty St               40.711512   \n",
      "4           E 6 St & Avenue B               40.724537   \n",
      "\n",
      "   start station longitude  end station id          end station name  \\\n",
      "0               -73.989978             532           S 5 Pl & S 4 St   \n",
      "1               -73.991449             494           W 26 St & 8 Ave   \n",
      "2               -73.989780             545           E 23 St & 1 Ave   \n",
      "3               -74.015756             315  South St & Gouverneur Ln   \n",
      "4               -73.981854             237           E 11 St & 2 Ave   \n",
      "\n",
      "   end station latitude  end station longitude  bikeid    usertype  \\\n",
      "0             40.710451             -73.960876   15451    Customer   \n",
      "1             40.747348             -73.997236   16995  Subscriber   \n",
      "2             40.736502             -73.978095   19832  Subscriber   \n",
      "3             40.703554             -74.006702   23335  Subscriber   \n",
      "4             40.730473             -73.986724   16954  Subscriber   \n",
      "\n",
      "   birth year  gender  \n",
      "0         NaN       0  \n",
      "1      1965.0       1  \n",
      "2      1992.0       1  \n",
      "3      1980.0       1  \n",
      "4      1989.0       1  \n"
     ]
    }
   ],
   "source": [
    "# Useful example for dealing with file structure\n",
    "year = \"2016\"\n",
    "month = \"6\"\n",
    "path = \"data/\" + year + \"/\" + month + \"/\"\n",
    "for file in os.listdir(path):\n",
    "  data = pd.read_csv(path + file)\n",
    "  print(data.head())"
   ]
  },
  {
   "cell_type": "code",
   "execution_count": null,
   "metadata": {},
   "outputs": [],
   "source": []
  }
 ],
 "metadata": {
  "kernelspec": {
   "display_name": "Python 3",
   "language": "python",
   "name": "python3"
  },
  "language_info": {
   "codemirror_mode": {
    "name": "ipython",
    "version": 3
   },
   "file_extension": ".py",
   "mimetype": "text/x-python",
   "name": "python",
   "nbconvert_exporter": "python",
   "pygments_lexer": "ipython3",
   "version": "3.11.4"
  },
  "orig_nbformat": 4
 },
 "nbformat": 4,
 "nbformat_minor": 2
}
