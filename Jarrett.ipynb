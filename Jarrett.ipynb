{
 "cells": [
  {
   "cell_type": "code",
   "metadata": {
    "ExecuteTime": {
     "end_time": "2024-06-12T14:55:32.163649Z",
     "start_time": "2024-06-12T14:55:32.048324Z"
    }
   },
   "source": [
    "#########################################\n",
    "# Test functions and non-permanent code #\n",
    "# Author: Jarrett Reimers               #\n",
    "\n",
    "# Keep as a reference, do not edit      #\n",
    "#########################################\n",
    "\n",
    "import pandas as pd\n",
    "import numpy as np\n",
    "import os\n",
    "import datetime\n",
    "\n",
    "import query\n",
    "from model import Model\n",
    "import parameter\n",
    "import plotly.express as px\n",
    "\n",
    "import plotly.graph_objects as go\n",
    "\n",
    "import matplotlib.pyplot as plt\n",
    "\n",
    "from matplotlib import pyplot\n",
    "import seaborn as sns\n",
    "\n",
    "if not os.path.exists(\"images\"):\n",
    "    os.mkdir(\"images\")"
   ],
   "outputs": [],
   "execution_count": 3
  },
  {
   "metadata": {
    "ExecuteTime": {
     "end_time": "2024-06-11T19:40:01.000555Z",
     "start_time": "2024-06-11T19:39:57.556700Z"
    }
   },
   "cell_type": "code",
   "source": [
    "start_date = query.get_datetime(2023, 5, 1, 0, 0, 0)\n",
    "end_date = query.get_datetime(2023, 6, 30, 0, 0, 0)\n",
    "parameter.get_rate('2 Ave & E 29 St',start_date=start_date, end_date=end_date, length=datetime.timedelta(hours=1), weekday=True)"
   ],
   "outputs": [
    {
     "data": {
      "text/plain": [
       "array([ 2.66666667,  1.02222222,  0.53333333,  0.33333333,  0.55555556,\n",
       "        1.75555556,  4.57777778,  9.51111111, 18.4       , 12.57777778,\n",
       "        7.84444444,  8.37777778,  8.84444444,  9.15555556, 11.15555556,\n",
       "       13.06666667, 16.68888889, 23.82222222, 22.22222222, 16.88888889,\n",
       "       11.11111111,  8.24444444,  6.42222222,  4.53333333])"
      ]
     },
     "execution_count": 5,
     "metadata": {},
     "output_type": "execute_result"
    }
   ],
   "execution_count": 5
  },
  {
   "cell_type": "code",
   "metadata": {
    "ExecuteTime": {
     "end_time": "2024-06-12T14:55:37.259790Z",
     "start_time": "2024-06-12T14:55:35.267301Z"
    }
   },
   "source": [
    "data = pd.read_csv(\"data/2023/by_station/Cooper Square & Astor Pl.csv\", low_memory=False, index_col=0)\n",
    "data = query.make_datetime(data)"
   ],
   "outputs": [],
   "execution_count": 4
  },
  {
   "cell_type": "code",
   "metadata": {
    "ExecuteTime": {
     "end_time": "2024-06-07T14:05:41.170163Z",
     "start_time": "2024-06-07T14:05:41.051798Z"
    }
   },
   "source": [
    "station_list = query.get_stations(data)\n",
    "station_id = 324 \n",
    "station_data = query.select_start_station(data, station_id)\n",
    "stations = Model()\n",
    "start_time = query.get_datetime(2015, 5, 1, 0, 0, 0)\n",
    "\n",
    "freq = []\n",
    "for day in range(0, 60):\n",
    "  stations.clear_data()\n",
    "  window = datetime.timedelta(days=1)\n",
    "  end_time = start_time + window\n",
    "  window_data = query.select_time(station_data, start_time, end_time)\n",
    "  stations.add_data(window_data)\n",
    "\n",
    "  # print(\"Total trips started on day\", day)\n",
    "  # if station_id in stations.stations_count:\n",
    "  #   print(stations.stations_count[station_id])\n",
    "  # else:\n",
    "  #   print(0)\n",
    "  \n",
    "  daily = []\n",
    "  for hour in range(0, 24):\n",
    "    stations.clear_data()\n",
    "    window = datetime.timedelta(hours=1)\n",
    "    end_time = start_time + window\n",
    "    window_data = query.select_time(station_data, start_time, end_time)\n",
    "    stations.add_data(window_data)\n",
    "\n",
    "    if station_id in stations.stations_count:\n",
    "      # print(hour, stations.stations_count[station_id])\n",
    "      daily.append(stations.stations_count[station_id])\n",
    "    else:\n",
    "      # print(hour, 0)\n",
    "      daily.append(0)\n",
    "      \n",
    "    start_time = end_time\n",
    "  freq.append(daily)\n",
    "  start_time = end_time\n"
   ],
   "outputs": [
    {
     "ename": "KeyError",
     "evalue": "'start station id'",
     "output_type": "error",
     "traceback": [
      "\u001B[0;31m---------------------------------------------------------------------------\u001B[0m",
      "\u001B[0;31mKeyError\u001B[0m                                  Traceback (most recent call last)",
      "File \u001B[0;32m~/Documents/GitHub/CSUREMM/venv/lib/python3.9/site-packages/pandas/core/indexes/base.py:3805\u001B[0m, in \u001B[0;36mIndex.get_loc\u001B[0;34m(self, key)\u001B[0m\n\u001B[1;32m   3804\u001B[0m \u001B[38;5;28;01mtry\u001B[39;00m:\n\u001B[0;32m-> 3805\u001B[0m     \u001B[38;5;28;01mreturn\u001B[39;00m \u001B[38;5;28;43mself\u001B[39;49m\u001B[38;5;241;43m.\u001B[39;49m\u001B[43m_engine\u001B[49m\u001B[38;5;241;43m.\u001B[39;49m\u001B[43mget_loc\u001B[49m\u001B[43m(\u001B[49m\u001B[43mcasted_key\u001B[49m\u001B[43m)\u001B[49m\n\u001B[1;32m   3806\u001B[0m \u001B[38;5;28;01mexcept\u001B[39;00m \u001B[38;5;167;01mKeyError\u001B[39;00m \u001B[38;5;28;01mas\u001B[39;00m err:\n",
      "File \u001B[0;32mindex.pyx:167\u001B[0m, in \u001B[0;36mpandas._libs.index.IndexEngine.get_loc\u001B[0;34m()\u001B[0m\n",
      "File \u001B[0;32mindex.pyx:196\u001B[0m, in \u001B[0;36mpandas._libs.index.IndexEngine.get_loc\u001B[0;34m()\u001B[0m\n",
      "File \u001B[0;32mpandas/_libs/hashtable_class_helper.pxi:7081\u001B[0m, in \u001B[0;36mpandas._libs.hashtable.PyObjectHashTable.get_item\u001B[0;34m()\u001B[0m\n",
      "File \u001B[0;32mpandas/_libs/hashtable_class_helper.pxi:7089\u001B[0m, in \u001B[0;36mpandas._libs.hashtable.PyObjectHashTable.get_item\u001B[0;34m()\u001B[0m\n",
      "\u001B[0;31mKeyError\u001B[0m: 'start station id'",
      "\nThe above exception was the direct cause of the following exception:\n",
      "\u001B[0;31mKeyError\u001B[0m                                  Traceback (most recent call last)",
      "Cell \u001B[0;32mIn[15], line 1\u001B[0m\n\u001B[0;32m----> 1\u001B[0m station_list \u001B[38;5;241m=\u001B[39m \u001B[43mquery\u001B[49m\u001B[38;5;241;43m.\u001B[39;49m\u001B[43mget_stations\u001B[49m\u001B[43m(\u001B[49m\u001B[43mdata\u001B[49m\u001B[43m)\u001B[49m\n\u001B[1;32m      2\u001B[0m station_id \u001B[38;5;241m=\u001B[39m \u001B[38;5;241m324\u001B[39m \n\u001B[1;32m      4\u001B[0m station_data \u001B[38;5;241m=\u001B[39m query\u001B[38;5;241m.\u001B[39mselect_start_station(data, station_id)\n",
      "File \u001B[0;32m~/Documents/GitHub/CSUREMM/query.py:15\u001B[0m, in \u001B[0;36mget_stations\u001B[0;34m(data)\u001B[0m\n\u001B[1;32m     14\u001B[0m \u001B[38;5;28;01mdef\u001B[39;00m \u001B[38;5;21mget_stations\u001B[39m(data: pd\u001B[38;5;241m.\u001B[39mDataFrame) \u001B[38;5;241m-\u001B[39m\u001B[38;5;241m>\u001B[39m \u001B[38;5;28mset\u001B[39m:\n\u001B[0;32m---> 15\u001B[0m     \u001B[38;5;28;01mreturn\u001B[39;00m \u001B[38;5;28mset\u001B[39m(\u001B[43mdata\u001B[49m\u001B[43m[\u001B[49m\u001B[38;5;124;43m'\u001B[39;49m\u001B[38;5;124;43mstart station id\u001B[39;49m\u001B[38;5;124;43m'\u001B[39;49m\u001B[43m]\u001B[49m)\u001B[38;5;241m.\u001B[39munion(\u001B[38;5;28mset\u001B[39m(data[\u001B[38;5;124m'\u001B[39m\u001B[38;5;124mend station id\u001B[39m\u001B[38;5;124m'\u001B[39m]))\n",
      "File \u001B[0;32m~/Documents/GitHub/CSUREMM/venv/lib/python3.9/site-packages/pandas/core/frame.py:4102\u001B[0m, in \u001B[0;36mDataFrame.__getitem__\u001B[0;34m(self, key)\u001B[0m\n\u001B[1;32m   4100\u001B[0m \u001B[38;5;28;01mif\u001B[39;00m \u001B[38;5;28mself\u001B[39m\u001B[38;5;241m.\u001B[39mcolumns\u001B[38;5;241m.\u001B[39mnlevels \u001B[38;5;241m>\u001B[39m \u001B[38;5;241m1\u001B[39m:\n\u001B[1;32m   4101\u001B[0m     \u001B[38;5;28;01mreturn\u001B[39;00m \u001B[38;5;28mself\u001B[39m\u001B[38;5;241m.\u001B[39m_getitem_multilevel(key)\n\u001B[0;32m-> 4102\u001B[0m indexer \u001B[38;5;241m=\u001B[39m \u001B[38;5;28;43mself\u001B[39;49m\u001B[38;5;241;43m.\u001B[39;49m\u001B[43mcolumns\u001B[49m\u001B[38;5;241;43m.\u001B[39;49m\u001B[43mget_loc\u001B[49m\u001B[43m(\u001B[49m\u001B[43mkey\u001B[49m\u001B[43m)\u001B[49m\n\u001B[1;32m   4103\u001B[0m \u001B[38;5;28;01mif\u001B[39;00m is_integer(indexer):\n\u001B[1;32m   4104\u001B[0m     indexer \u001B[38;5;241m=\u001B[39m [indexer]\n",
      "File \u001B[0;32m~/Documents/GitHub/CSUREMM/venv/lib/python3.9/site-packages/pandas/core/indexes/base.py:3812\u001B[0m, in \u001B[0;36mIndex.get_loc\u001B[0;34m(self, key)\u001B[0m\n\u001B[1;32m   3807\u001B[0m     \u001B[38;5;28;01mif\u001B[39;00m \u001B[38;5;28misinstance\u001B[39m(casted_key, \u001B[38;5;28mslice\u001B[39m) \u001B[38;5;129;01mor\u001B[39;00m (\n\u001B[1;32m   3808\u001B[0m         \u001B[38;5;28misinstance\u001B[39m(casted_key, abc\u001B[38;5;241m.\u001B[39mIterable)\n\u001B[1;32m   3809\u001B[0m         \u001B[38;5;129;01mand\u001B[39;00m \u001B[38;5;28many\u001B[39m(\u001B[38;5;28misinstance\u001B[39m(x, \u001B[38;5;28mslice\u001B[39m) \u001B[38;5;28;01mfor\u001B[39;00m x \u001B[38;5;129;01min\u001B[39;00m casted_key)\n\u001B[1;32m   3810\u001B[0m     ):\n\u001B[1;32m   3811\u001B[0m         \u001B[38;5;28;01mraise\u001B[39;00m InvalidIndexError(key)\n\u001B[0;32m-> 3812\u001B[0m     \u001B[38;5;28;01mraise\u001B[39;00m \u001B[38;5;167;01mKeyError\u001B[39;00m(key) \u001B[38;5;28;01mfrom\u001B[39;00m \u001B[38;5;21;01merr\u001B[39;00m\n\u001B[1;32m   3813\u001B[0m \u001B[38;5;28;01mexcept\u001B[39;00m \u001B[38;5;167;01mTypeError\u001B[39;00m:\n\u001B[1;32m   3814\u001B[0m     \u001B[38;5;66;03m# If we have a listlike key, _check_indexing_error will raise\u001B[39;00m\n\u001B[1;32m   3815\u001B[0m     \u001B[38;5;66;03m#  InvalidIndexError. Otherwise we fall through and re-raise\u001B[39;00m\n\u001B[1;32m   3816\u001B[0m     \u001B[38;5;66;03m#  the TypeError.\u001B[39;00m\n\u001B[1;32m   3817\u001B[0m     \u001B[38;5;28mself\u001B[39m\u001B[38;5;241m.\u001B[39m_check_indexing_error(key)\n",
      "\u001B[0;31mKeyError\u001B[0m: 'start station id'"
     ]
    }
   ],
   "execution_count": 15
  },
  {
   "metadata": {
    "ExecuteTime": {
     "end_time": "2024-06-07T15:51:34.307080Z",
     "start_time": "2024-06-07T15:51:05.231700Z"
    }
   },
   "cell_type": "code",
   "source": [
    "start_time = query.get_datetime(2023, 4, 1, 0, 0, 0)\n",
    "end_time = query.get_datetime(2023, 7, 1, 0, 0, 0)\n",
    "interval = 0.5\n",
    "\n",
    "freqs = []\n",
    "while start_time < end_time:\n",
    "    freq = []\n",
    "    if start_time.weekday() > 5:\n",
    "        start_time += datetime.timedelta(days=1)\n",
    "        continue\n",
    "    daily_rides = len(query.select_time(data, start_time, start_time+datetime.timedelta(days=1)))\n",
    "    if daily_rides < 150 or daily_rides > 250:\n",
    "        start_time += datetime.timedelta(days=1)\n",
    "        continue   \n",
    "    for hour in range(int(24/interval)):\n",
    "        stop_time = start_time + datetime.timedelta(hours=interval)\n",
    "        rides = len(query.select_time(data, start_time, stop_time))\n",
    "        freq.append(rides)\n",
    "        start_time = stop_time\n",
    "    freqs.append(freq)"
   ],
   "outputs": [],
   "execution_count": 174
  },
  {
   "metadata": {
    "ExecuteTime": {
     "end_time": "2024-06-07T15:52:22.260909Z",
     "start_time": "2024-06-07T15:52:22.030584Z"
    }
   },
   "cell_type": "code",
   "source": [
    "df = pd.DataFrame(freqs)\n",
    "# p = 0.73\n",
    "plt.plot(df.var() - df.mean())"
   ],
   "outputs": [
    {
     "data": {
      "text/plain": [
       "[<matplotlib.lines.Line2D at 0x13d5cf7c0>]"
      ]
     },
     "execution_count": 179,
     "metadata": {},
     "output_type": "execute_result"
    },
    {
     "data": {
      "text/plain": [
       "<Figure size 640x480 with 1 Axes>"
      ],
      "image/png": "[encoded data removed]"
     },
     "metadata": {},
     "output_type": "display_data"
    }
   ],
   "execution_count": 179
  },
  {
   "metadata": {
    "ExecuteTime": {
     "end_time": "2024-06-07T15:51:34.556215Z",
     "start_time": "2024-06-07T15:51:34.549147Z"
    }
   },
   "cell_type": "code",
   "source": [
    "p = 0.73295\n",
    "(df.var() - df.mean()/p).sum()"
   ],
   "outputs": [
    {
     "data": {
      "text/plain": [
       "49.351925438297286"
      ]
     },
     "execution_count": 176,
     "metadata": {},
     "output_type": "execute_result"
    }
   ],
   "execution_count": 176
  },
  {
   "metadata": {
    "ExecuteTime": {
     "end_time": "2024-06-07T15:51:34.835500Z",
     "start_time": "2024-06-07T15:51:34.559741Z"
    }
   },
   "cell_type": "code",
   "source": [
    "col = 27\n",
    "plt.hist(df[col].T, bins=df[col].T.max())"
   ],
   "outputs": [
    {
     "data": {
      "text/plain": [
       "(array([ 4.,  6., 11.,  9.,  8.,  5.,  5.,  8.,  3.,  1.,  0.,  1.,  2.,\n",
       "         0.,  1.]),\n",
       " array([ 1.        ,  1.93333333,  2.86666667,  3.8       ,  4.73333333,\n",
       "         5.66666667,  6.6       ,  7.53333333,  8.46666667,  9.4       ,\n",
       "        10.33333333, 11.26666667, 12.2       , 13.13333333, 14.06666667,\n",
       "        15.        ]),\n",
       " <BarContainer object of 15 artists>)"
      ]
     },
     "execution_count": 177,
     "metadata": {},
     "output_type": "execute_result"
    },
    {
     "data": {
      "text/plain": [
       "<Figure size 640x480 with 1 Axes>"
      ],
      "image/png": "[encoded data removed]"
     },
     "metadata": {},
     "output_type": "display_data"
    }
   ],
   "execution_count": 177
  },
  {
   "metadata": {
    "ExecuteTime": {
     "end_time": "2024-06-07T15:51:35.135431Z",
     "start_time": "2024-06-07T15:51:34.838096Z"
    }
   },
   "cell_type": "code",
   "source": "plt.hist(df.T.sum(), bins=30)",
   "outputs": [
    {
     "data": {
      "text/plain": [
       "(array([2., 0., 2., 2., 0., 1., 1., 3., 1., 2., 2., 2., 0., 3., 2., 2., 2.,\n",
       "        4., 6., 2., 5., 0., 4., 0., 5., 3., 1., 3., 1., 3.]),\n",
       " array([152.        , 155.26666667, 158.53333333, 161.8       ,\n",
       "        165.06666667, 168.33333333, 171.6       , 174.86666667,\n",
       "        178.13333333, 181.4       , 184.66666667, 187.93333333,\n",
       "        191.2       , 194.46666667, 197.73333333, 201.        ,\n",
       "        204.26666667, 207.53333333, 210.8       , 214.06666667,\n",
       "        217.33333333, 220.6       , 223.86666667, 227.13333333,\n",
       "        230.4       , 233.66666667, 236.93333333, 240.2       ,\n",
       "        243.46666667, 246.73333333, 250.        ]),\n",
       " <BarContainer object of 30 artists>)"
      ]
     },
     "execution_count": 178,
     "metadata": {},
     "output_type": "execute_result"
    },
    {
     "data": {
      "text/plain": [
       "<Figure size 640x480 with 1 Axes>"
      ],
      "image/png": "[encoded data removed]"
     },
     "metadata": {},
     "output_type": "display_data"
    }
   ],
   "execution_count": 178
  },
  {
   "metadata": {
    "ExecuteTime": {
     "end_time": "2024-06-07T15:39:00.427430Z",
     "start_time": "2024-06-07T15:39:00.421414Z"
    }
   },
   "cell_type": "code",
   "source": [
    "for q in df.quantile(0.1):\n",
    "    trimmed_df = df.loc[df[col] > q]"
   ],
   "outputs": [
    {
     "name": "stdout",
     "output_type": "stream",
     "text": [
      "0.0\n",
      "0.0\n",
      "0.0\n",
      "0.0\n",
      "0.0\n",
      "0.0\n",
      "0.0\n",
      "0.0\n",
      "0.0\n",
      "0.0\n",
      "0.0\n",
      "0.0\n",
      "0.0\n",
      "0.0\n",
      "0.0\n",
      "1.0\n",
      "1.0\n",
      "1.0\n",
      "2.0\n",
      "1.0\n",
      "0.0\n",
      "1.0\n",
      "1.0\n",
      "1.7000000000000002\n",
      "2.0\n",
      "2.0\n",
      "2.0\n",
      "2.0\n",
      "2.0\n",
      "2.0\n",
      "3.0\n",
      "3.0\n",
      "4.7\n",
      "4.0\n",
      "5.0\n",
      "4.7\n",
      "7.7\n",
      "5.0\n",
      "3.0\n",
      "3.0\n",
      "3.0\n",
      "1.0\n",
      "2.0\n",
      "2.0\n",
      "1.0\n",
      "1.0\n",
      "1.0\n",
      "0.7000000000000002\n"
     ]
    }
   ],
   "execution_count": 163
  },
  {
   "cell_type": "code",
   "metadata": {
    "ExecuteTime": {
     "end_time": "2024-05-31T13:43:39.463538Z",
     "start_time": "2024-05-31T13:43:39.460417Z"
    }
   },
   "source": [
    "# stations = Stations()\n",
    "# stations.add_data(query.select_time(data, start_time, end_time))\n",
    "#   \n",
    "# pyplot.plot(range(len(stations.stations_count)), stations.stations_count.values())"
   ],
   "outputs": [],
   "execution_count": 8
  },
  {
   "cell_type": "code",
   "metadata": {
    "ExecuteTime": {
     "end_time": "2024-05-31T13:29:37.168661Z",
     "start_time": "2024-05-31T13:29:37.162999Z"
    }
   },
   "source": [
    "maximum = 0\n",
    "max_station = 0\n",
    "for station in stations.stations_count:\n",
    "  if stations.stations_count[station] > maximum:\n",
    "    max_station = station\n",
    "    maximum = stations.stations_count[station]\n",
    "print(\"The maximum is at station:\", max_station, \". With\", maximum, \"bikes at end of period\")"
   ],
   "outputs": [
    {
     "name": "stdout",
     "output_type": "stream",
     "text": [
      "The maximum is at station: 0 . With 0 bikes at end of period\n"
     ]
    }
   ],
   "execution_count": 7
  },
  {
   "cell_type": "code",
   "execution_count": 17,
   "metadata": {},
   "outputs": [
    {
     "name": "stdout",
     "output_type": "stream",
     "text": [
      "The minimum is at station: 496 . With -69 bikes at end of period\n"
     ]
    }
   ],
   "source": [
    "minimum = 0\n",
    "min_station = 0\n",
    "for station in stations.stations_count:\n",
    "  if stations.stations_count[station] < minimum:\n",
    "    min_station = station\n",
    "    minimum = stations.stations_count[station]\n",
    "print(\"The minimum is at station:\", min_station, \". With\", minimum, \"bikes at end of period\")"
   ]
  },
  {
   "metadata": {
    "ExecuteTime": {
     "end_time": "2024-06-04T19:07:31.046991Z",
     "start_time": "2024-06-04T19:07:25.034206Z"
    }
   },
   "cell_type": "code",
   "source": [
    "windows = [0.25, 0.5, 1]\n",
    "\n",
    "start_time = query.get_datetime(2015, 5, 1, 0, 0, 0)\n",
    "stop_time = query.get_datetime(2015, 5, 31, 0, 0, 0)\n",
    "weekdays_and_ends = parameter.get_weekdays_and_weekends(start_time, stop_time)\n",
    "weekdays = weekdays_and_ends[0]\n",
    "weekends = weekdays_and_ends[1]\n",
    "stations = (data['start station id']).unique()\n",
    "\n",
    "daily_trips = []\n",
    "for start_time in weekdays:\n",
    "  end_time = start_time + datetime.timedelta(days=1)\n",
    "  daily_trips.append(len(query.select_time(data, start_time, end_time)))\n",
    "  start_time += datetime.timedelta(days=1)\n",
    "# throughput = pd.cut(daily_trips, 3, labels=range(3))\n",
    "\n",
    "for hours in windows:\n",
    "  # for station_id in stations[:5]:\n",
    "    weekday_freqs = [] \n",
    "    station_id = 537\n",
    "    station_df = query.select_start_station(data, station_id)\n",
    "    \n",
    "    for start_time in weekdays:\n",
    "      freq = []\n",
    "      stop_time = start_time+datetime.timedelta(days=1)\n",
    "      time_df = query.select_time(station_df, start_time, stop_time).reset_index(drop=True)\n",
    "      chop_df = parameter.cut(time_df, start_time, stop_time, datetime.timedelta(hours=hours))\n",
    "      for i in range(len(chop_df)):\n",
    "        freq.append(len(chop_df[i]))\n",
    "      weekday_freqs.append(freq)\n",
    "    \n",
    "    rows = []\n",
    "    i = 0\n",
    "    for daily in weekday_freqs:\n",
    "      hour = 0\n",
    "      for hourly in daily:\n",
    "        rows.append([hourly, hour, daily_trips[i]])\n",
    "        hour += 1\n",
    "      i+=1 \n",
    "    df = pd.DataFrame(rows, columns=['trips', 'hours', 'Total throughput'])\n",
    "    \n",
    "    trip_data = pd.DataFrame(weekday_freqs)\n",
    "    rate = trip_data.sum()/len(trip_data.T.iloc[0])\n",
    "    pred = np.random.poisson(rate)\n",
    "    \n",
    "    fig = px.scatter(df, x='hours', y='trips', color='Total throughput', template='plotly',\n",
    "                     width=1200, height=500, labels={'hours': 'Half-hours', 'trips': 'Departures', 'Total throughput': 'Total throughput'}, title=\"Daily departure breakdown (May, weekday only)\")\n",
    "    fig.add_trace(go.Scatter(x=np.array(range(int(24/hours))), y=np.array(pred),\n",
    "                        mode='lines',\n",
    "                        name=''))\n",
    "    \n",
    "    if not os.path.exists(f\"images/{station_id}/\"):\n",
    "      os.mkdir(f\"images/{station_id}/\")\n",
    "    fig.write_image(f'images/{station_id}/{hours}_test.png')"
   ],
   "outputs": [],
   "execution_count": 39
  },
  {
   "metadata": {
    "ExecuteTime": {
     "end_time": "2024-06-04T18:34:46.488633Z",
     "start_time": "2024-06-04T18:34:46.396107Z"
    }
   },
   "cell_type": "code",
   "source": [
    "station_data = query.select_start_station(data, 537)\n",
    "start_time = query.get_datetime(2015, 5, 1, 0, 0, 0)\n",
    "end_time = query.get_datetime(2015, 5, 31, 0, 0, 0)\n",
    "\n",
    "slide_data = []\n",
    "while start_time <= end_time:\n",
    "    stop_time = start_time+datetime.timedelta(days=1)\n",
    "    time_df = query.select_time(station_data, start_time, stop_time).reset_index(drop=True)\n",
    "    slide_data.append(len(time_df))\n",
    "    start_time = stop_time\n",
    "    "
   ],
   "outputs": [],
   "execution_count": 10
  },
  {
   "metadata": {
    "ExecuteTime": {
     "end_time": "2024-06-10T14:42:54.989043Z",
     "start_time": "2024-06-10T14:42:54.129147Z"
    }
   },
   "cell_type": "code",
   "source": [
    "start_time = query.get_datetime(2015, 5, 1, 0, 0, 0)\n",
    "end_time = query.get_datetime(2015, 5, 31, 0, 0, 0)\n",
    "station_data = query.select_time(data, start_time, end_time).reset_index(drop=True)\n",
    "weekdays_and_ends = parameter.get_weekdays_and_weekends(start_time, end_time)\n",
    "weekdays = weekdays_and_ends[0]\n",
    "slide_freqs = [] \n",
    "\n",
    "for start_time in weekdays:\n",
    "    freq = []\n",
    "    stop_time = start_time+datetime.timedelta(days=1)\n",
    "    time_df = query.select_time(station_data, start_time, stop_time).reset_index(drop=True)\n",
    "    chop_df = parameter.cut(time_df, start_time, stop_time, datetime.timedelta(hours=0.5))\n",
    "    for i in range(len(chop_df)):\n",
    "      freq.append(len(chop_df[i]))\n",
    "    slide_freqs.append(freq)\n",
    "slide_freqs = pd.DataFrame(slide_freqs)"
   ],
   "outputs": [],
   "execution_count": 4
  },
  {
   "metadata": {
    "ExecuteTime": {
     "end_time": "2024-06-10T14:44:35.166515Z",
     "start_time": "2024-06-10T14:44:34.514675Z"
    }
   },
   "cell_type": "code",
   "source": "",
   "outputs": [],
   "execution_count": 13
  },
  {
   "metadata": {
    "ExecuteTime": {
     "end_time": "2024-06-10T15:14:47.931238Z",
     "start_time": "2024-06-10T15:14:08.502002Z"
    }
   },
   "cell_type": "code",
   "source": [
    "path = 'data/2023/by_station/'\n",
    "for file in os.listdir(path)[::20]:\n",
    "    data = pd.read_csv(path+file)\n",
    "    data = query.make_datetime(data)\n",
    "    start_time = query.get_datetime(2023, 5, 1, 0, 0, 0)\n",
    "    end_time = query.get_datetime(2023, 9, 30, 0, 0, 0)\n",
    "    station_data = query.select_time(data, start_time, end_time)\n",
    "    weekdays_and_ends = parameter.get_weekdays_and_weekends(start_time, end_time)\n",
    "    weekdays = weekdays_and_ends[0]\n",
    "    freq = []\n",
    "    hour = 17\n",
    "    window = 2\n",
    "    \n",
    "    for day in weekdays:\n",
    "        start_time = day + datetime.timedelta(hours=hour)\n",
    "        stop_time = start_time + datetime.timedelta(hours=window)\n",
    "        time_df = query.select_time(station_data, start_time, stop_time).reset_index(drop=True)\n",
    "        freq.append(len(time_df))\n",
    "        \n",
    "    df = pd.DataFrame(freq)\n",
    "    if df[0].max() == 0:\n",
    "        print(\"No departures for\", file)\n",
    "        continue\n",
    "    plt.hist(df[0], bins=int(df[0].max()))        \n",
    "    plt.savefig(f'images/histograms/{file[:-4]}.png')\n",
    "    plt.close()\n",
    "    "
   ],
   "outputs": [
    {
     "name": "stdout",
     "output_type": "stream",
     "text": [
      "No departures for Fort Hamilton Pkwy & E 5 St.csv\n",
      "No departures for E 156 St & Brook Ave.csv\n",
      "No departures for Van Cortlandt Park S & Gouverneur Ave.csv\n",
      "No departures for 51 Ave & Corona Ave.csv\n",
      "No departures for Manhattan Ave & Leonard St.csv\n"
     ]
    }
   ],
   "execution_count": 30
  },
  {
   "metadata": {
    "ExecuteTime": {
     "end_time": "2024-06-12T15:35:18.102557Z",
     "start_time": "2024-06-12T15:35:15.239873Z"
    }
   },
   "cell_type": "code",
   "source": [
    "start_date = query.get_datetime(2023, 5, 1, 0, 0, 0)\n",
    "end_date = query.get_datetime(2023, 6, 30, 0, 0, 0)\n",
    "parameter.get_rate('2 Ave & E 29 St',start_date=start_date, end_date=end_date, length=datetime.timedelta(hours=1))"
   ],
   "outputs": [
    {
     "data": {
      "text/plain": [
       "array([ 2.66666667,  1.02222222,  0.53333333,  0.33333333,  0.55555556,\n",
       "        1.75555556,  4.57777778,  9.51111111, 18.4       , 12.57777778,\n",
       "        7.84444444,  8.37777778,  8.84444444,  9.15555556, 11.15555556,\n",
       "       13.06666667, 16.68888889, 23.82222222, 22.22222222, 16.88888889,\n",
       "       11.11111111,  8.24444444,  6.42222222,  4.53333333])"
      ]
     },
     "execution_count": 52,
     "metadata": {},
     "output_type": "execute_result"
    }
   ],
   "execution_count": 52
  },
  {
   "metadata": {
    "ExecuteTime": {
     "end_time": "2024-06-12T15:16:11.445100Z",
     "start_time": "2024-06-12T15:16:09.510034Z"
    }
   },
   "cell_type": "code",
   "source": [
    "data = pd.read_csv('data/2023/by_station/Cooper Square & Astor Pl.csv', low_memory=False, index_col=0)\n",
    "data.dropna(axis=\"rows\", inplace=True)\n",
    "data = query.make_datetime(data)"
   ],
   "outputs": [],
   "execution_count": 12
  },
  {
   "metadata": {
    "ExecuteTime": {
     "end_time": "2024-06-12T16:33:13.713085Z",
     "start_time": "2024-06-12T16:33:04.761623Z"
    }
   },
   "cell_type": "code",
   "source": [
    "start_time = query.get_datetime(2023, 5, 1, 0, 0, 0)\n",
    "end_time = query.get_datetime(2023, 8, 30, 0, 0, 0)\n",
    "length = datetime.timedelta(hours=1)\n",
    "\n",
    "cut_df = query.select_time(data, start_time, end_time)\n",
    "stations_transition_by_hour = {hour: {} for hour in range(24)}\n",
    "trip_count = {i: 0 for i in range(24)}\n",
    "\n",
    "weekdays = parameter.get_weekdays_and_weekends(start_time, end_time)[0]\n",
    "total_unique_stations = len(cut_df['end_station_name'].unique())\n",
    "for day in weekdays:\n",
    "    end_time = day + datetime.timedelta(days=1)\n",
    "    cut_list = parameter.cut(cut_df, day, end_time, length)\n",
    "    for i in range(len(cut_list)):\n",
    "        total_trips = 0\n",
    "        for station in cut_list[i]['end_station_name'].unique():\n",
    "            station_trips = len(cut_list[i].loc[cut_list[i]['end_station_name'] == station])\n",
    "            total_trips += station_trips\n",
    "            if station in stations_transition_by_hour[i]:\n",
    "                stations_transition_by_hour[i][station] += station_trips\n",
    "            else:\n",
    "                stations_transition_by_hour[i][station] = station_trips\n",
    "        trip_count[i] += total_trips"
   ],
   "outputs": [],
   "execution_count": 96
  },
  {
   "metadata": {
    "ExecuteTime": {
     "end_time": "2024-06-12T16:33:13.727564Z",
     "start_time": "2024-06-12T16:33:13.714944Z"
    }
   },
   "cell_type": "code",
   "source": [
    "transitions = []\n",
    "total_total = 0\n",
    "\n",
    "total_low = 0\n",
    "total_mid = 0   \n",
    "total_high = 0\n",
    "\n",
    "total_num_low = 0\n",
    "total_num_mid = 0\n",
    "total_num_high = 0\n",
    "\n",
    "for hour in stations_transition_by_hour:\n",
    "    num_stations = len(stations_transition_by_hour[hour])\n",
    "    total_hour = 0\n",
    "    \n",
    "    hour_low = 0\n",
    "    hour_mid = 0   \n",
    "    hour_high = 0\n",
    "    \n",
    "    num_low = 0\n",
    "    num_mid = 0\n",
    "    num_high = 0\n",
    "    \n",
    "    num_unique_stations = len(stations_transition_by_hour[hour])\n",
    "    for station in stations_transition_by_hour[hour]:\n",
    "        num = stations_transition_by_hour[hour][station]\n",
    "        total_hour += num\n",
    "        if  num/trip_count[hour] < 1/(3*num_unique_stations):\n",
    "            num_low +=1\n",
    "            hour_low += num\n",
    "        elif num/trip_count[hour] < 1/(2*num_unique_stations):\n",
    "            num_mid +=1\n",
    "            hour_mid += num\n",
    "        else:\n",
    "            num_high += 1\n",
    "            hour_high += num\n",
    "            \n",
    "    print(f'In hour: {hour} there was {total_hour} observations and {num_unique_stations} unique stations')\n",
    "    print(f'Low: {num_low} stations, Mid: {num_mid} stations, High: {num_high} stations')\n",
    "    print(f'Low: {hour_low/total_hour}, Mid: {hour_mid/total_hour}, High: {hour_high/total_hour}')\n",
    "    print()\n",
    "    \n",
    "    total_total += total_hour\n",
    "    \n",
    "    total_low += hour_low\n",
    "    total_mid += hour_mid\n",
    "    total_high += hour_high\n",
    "    \n",
    "    total_num_low += num_low\n",
    "    total_num_mid += num_mid\n",
    "    total_num_high += num_high\n",
    "\n",
    "print()\n",
    "print(f'Over the entire period: {start_time} to {end_time} there was {total_total} observations and {total_unique_stations} total unique stations')\n",
    "print(f'Low: {total_low/total_total}, Mid: {total_mid/total_total}, High: {total_high/total_total}') "
   ],
   "outputs": [
    {
     "name": "stdout",
     "output_type": "stream",
     "text": [
      "In hour: 0 there was 226 observations and 108 unique stations\n",
      "Low: 0 stations, Mid: 63 stations, High: 45 stations\n",
      "Low: 0.0, Mid: 0.27876106194690264, High: 0.7212389380530974\n",
      "\n",
      "In hour: 1 there was 109 observations and 72 unique stations\n",
      "Low: 0 stations, Mid: 0 stations, High: 72 stations\n",
      "Low: 0.0, Mid: 0.0, High: 1.0\n",
      "\n",
      "In hour: 2 there was 62 observations and 43 unique stations\n",
      "Low: 0 stations, Mid: 0 stations, High: 43 stations\n",
      "Low: 0.0, Mid: 0.0, High: 1.0\n",
      "\n",
      "In hour: 3 there was 33 observations and 27 unique stations\n",
      "Low: 0 stations, Mid: 0 stations, High: 27 stations\n",
      "Low: 0.0, Mid: 0.0, High: 1.0\n",
      "\n",
      "In hour: 4 there was 24 observations and 19 unique stations\n",
      "Low: 0 stations, Mid: 0 stations, High: 19 stations\n",
      "Low: 0.0, Mid: 0.0, High: 1.0\n",
      "\n",
      "In hour: 5 there was 81 observations and 30 unique stations\n",
      "Low: 0 stations, Mid: 22 stations, High: 8 stations\n",
      "Low: 0.0, Mid: 0.2716049382716049, High: 0.7283950617283951\n",
      "\n",
      "In hour: 6 there was 400 observations and 132 unique stations\n",
      "Low: 70 stations, Mid: 0 stations, High: 62 stations\n",
      "Low: 0.175, Mid: 0.0, High: 0.825\n",
      "\n",
      "In hour: 7 there was 878 observations and 214 unique stations\n",
      "Low: 91 stations, Mid: 37 stations, High: 86 stations\n",
      "Low: 0.10364464692482915, Mid: 0.08428246013667426, High: 0.8120728929384966\n",
      "\n",
      "In hour: 8 there was 1279 observations and 270 unique stations\n",
      "Low: 101 stations, Mid: 41 stations, High: 128 stations\n",
      "Low: 0.07896794370602032, Mid: 0.06411258795934324, High: 0.8569194683346364\n",
      "\n",
      "In hour: 9 there was 895 observations and 252 unique stations\n",
      "Low: 92 stations, Mid: 0 stations, High: 160 stations\n",
      "Low: 0.10279329608938548, Mid: 0.0, High: 0.8972067039106145\n",
      "\n",
      "In hour: 10 there was 684 observations and 230 unique stations\n",
      "Low: 0 stations, Mid: 88 stations, High: 142 stations\n",
      "Low: 0.0, Mid: 0.1286549707602339, High: 0.8713450292397661\n",
      "\n",
      "In hour: 11 there was 738 observations and 236 unique stations\n",
      "Low: 93 stations, Mid: 0 stations, High: 143 stations\n",
      "Low: 0.12601626016260162, Mid: 0.0, High: 0.8739837398373984\n",
      "\n",
      "In hour: 12 there was 921 observations and 264 unique stations\n",
      "Low: 110 stations, Mid: 0 stations, High: 154 stations\n",
      "Low: 0.11943539630836048, Mid: 0.0, High: 0.8805646036916395\n",
      "\n",
      "In hour: 13 there was 979 observations and 268 unique stations\n",
      "Low: 109 stations, Mid: 0 stations, High: 159 stations\n",
      "Low: 0.11133810010214505, Mid: 0.0, High: 0.8886618998978549\n",
      "\n",
      "In hour: 14 there was 1028 observations and 287 unique stations\n",
      "Low: 107 stations, Mid: 0 stations, High: 180 stations\n",
      "Low: 0.10408560311284047, Mid: 0.0, High: 0.8959143968871596\n",
      "\n",
      "In hour: 15 there was 1188 observations and 328 unique stations\n",
      "Low: 120 stations, Mid: 0 stations, High: 208 stations\n",
      "Low: 0.10101010101010101, Mid: 0.0, High: 0.898989898989899\n",
      "\n",
      "In hour: 16 there was 1543 observations and 332 unique stations\n",
      "Low: 135 stations, Mid: 46 stations, High: 151 stations\n",
      "Low: 0.08749189889825017, Mid: 0.059624108878807515, High: 0.8528839922229423\n",
      "\n",
      "In hour: 17 there was 2178 observations and 372 unique stations\n",
      "Low: 119 stations, Mid: 53 stations, High: 200 stations\n",
      "Low: 0.05463728191000918, Mid: 0.048668503213957756, High: 0.8966942148760331\n",
      "\n",
      "In hour: 18 there was 2457 observations and 424 unique stations\n",
      "Low: 162 stations, Mid: 61 stations, High: 201 stations\n",
      "Low: 0.06593406593406594, Mid: 0.04965404965404965, High: 0.8844118844118845\n",
      "\n",
      "In hour: 19 there was 1999 observations and 379 unique stations\n",
      "Low: 143 stations, Mid: 41 stations, High: 195 stations\n",
      "Low: 0.07153576788394198, Mid: 0.04102051025512756, High: 0.8874437218609305\n",
      "\n",
      "In hour: 20 there was 1386 observations and 326 unique stations\n",
      "Low: 133 stations, Mid: 47 stations, High: 146 stations\n",
      "Low: 0.09595959595959595, Mid: 0.06782106782106782, High: 0.8362193362193362\n",
      "\n",
      "In hour: 21 there was 1162 observations and 295 unique stations\n",
      "Low: 110 stations, Mid: 0 stations, High: 185 stations\n",
      "Low: 0.09466437177280551, Mid: 0.0, High: 0.9053356282271945\n",
      "\n",
      "In hour: 22 there was 857 observations and 249 unique stations\n",
      "Low: 109 stations, Mid: 0 stations, High: 140 stations\n",
      "Low: 0.12718786464410736, Mid: 0.0, High: 0.8728121353558926\n",
      "\n",
      "In hour: 23 there was 572 observations and 225 unique stations\n",
      "Low: 0 stations, Mid: 119 stations, High: 106 stations\n",
      "Low: 0.0, Mid: 0.20804195804195805, High: 0.791958041958042\n",
      "\n",
      "\n",
      "Over the entire period: 2023-05-01 00:00:00 to 2023-08-31 00:00:00 there was 21679 observations and 918 total unique stations\n",
      "Low: 0.08321417039531344, Mid: 0.04354444393191568, High: 0.8732413856727709\n"
     ]
    }
   ],
   "execution_count": 97
  },
  {
   "metadata": {
    "ExecuteTime": {
     "end_time": "2024-06-12T15:34:23.270526Z",
     "start_time": "2024-06-12T15:34:23.035333Z"
    }
   },
   "cell_type": "code",
   "source": "plt.plot(transitions)",
   "outputs": [
    {
     "data": {
      "text/plain": [
       "[<matplotlib.lines.Line2D at 0x139b0b940>]"
      ]
     },
     "execution_count": 51,
     "metadata": {},
     "output_type": "execute_result"
    },
    {
     "data": {
      "text/plain": [
       "<Figure size 640x480 with 1 Axes>"
      ],
      "image/png": "[encoded data removed]"
     },
     "metadata": {},
     "output_type": "display_data"
    }
   ],
   "execution_count": 51
  },
  {
   "metadata": {},
   "cell_type": "code",
   "outputs": [],
   "execution_count": null,
   "source": ""
  }
 ],
 "metadata": {
  "kernelspec": {
   "display_name": "Python 3",
   "language": "python",
   "name": "python3"
  },
  "language_info": {
   "codemirror_mode": {
    "name": "ipython",
    "version": 3
   },
   "file_extension": ".py",
   "mimetype": "text/x-python",
   "name": "python",
   "nbconvert_exporter": "python",
   "pygments_lexer": "ipython3",
   "version": "3.11.4"
  },
  "orig_nbformat": 4
 },
 "nbformat": 4,
 "nbformat_minor": 2
}
