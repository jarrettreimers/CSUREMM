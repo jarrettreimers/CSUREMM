{
 "cells": [
  {
   "cell_type": "code",
   "execution_count": 7,
   "metadata": {},
   "outputs": [],
   "source": [
    "#########################################\n",
    "# Test functions and non-permanant code #\n",
    "# Author: Jarrett Reimers               #\n",
    "# Keep as a reference, do not edit      #\n",
    "#########################################\n",
    "\n",
    "import pandas as pd\n",
    "import os\n",
    "import datetime\n",
    "\n",
    "from query import Query\n",
    "from stations import Stations\n",
    "\n",
    "from matplotlib import pyplot"
   ]
  },
  {
   "cell_type": "code",
   "execution_count": 2,
   "metadata": {},
   "outputs": [
    {
     "data": {
      "text/html": [
       "<div>\n",
       "<style scoped>\n",
       "    .dataframe tbody tr th:only-of-type {\n",
       "        vertical-align: middle;\n",
       "    }\n",
       "\n",
       "    .dataframe tbody tr th {\n",
       "        vertical-align: top;\n",
       "    }\n",
       "\n",
       "    .dataframe thead th {\n",
       "        text-align: right;\n",
       "    }\n",
       "</style>\n",
       "<table border=\"1\" class=\"dataframe\">\n",
       "  <thead>\n",
       "    <tr style=\"text-align: right;\">\n",
       "      <th></th>\n",
       "      <th>tripduration</th>\n",
       "      <th>starttime</th>\n",
       "      <th>stoptime</th>\n",
       "      <th>start station id</th>\n",
       "      <th>start station name</th>\n",
       "      <th>start station latitude</th>\n",
       "      <th>start station longitude</th>\n",
       "      <th>end station id</th>\n",
       "      <th>end station name</th>\n",
       "      <th>end station latitude</th>\n",
       "      <th>end station longitude</th>\n",
       "      <th>bikeid</th>\n",
       "      <th>usertype</th>\n",
       "      <th>birth year</th>\n",
       "      <th>gender</th>\n",
       "    </tr>\n",
       "  </thead>\n",
       "  <tbody>\n",
       "    <tr>\n",
       "      <th>0</th>\n",
       "      <td>415</td>\n",
       "      <td>2015-05-01 00:00:11</td>\n",
       "      <td>5/1/2015 00:07:06</td>\n",
       "      <td>477</td>\n",
       "      <td>W 41 St &amp; 8 Ave</td>\n",
       "      <td>40.756405</td>\n",
       "      <td>-73.990026</td>\n",
       "      <td>442</td>\n",
       "      <td>W 27 St &amp; 7 Ave</td>\n",
       "      <td>40.746647</td>\n",
       "      <td>-73.993915</td>\n",
       "      <td>17012</td>\n",
       "      <td>Subscriber</td>\n",
       "      <td>1981.0</td>\n",
       "      <td>1</td>\n",
       "    </tr>\n",
       "    <tr>\n",
       "      <th>1</th>\n",
       "      <td>1523</td>\n",
       "      <td>2015-05-01 00:00:28</td>\n",
       "      <td>5/1/2015 00:25:52</td>\n",
       "      <td>293</td>\n",
       "      <td>Lafayette St &amp; E 8 St</td>\n",
       "      <td>40.730287</td>\n",
       "      <td>-73.990765</td>\n",
       "      <td>324</td>\n",
       "      <td>DeKalb Ave &amp; Hudson Ave</td>\n",
       "      <td>40.689888</td>\n",
       "      <td>-73.981013</td>\n",
       "      <td>17390</td>\n",
       "      <td>Customer</td>\n",
       "      <td>NaN</td>\n",
       "      <td>0</td>\n",
       "    </tr>\n",
       "    <tr>\n",
       "      <th>2</th>\n",
       "      <td>642</td>\n",
       "      <td>2015-05-01 00:00:52</td>\n",
       "      <td>5/1/2015 00:11:35</td>\n",
       "      <td>380</td>\n",
       "      <td>W 4 St &amp; 7 Ave S</td>\n",
       "      <td>40.734011</td>\n",
       "      <td>-74.002939</td>\n",
       "      <td>507</td>\n",
       "      <td>E 25 St &amp; 2 Ave</td>\n",
       "      <td>40.739126</td>\n",
       "      <td>-73.979738</td>\n",
       "      <td>15003</td>\n",
       "      <td>Subscriber</td>\n",
       "      <td>1990.0</td>\n",
       "      <td>1</td>\n",
       "    </tr>\n",
       "    <tr>\n",
       "      <th>3</th>\n",
       "      <td>367</td>\n",
       "      <td>2015-05-01 00:00:48</td>\n",
       "      <td>5/1/2015 00:06:55</td>\n",
       "      <td>537</td>\n",
       "      <td>Lexington Ave &amp; E 24 St</td>\n",
       "      <td>40.740259</td>\n",
       "      <td>-73.984092</td>\n",
       "      <td>280</td>\n",
       "      <td>E 10 St &amp; 5 Ave</td>\n",
       "      <td>40.733320</td>\n",
       "      <td>-73.995101</td>\n",
       "      <td>14788</td>\n",
       "      <td>Subscriber</td>\n",
       "      <td>1978.0</td>\n",
       "      <td>1</td>\n",
       "    </tr>\n",
       "    <tr>\n",
       "      <th>4</th>\n",
       "      <td>2734</td>\n",
       "      <td>2015-05-01 00:00:51</td>\n",
       "      <td>5/1/2015 00:46:26</td>\n",
       "      <td>426</td>\n",
       "      <td>West St &amp; Chambers St</td>\n",
       "      <td>40.717548</td>\n",
       "      <td>-74.013221</td>\n",
       "      <td>327</td>\n",
       "      <td>Vesey Pl &amp; River Terrace</td>\n",
       "      <td>40.715338</td>\n",
       "      <td>-74.016584</td>\n",
       "      <td>21068</td>\n",
       "      <td>Subscriber</td>\n",
       "      <td>1956.0</td>\n",
       "      <td>2</td>\n",
       "    </tr>\n",
       "  </tbody>\n",
       "</table>\n",
       "</div>"
      ],
      "text/plain": [
       "   tripduration           starttime           stoptime  start station id  \\\n",
       "0           415 2015-05-01 00:00:11  5/1/2015 00:07:06               477   \n",
       "1          1523 2015-05-01 00:00:28  5/1/2015 00:25:52               293   \n",
       "2           642 2015-05-01 00:00:52  5/1/2015 00:11:35               380   \n",
       "3           367 2015-05-01 00:00:48  5/1/2015 00:06:55               537   \n",
       "4          2734 2015-05-01 00:00:51  5/1/2015 00:46:26               426   \n",
       "\n",
       "        start station name  start station latitude  start station longitude  \\\n",
       "0          W 41 St & 8 Ave               40.756405               -73.990026   \n",
       "1    Lafayette St & E 8 St               40.730287               -73.990765   \n",
       "2         W 4 St & 7 Ave S               40.734011               -74.002939   \n",
       "3  Lexington Ave & E 24 St               40.740259               -73.984092   \n",
       "4    West St & Chambers St               40.717548               -74.013221   \n",
       "\n",
       "   end station id          end station name  end station latitude  \\\n",
       "0             442           W 27 St & 7 Ave             40.746647   \n",
       "1             324   DeKalb Ave & Hudson Ave             40.689888   \n",
       "2             507           E 25 St & 2 Ave             40.739126   \n",
       "3             280           E 10 St & 5 Ave             40.733320   \n",
       "4             327  Vesey Pl & River Terrace             40.715338   \n",
       "\n",
       "   end station longitude  bikeid    usertype  birth year  gender  \n",
       "0             -73.993915   17012  Subscriber      1981.0       1  \n",
       "1             -73.981013   17390    Customer         NaN       0  \n",
       "2             -73.979738   15003  Subscriber      1990.0       1  \n",
       "3             -73.995101   14788  Subscriber      1978.0       1  \n",
       "4             -74.016584   21068  Subscriber      1956.0       2  "
      ]
     },
     "execution_count": 2,
     "metadata": {},
     "output_type": "execute_result"
    }
   ],
   "source": [
    "data = pd.read_csv(\"data/2015/5/1.csv\")\n",
    "\n",
    "starttimes = []\n",
    "for starttime in data['starttime']:\n",
    "  starttimes.append(datetime.datetime.strptime(starttime, \"%m/%d/%Y %H:%M:%S\"))\n",
    "data['starttime'] = starttimes\n",
    "\n",
    "data.head()"
   ]
  },
  {
   "cell_type": "code",
   "execution_count": 20,
   "metadata": {},
   "outputs": [],
   "source": [
    "query = Query()\n",
    "start_time = query.get_datetime(2015, 5, 1, 0, 0, 0)\n",
    "end_time = query.get_datetime(2015, 5, 2, 0, 0, 0)\n",
    "one_day = query.select_time(data, start_time, end_time)\n"
   ]
  },
  {
   "cell_type": "code",
   "execution_count": 21,
   "metadata": {},
   "outputs": [],
   "source": [
    "stations = Stations()\n",
    "stations.add_data(one_day)"
   ]
  },
  {
   "cell_type": "code",
   "execution_count": 22,
   "metadata": {},
   "outputs": [
    {
     "data": {
      "text/plain": [
       "[<matplotlib.lines.Line2D at 0x16a634b10>]"
      ]
     },
     "execution_count": 22,
     "metadata": {},
     "output_type": "execute_result"
    },
    {
     "data": {
      "image/png": "[encoded data removed]",
      "text/plain": [
       "<Figure size 640x480 with 1 Axes>"
      ]
     },
     "metadata": {},
     "output_type": "display_data"
    }
   ],
   "source": [
    "pyplot.plot(range(len(stations.stations_count)), stations.stations_count.values())"
   ]
  },
  {
   "cell_type": "code",
   "execution_count": 24,
   "metadata": {},
   "outputs": [
    {
     "name": "stdout",
     "output_type": "stream",
     "text": [
      "The maximum is at station: 496 . With 69 bikes at end of period\n"
     ]
    }
   ],
   "source": [
    "maximum = 0\n",
    "max_station = 0\n",
    "for station in stations.stations_count:\n",
    "  if stations.stations_count[station] > maximum:\n",
    "    max_station = station\n",
    "    maximum = stations.stations_count[station]\n",
    "print(\"The maximum is at station:\", max_station, \". With\", maximum, \"bikes at end of period\")"
   ]
  },
  {
   "cell_type": "code",
   "execution_count": 25,
   "metadata": {},
   "outputs": [
    {
     "name": "stdout",
     "output_type": "stream",
     "text": [
      "The minimum is at station: 324 . With -61 bikes at end of period\n"
     ]
    }
   ],
   "source": [
    "minimum = 0\n",
    "min_station = 0\n",
    "for station in stations.stations_count:\n",
    "  if stations.stations_count[station] < minimum:\n",
    "    min_station = station\n",
    "    minimum = stations.stations_count[station]\n",
    "print(\"The minimum is at station:\", min_station, \". With\", minimum, \"bikes at end of period\")"
   ]
  },
  {
   "cell_type": "code",
   "execution_count": null,
   "metadata": {},
   "outputs": [],
   "source": []
  }
 ],
 "metadata": {
  "kernelspec": {
   "display_name": "Python 3",
   "language": "python",
   "name": "python3"
  },
  "language_info": {
   "codemirror_mode": {
    "name": "ipython",
    "version": 3
   },
   "file_extension": ".py",
   "mimetype": "text/x-python",
   "name": "python",
   "nbconvert_exporter": "python",
   "pygments_lexer": "ipython3",
   "version": "3.11.4"
  },
  "orig_nbformat": 4
 },
 "nbformat": 4,
 "nbformat_minor": 2
}
